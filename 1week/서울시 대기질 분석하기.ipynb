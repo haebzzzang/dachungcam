{
 "cells": [
  {
   "cell_type": "markdown",
   "metadata": {},
   "source": [
    "공공데이터포털(www.data.go.kr) - 서울특별시 대기질 자료(미세먼지, 초미세먼지) 데이터"
   ]
  },
  {
   "cell_type": "code",
   "execution_count": 74,
   "metadata": {},
   "outputs": [],
   "source": [
    "import pandas as pd\n",
    "import numpy as np"
   ]
  },
  {
   "cell_type": "markdown",
   "metadata": {},
   "source": [
    "#### 가) 데이터 불러오기 및 열 이름 변경"
   ]
  },
  {
   "cell_type": "markdown",
   "metadata": {},
   "source": [
    "##### a) 다운받은 csv 형식의 파일을 pnadas로 불러오세요. (변수명 : data_raw)"
   ]
  },
  {
   "cell_type": "code",
   "execution_count": 75,
   "metadata": {},
   "outputs": [
    {
     "data": {
      "text/html": [
       "<div>\n",
       "<style scoped>\n",
       "    .dataframe tbody tr th:only-of-type {\n",
       "        vertical-align: middle;\n",
       "    }\n",
       "\n",
       "    .dataframe tbody tr th {\n",
       "        vertical-align: top;\n",
       "    }\n",
       "\n",
       "    .dataframe thead th {\n",
       "        text-align: right;\n",
       "    }\n",
       "</style>\n",
       "<table border=\"1\" class=\"dataframe\">\n",
       "  <thead>\n",
       "    <tr style=\"text-align: right;\">\n",
       "      <th></th>\n",
       "      <th>일시</th>\n",
       "      <th>구분</th>\n",
       "      <th>미세먼지(PM10)</th>\n",
       "      <th>초미세먼지(PM25)</th>\n",
       "    </tr>\n",
       "  </thead>\n",
       "  <tbody>\n",
       "    <tr>\n",
       "      <th>0</th>\n",
       "      <td>2021-05-31 23:00</td>\n",
       "      <td>평균</td>\n",
       "      <td>43.0</td>\n",
       "      <td>23.0</td>\n",
       "    </tr>\n",
       "    <tr>\n",
       "      <th>1</th>\n",
       "      <td>2021-05-31 23:00</td>\n",
       "      <td>강남구</td>\n",
       "      <td>42.0</td>\n",
       "      <td>24.0</td>\n",
       "    </tr>\n",
       "    <tr>\n",
       "      <th>2</th>\n",
       "      <td>2021-05-31 23:00</td>\n",
       "      <td>강동구</td>\n",
       "      <td>47.0</td>\n",
       "      <td>30.0</td>\n",
       "    </tr>\n",
       "  </tbody>\n",
       "</table>\n",
       "</div>"
      ],
      "text/plain": [
       "                 일시   구분  미세먼지(PM10)  초미세먼지(PM25)\n",
       "0  2021-05-31 23:00   평균        43.0         23.0\n",
       "1  2021-05-31 23:00  강남구        42.0         24.0\n",
       "2  2021-05-31 23:00  강동구        47.0         30.0"
      ]
     },
     "execution_count": 75,
     "metadata": {},
     "output_type": "execute_result"
    }
   ],
   "source": [
    "data_raw = pd.read_csv('data/서울시 대기질 자료 제공_2020-2021.csv', encoding = 'cp949')\n",
    "data_raw.head(3)"
   ]
  },
  {
   "cell_type": "markdown",
   "metadata": {},
   "source": [
    "##### b) 데이터셋의 속성을 확인하세요. 위 데이터는 몇행 몇열로 이루어져 있나요?"
   ]
  },
  {
   "cell_type": "code",
   "execution_count": 76,
   "metadata": {},
   "outputs": [
    {
     "data": {
      "text/plain": [
       "(322606, 4)"
      ]
     },
     "execution_count": 76,
     "metadata": {},
     "output_type": "execute_result"
    }
   ],
   "source": [
    "data_raw.shape"
   ]
  },
  {
   "cell_type": "markdown",
   "metadata": {},
   "source": [
    "A. 322606행, 4열"
   ]
  },
  {
   "cell_type": "markdown",
   "metadata": {},
   "source": [
    "##### c) 열 이름을 아래와 같이 변경하세요.\n",
    "일시 : DateTime, 구분 : Gu, 미세먼지(PM10) : PM10, 초미세먼지(PM25) : PM2.5"
   ]
  },
  {
   "cell_type": "code",
   "execution_count": 77,
   "metadata": {},
   "outputs": [
    {
     "data": {
      "text/plain": [
       "Index(['DateTime', 'Gu', 'PM10', 'PM2.5'], dtype='object')"
      ]
     },
     "execution_count": 77,
     "metadata": {},
     "output_type": "execute_result"
    }
   ],
   "source": [
    "data_raw.columns = ['DateTime', 'Gu', 'PM10', 'PM2.5']\n",
    "data_raw.columns"
   ]
  },
  {
   "cell_type": "code",
   "execution_count": 78,
   "metadata": {},
   "outputs": [
    {
     "data": {
      "text/plain": [
       "Index(['DateTime', 'Gu', 'PM10', 'PM2.5'], dtype='object')"
      ]
     },
     "execution_count": 78,
     "metadata": {},
     "output_type": "execute_result"
    }
   ],
   "source": [
    "data_raw.rename(columns = {'일시':'DateTime', '구분':'Gu', '미세먼지(PM10)':'PM10', '초미세먼지(PM25)':'PM2.5'}, inplace = True)\n",
    "data_raw.columns"
   ]
  },
  {
   "cell_type": "markdown",
   "metadata": {},
   "source": [
    "`.columns`는 모든 column의 갯수만큼 반환해야하고, `rename`은 필요한 피쳐의 이름만 변경 가능"
   ]
  },
  {
   "cell_type": "markdown",
   "metadata": {},
   "source": [
    "#### 나) 변환하기"
   ]
  },
  {
   "cell_type": "markdown",
   "metadata": {},
   "source": [
    "##### a) 위에서 'DateTime' 열의 데이터 클래스는 무엇인가요? (문자 or 숫자)"
   ]
  },
  {
   "cell_type": "code",
   "execution_count": 79,
   "metadata": {},
   "outputs": [
    {
     "data": {
      "text/plain": [
       "DateTime     object\n",
       "Gu           object\n",
       "PM10        float64\n",
       "PM2.5       float64\n",
       "dtype: object"
      ]
     },
     "execution_count": 79,
     "metadata": {},
     "output_type": "execute_result"
    }
   ],
   "source": [
    "data_raw.dtypes"
   ]
  },
  {
   "cell_type": "markdown",
   "metadata": {},
   "source": [
    "A. 문자 클래스"
   ]
  },
  {
   "cell_type": "markdown",
   "metadata": {},
   "source": [
    "##### b) 아래 pandas의 to_datetime 함수를 이용하여 시간 타입(datetime)으로 변환하여 datetime이라는 변수를 추가하세요."
   ]
  },
  {
   "cell_type": "code",
   "execution_count": 80,
   "metadata": {},
   "outputs": [
    {
     "data": {
      "text/plain": [
       "0        2021-05-31 23:00:00\n",
       "1        2021-05-31 23:00:00\n",
       "2        2021-05-31 23:00:00\n",
       "3        2021-05-31 23:00:00\n",
       "4        2021-05-31 23:00:00\n",
       "                 ...        \n",
       "322601   2020-01-01 00:00:00\n",
       "322602   2020-01-01 00:00:00\n",
       "322603   2020-01-01 00:00:00\n",
       "322604   2020-01-01 00:00:00\n",
       "322605   2020-01-01 00:00:00\n",
       "Name: datetime, Length: 322606, dtype: datetime64[ns]"
      ]
     },
     "execution_count": 80,
     "metadata": {},
     "output_type": "execute_result"
    }
   ],
   "source": [
    "data_raw['datetime'] = pd.to_datetime(data_raw['DateTime'], format = '%Y-%m-%d %H:%M')\n",
    "data_raw['datetime']"
   ]
  },
  {
   "cell_type": "markdown",
   "metadata": {},
   "source": [
    "##### c) 변경 후, \"datetime\" 열의 데이터 클래스를 다시 확인하세요."
   ]
  },
  {
   "cell_type": "code",
   "execution_count": 81,
   "metadata": {},
   "outputs": [
    {
     "data": {
      "text/plain": [
       "DateTime            object\n",
       "Gu                  object\n",
       "PM10               float64\n",
       "PM2.5              float64\n",
       "datetime    datetime64[ns]\n",
       "dtype: object"
      ]
     },
     "execution_count": 81,
     "metadata": {},
     "output_type": "execute_result"
    }
   ],
   "source": [
    "data_raw.dtypes"
   ]
  },
  {
   "cell_type": "markdown",
   "metadata": {},
   "source": [
    "A. datetime64[ns] 클래스"
   ]
  },
  {
   "cell_type": "markdown",
   "metadata": {},
   "source": [
    "##### d) \"datetime\" 열에서 연월일(yyyymmdd)와 시분(hhmm)을 추출하여 새로운 열을 아래와 같이 추가하세요."
   ]
  },
  {
   "cell_type": "markdown",
   "metadata": {},
   "source": [
    "`strftime()` 메소드는 Datetime을 형식 코드로 입력, 출력에 지정된 특정 형식을 나타내는 문자열을 반환"
   ]
  },
  {
   "cell_type": "code",
   "execution_count": 82,
   "metadata": {},
   "outputs": [
    {
     "data": {
      "text/html": [
       "<div>\n",
       "<style scoped>\n",
       "    .dataframe tbody tr th:only-of-type {\n",
       "        vertical-align: middle;\n",
       "    }\n",
       "\n",
       "    .dataframe tbody tr th {\n",
       "        vertical-align: top;\n",
       "    }\n",
       "\n",
       "    .dataframe thead th {\n",
       "        text-align: right;\n",
       "    }\n",
       "</style>\n",
       "<table border=\"1\" class=\"dataframe\">\n",
       "  <thead>\n",
       "    <tr style=\"text-align: right;\">\n",
       "      <th></th>\n",
       "      <th>DateTime</th>\n",
       "      <th>Gu</th>\n",
       "      <th>PM10</th>\n",
       "      <th>PM2.5</th>\n",
       "      <th>datetime</th>\n",
       "      <th>yyyymmdd</th>\n",
       "      <th>hhmm</th>\n",
       "    </tr>\n",
       "  </thead>\n",
       "  <tbody>\n",
       "    <tr>\n",
       "      <th>0</th>\n",
       "      <td>2021-05-31 23:00</td>\n",
       "      <td>평균</td>\n",
       "      <td>43.0</td>\n",
       "      <td>23.0</td>\n",
       "      <td>2021-05-31 23:00:00</td>\n",
       "      <td>20210531</td>\n",
       "      <td>2300</td>\n",
       "    </tr>\n",
       "    <tr>\n",
       "      <th>1</th>\n",
       "      <td>2021-05-31 23:00</td>\n",
       "      <td>강남구</td>\n",
       "      <td>42.0</td>\n",
       "      <td>24.0</td>\n",
       "      <td>2021-05-31 23:00:00</td>\n",
       "      <td>20210531</td>\n",
       "      <td>2300</td>\n",
       "    </tr>\n",
       "    <tr>\n",
       "      <th>2</th>\n",
       "      <td>2021-05-31 23:00</td>\n",
       "      <td>강동구</td>\n",
       "      <td>47.0</td>\n",
       "      <td>30.0</td>\n",
       "      <td>2021-05-31 23:00:00</td>\n",
       "      <td>20210531</td>\n",
       "      <td>2300</td>\n",
       "    </tr>\n",
       "  </tbody>\n",
       "</table>\n",
       "</div>"
      ],
      "text/plain": [
       "           DateTime   Gu  PM10  PM2.5            datetime  yyyymmdd  hhmm\n",
       "0  2021-05-31 23:00   평균  43.0   23.0 2021-05-31 23:00:00  20210531  2300\n",
       "1  2021-05-31 23:00  강남구  42.0   24.0 2021-05-31 23:00:00  20210531  2300\n",
       "2  2021-05-31 23:00  강동구  47.0   30.0 2021-05-31 23:00:00  20210531  2300"
      ]
     },
     "execution_count": 82,
     "metadata": {},
     "output_type": "execute_result"
    }
   ],
   "source": [
    "data_raw['yyyymmdd'] = data_raw['datetime'].dt.strftime('%Y%m%d')\n",
    "data_raw['hhmm'] = data_raw['datetime'].dt.strftime('%H%M')\n",
    "data_raw.head(3)"
   ]
  },
  {
   "cell_type": "markdown",
   "metadata": {},
   "source": [
    "##### e) 'datetime' 열은 drop 함수를 사용하여 삭제하여 줍니다."
   ]
  },
  {
   "cell_type": "code",
   "execution_count": 83,
   "metadata": {},
   "outputs": [],
   "source": [
    "data_raw = data_raw.drop(['datetime'], axis = 1)"
   ]
  },
  {
   "cell_type": "markdown",
   "metadata": {},
   "source": [
    "#### 다) 분석하기"
   ]
  },
  {
   "cell_type": "markdown",
   "metadata": {},
   "source": [
    "##### a) \"data_raw\"에서 추출한 데이터에서 서울시 시간별 모든 지역(미세먼지, 초미세먼지)의 평균값만을 추출하세요."
   ]
  },
  {
   "cell_type": "code",
   "execution_count": 84,
   "metadata": {},
   "outputs": [
    {
     "data": {
      "text/html": [
       "<div>\n",
       "<style scoped>\n",
       "    .dataframe tbody tr th:only-of-type {\n",
       "        vertical-align: middle;\n",
       "    }\n",
       "\n",
       "    .dataframe tbody tr th {\n",
       "        vertical-align: top;\n",
       "    }\n",
       "\n",
       "    .dataframe thead th {\n",
       "        text-align: right;\n",
       "    }\n",
       "</style>\n",
       "<table border=\"1\" class=\"dataframe\">\n",
       "  <thead>\n",
       "    <tr style=\"text-align: right;\">\n",
       "      <th></th>\n",
       "      <th>DateTime</th>\n",
       "      <th>Gu</th>\n",
       "      <th>PM10</th>\n",
       "      <th>PM2.5</th>\n",
       "      <th>yyyymmdd</th>\n",
       "      <th>hhmm</th>\n",
       "    </tr>\n",
       "  </thead>\n",
       "  <tbody>\n",
       "    <tr>\n",
       "      <th>0</th>\n",
       "      <td>2021-05-31 23:00</td>\n",
       "      <td>평균</td>\n",
       "      <td>43.0</td>\n",
       "      <td>23.0</td>\n",
       "      <td>20210531</td>\n",
       "      <td>2300</td>\n",
       "    </tr>\n",
       "    <tr>\n",
       "      <th>26</th>\n",
       "      <td>2021-05-31 22:00</td>\n",
       "      <td>평균</td>\n",
       "      <td>43.0</td>\n",
       "      <td>23.0</td>\n",
       "      <td>20210531</td>\n",
       "      <td>2200</td>\n",
       "    </tr>\n",
       "    <tr>\n",
       "      <th>52</th>\n",
       "      <td>2021-05-31 21:00</td>\n",
       "      <td>평균</td>\n",
       "      <td>45.0</td>\n",
       "      <td>25.0</td>\n",
       "      <td>20210531</td>\n",
       "      <td>2100</td>\n",
       "    </tr>\n",
       "  </tbody>\n",
       "</table>\n",
       "</div>"
      ],
      "text/plain": [
       "            DateTime  Gu  PM10  PM2.5  yyyymmdd  hhmm\n",
       "0   2021-05-31 23:00  평균  43.0   23.0  20210531  2300\n",
       "26  2021-05-31 22:00  평균  43.0   23.0  20210531  2200\n",
       "52  2021-05-31 21:00  평균  45.0   25.0  20210531  2100"
      ]
     },
     "execution_count": 84,
     "metadata": {},
     "output_type": "execute_result"
    }
   ],
   "source": [
    "data_raw_ave = data_raw[data_raw[\"Gu\"] == \"평균\"]\n",
    "data_raw_ave.head(3)"
   ]
  },
  {
   "cell_type": "markdown",
   "metadata": {},
   "source": [
    "##### b) a)에서 추출한 데이터를 시간에 따라 오름차순으로 정렬하세요."
   ]
  },
  {
   "cell_type": "code",
   "execution_count": 85,
   "metadata": {},
   "outputs": [
    {
     "data": {
      "text/html": [
       "<div>\n",
       "<style scoped>\n",
       "    .dataframe tbody tr th:only-of-type {\n",
       "        vertical-align: middle;\n",
       "    }\n",
       "\n",
       "    .dataframe tbody tr th {\n",
       "        vertical-align: top;\n",
       "    }\n",
       "\n",
       "    .dataframe thead th {\n",
       "        text-align: right;\n",
       "    }\n",
       "</style>\n",
       "<table border=\"1\" class=\"dataframe\">\n",
       "  <thead>\n",
       "    <tr style=\"text-align: right;\">\n",
       "      <th></th>\n",
       "      <th>DateTime</th>\n",
       "      <th>Gu</th>\n",
       "      <th>PM10</th>\n",
       "      <th>PM2.5</th>\n",
       "      <th>yyyymmdd</th>\n",
       "      <th>hhmm</th>\n",
       "    </tr>\n",
       "  </thead>\n",
       "  <tbody>\n",
       "    <tr>\n",
       "      <th>322580</th>\n",
       "      <td>2020-01-01 0:00</td>\n",
       "      <td>평균</td>\n",
       "      <td>22.0</td>\n",
       "      <td>15.0</td>\n",
       "      <td>20200101</td>\n",
       "      <td>0000</td>\n",
       "    </tr>\n",
       "    <tr>\n",
       "      <th>322320</th>\n",
       "      <td>2020-01-01 10:00</td>\n",
       "      <td>평균</td>\n",
       "      <td>28.0</td>\n",
       "      <td>18.0</td>\n",
       "      <td>20200101</td>\n",
       "      <td>1000</td>\n",
       "    </tr>\n",
       "    <tr>\n",
       "      <th>322294</th>\n",
       "      <td>2020-01-01 11:00</td>\n",
       "      <td>평균</td>\n",
       "      <td>31.0</td>\n",
       "      <td>20.0</td>\n",
       "      <td>20200101</td>\n",
       "      <td>1100</td>\n",
       "    </tr>\n",
       "  </tbody>\n",
       "</table>\n",
       "</div>"
      ],
      "text/plain": [
       "                DateTime  Gu  PM10  PM2.5  yyyymmdd  hhmm\n",
       "322580   2020-01-01 0:00  평균  22.0   15.0  20200101  0000\n",
       "322320  2020-01-01 10:00  평균  28.0   18.0  20200101  1000\n",
       "322294  2020-01-01 11:00  평균  31.0   20.0  20200101  1100"
      ]
     },
     "execution_count": 85,
     "metadata": {},
     "output_type": "execute_result"
    }
   ],
   "source": [
    "data_raw_ave = data_raw_ave.sort_values(\"DateTime\")\n",
    "data_raw_ave.head(3)"
   ]
  },
  {
   "cell_type": "markdown",
   "metadata": {},
   "source": [
    "##### c) 정렬 후 인덱스가 섞이기 때문에, 인덱스를 초기화 해주세요."
   ]
  },
  {
   "cell_type": "code",
   "execution_count": 86,
   "metadata": {},
   "outputs": [
    {
     "data": {
      "text/html": [
       "<div>\n",
       "<style scoped>\n",
       "    .dataframe tbody tr th:only-of-type {\n",
       "        vertical-align: middle;\n",
       "    }\n",
       "\n",
       "    .dataframe tbody tr th {\n",
       "        vertical-align: top;\n",
       "    }\n",
       "\n",
       "    .dataframe thead th {\n",
       "        text-align: right;\n",
       "    }\n",
       "</style>\n",
       "<table border=\"1\" class=\"dataframe\">\n",
       "  <thead>\n",
       "    <tr style=\"text-align: right;\">\n",
       "      <th></th>\n",
       "      <th>DateTime</th>\n",
       "      <th>Gu</th>\n",
       "      <th>PM10</th>\n",
       "      <th>PM2.5</th>\n",
       "      <th>yyyymmdd</th>\n",
       "      <th>hhmm</th>\n",
       "    </tr>\n",
       "  </thead>\n",
       "  <tbody>\n",
       "    <tr>\n",
       "      <th>0</th>\n",
       "      <td>2020-01-01 0:00</td>\n",
       "      <td>평균</td>\n",
       "      <td>22.0</td>\n",
       "      <td>15.0</td>\n",
       "      <td>20200101</td>\n",
       "      <td>0000</td>\n",
       "    </tr>\n",
       "    <tr>\n",
       "      <th>1</th>\n",
       "      <td>2020-01-01 10:00</td>\n",
       "      <td>평균</td>\n",
       "      <td>28.0</td>\n",
       "      <td>18.0</td>\n",
       "      <td>20200101</td>\n",
       "      <td>1000</td>\n",
       "    </tr>\n",
       "    <tr>\n",
       "      <th>2</th>\n",
       "      <td>2020-01-01 11:00</td>\n",
       "      <td>평균</td>\n",
       "      <td>31.0</td>\n",
       "      <td>20.0</td>\n",
       "      <td>20200101</td>\n",
       "      <td>1100</td>\n",
       "    </tr>\n",
       "  </tbody>\n",
       "</table>\n",
       "</div>"
      ],
      "text/plain": [
       "           DateTime  Gu  PM10  PM2.5  yyyymmdd  hhmm\n",
       "0   2020-01-01 0:00  평균  22.0   15.0  20200101  0000\n",
       "1  2020-01-01 10:00  평균  28.0   18.0  20200101  1000\n",
       "2  2020-01-01 11:00  평균  31.0   20.0  20200101  1100"
      ]
     },
     "execution_count": 86,
     "metadata": {},
     "output_type": "execute_result"
    }
   ],
   "source": [
    "data_raw_ave = data_raw_ave.reset_index(drop = True)\n",
    "data_raw_ave.head(3)"
   ]
  },
  {
   "cell_type": "markdown",
   "metadata": {},
   "source": [
    "##### d) 모든 날짜에 대한 일평균 PM10, PM2.5를 계산하세요."
   ]
  },
  {
   "cell_type": "code",
   "execution_count": 87,
   "metadata": {},
   "outputs": [
    {
     "data": {
      "text/html": [
       "<div>\n",
       "<style scoped>\n",
       "    .dataframe tbody tr th:only-of-type {\n",
       "        vertical-align: middle;\n",
       "    }\n",
       "\n",
       "    .dataframe tbody tr th {\n",
       "        vertical-align: top;\n",
       "    }\n",
       "\n",
       "    .dataframe thead th {\n",
       "        text-align: right;\n",
       "    }\n",
       "</style>\n",
       "<table border=\"1\" class=\"dataframe\">\n",
       "  <thead>\n",
       "    <tr style=\"text-align: right;\">\n",
       "      <th></th>\n",
       "      <th>PM10</th>\n",
       "      <th>PM2.5</th>\n",
       "    </tr>\n",
       "    <tr>\n",
       "      <th>yyyymmdd</th>\n",
       "      <th></th>\n",
       "      <th></th>\n",
       "    </tr>\n",
       "  </thead>\n",
       "  <tbody>\n",
       "    <tr>\n",
       "      <th>20200101</th>\n",
       "      <td>32.916667</td>\n",
       "      <td>22.458333</td>\n",
       "    </tr>\n",
       "    <tr>\n",
       "      <th>20200102</th>\n",
       "      <td>58.375000</td>\n",
       "      <td>39.958333</td>\n",
       "    </tr>\n",
       "    <tr>\n",
       "      <th>20200103</th>\n",
       "      <td>67.166667</td>\n",
       "      <td>45.583333</td>\n",
       "    </tr>\n",
       "  </tbody>\n",
       "</table>\n",
       "</div>"
      ],
      "text/plain": [
       "               PM10      PM2.5\n",
       "yyyymmdd                      \n",
       "20200101  32.916667  22.458333\n",
       "20200102  58.375000  39.958333\n",
       "20200103  67.166667  45.583333"
      ]
     },
     "execution_count": 87,
     "metadata": {},
     "output_type": "execute_result"
    }
   ],
   "source": [
    "data_raw_ave_group = data_raw_ave.groupby('yyyymmdd', as_index = True).mean()\n",
    "data_raw_ave_group.head(3)"
   ]
  },
  {
   "cell_type": "markdown",
   "metadata": {},
   "source": [
    "##### e) 환경부는 아래와 같은 기준으로 미세먼지 농도별 예보등급을 구분하였다. 아래 기준 (VB : Very Bad, B : Bad, N : Normal, G : Good)으로 구분하여 새로운 열을 추가하세요."
   ]
  },
  {
   "cell_type": "markdown",
   "metadata": {},
   "source": [
    "매우나쁨(Very Bad) : PM10 151㎍/㎥ 이상\n",
    "\n",
    "나쁨(Bad) : PM10 81~150㎍/㎥\n",
    "\n",
    "보통(Normal) : PM10 31~80㎍/㎥\n",
    "\n",
    "좋음(Good) : PM10 0~30㎍/㎥"
   ]
  },
  {
   "cell_type": "code",
   "execution_count": 88,
   "metadata": {},
   "outputs": [],
   "source": [
    "pm = [(data_raw_ave_group['PM10'] >= 151),\n",
    "    (data_raw_ave_group['PM10'] >= 81) & (data_raw_ave_group['PM10'] <= 150),\n",
    "    (data_raw_ave_group['PM10'] >= 31) & (data_raw_ave_group['PM10'] <= 80),\n",
    "    (data_raw_ave_group['PM10'] >= 0) & (data_raw_ave_group['PM10'] <= 30)]\n",
    "\n",
    "val = ['VB', 'B', 'N', 'G']\n",
    "\n",
    "data_raw_ave_group['등급'] = np.select(pm, val)"
   ]
  },
  {
   "cell_type": "code",
   "execution_count": 89,
   "metadata": {},
   "outputs": [
    {
     "data": {
      "text/html": [
       "<div>\n",
       "<style scoped>\n",
       "    .dataframe tbody tr th:only-of-type {\n",
       "        vertical-align: middle;\n",
       "    }\n",
       "\n",
       "    .dataframe tbody tr th {\n",
       "        vertical-align: top;\n",
       "    }\n",
       "\n",
       "    .dataframe thead th {\n",
       "        text-align: right;\n",
       "    }\n",
       "</style>\n",
       "<table border=\"1\" class=\"dataframe\">\n",
       "  <thead>\n",
       "    <tr style=\"text-align: right;\">\n",
       "      <th></th>\n",
       "      <th>PM10</th>\n",
       "      <th>PM2.5</th>\n",
       "      <th>등급</th>\n",
       "    </tr>\n",
       "    <tr>\n",
       "      <th>yyyymmdd</th>\n",
       "      <th></th>\n",
       "      <th></th>\n",
       "      <th></th>\n",
       "    </tr>\n",
       "  </thead>\n",
       "  <tbody>\n",
       "    <tr>\n",
       "      <th>20200101</th>\n",
       "      <td>32.916667</td>\n",
       "      <td>22.458333</td>\n",
       "      <td>N</td>\n",
       "    </tr>\n",
       "    <tr>\n",
       "      <th>20200102</th>\n",
       "      <td>58.375000</td>\n",
       "      <td>39.958333</td>\n",
       "      <td>N</td>\n",
       "    </tr>\n",
       "    <tr>\n",
       "      <th>20200103</th>\n",
       "      <td>67.166667</td>\n",
       "      <td>45.583333</td>\n",
       "      <td>N</td>\n",
       "    </tr>\n",
       "  </tbody>\n",
       "</table>\n",
       "</div>"
      ],
      "text/plain": [
       "               PM10      PM2.5 등급\n",
       "yyyymmdd                         \n",
       "20200101  32.916667  22.458333  N\n",
       "20200102  58.375000  39.958333  N\n",
       "20200103  67.166667  45.583333  N"
      ]
     },
     "execution_count": 89,
     "metadata": {},
     "output_type": "execute_result"
    }
   ],
   "source": [
    "data_raw_ave_group.head(3)"
   ]
  },
  {
   "cell_type": "markdown",
   "metadata": {},
   "source": [
    "##### f) 세계보건기구는 2013년 발암물질로 규정된 미세먼지와 초미세먼지의 위험성에 주목해 두 물질의 기준을 강화했다. 미세먼지 기준은 연간 평균 15㎍/㎥ 이하, 24시간 평균 45㎍/㎥ 이하로 강화했다. 일평균 미세먼지(PM10)가 45㎍/㎥ 이상인 날은 몇일인가요?"
   ]
  },
  {
   "cell_type": "code",
   "execution_count": 90,
   "metadata": {},
   "outputs": [
    {
     "data": {
      "text/plain": [
       "154"
      ]
     },
     "execution_count": 90,
     "metadata": {},
     "output_type": "execute_result"
    }
   ],
   "source": [
    "(data_raw_ave_group['PM10'] >= 45).sum()"
   ]
  },
  {
   "cell_type": "markdown",
   "metadata": {},
   "source": [
    "A. 154일"
   ]
  },
  {
   "cell_type": "markdown",
   "metadata": {},
   "source": [
    "#### 라) 월별 파일 분류하기 및 분석"
   ]
  },
  {
   "cell_type": "markdown",
   "metadata": {},
   "source": [
    "`data_raw_ave`를 월별로 분류하여 csv형식으로 저장하세요."
   ]
  },
  {
   "cell_type": "markdown",
   "metadata": {},
   "source": [
    "a) index를 연월(%Y%mm%d)로 변경하여 `datetime` 열을 추가"
   ]
  },
  {
   "cell_type": "code",
   "execution_count": 91,
   "metadata": {},
   "outputs": [
    {
     "data": {
      "text/html": [
       "<div>\n",
       "<style scoped>\n",
       "    .dataframe tbody tr th:only-of-type {\n",
       "        vertical-align: middle;\n",
       "    }\n",
       "\n",
       "    .dataframe tbody tr th {\n",
       "        vertical-align: top;\n",
       "    }\n",
       "\n",
       "    .dataframe thead th {\n",
       "        text-align: right;\n",
       "    }\n",
       "</style>\n",
       "<table border=\"1\" class=\"dataframe\">\n",
       "  <thead>\n",
       "    <tr style=\"text-align: right;\">\n",
       "      <th></th>\n",
       "      <th>PM10</th>\n",
       "      <th>PM2.5</th>\n",
       "      <th>등급</th>\n",
       "      <th>datetime</th>\n",
       "    </tr>\n",
       "    <tr>\n",
       "      <th>yyyymmdd</th>\n",
       "      <th></th>\n",
       "      <th></th>\n",
       "      <th></th>\n",
       "      <th></th>\n",
       "    </tr>\n",
       "  </thead>\n",
       "  <tbody>\n",
       "    <tr>\n",
       "      <th>20200101</th>\n",
       "      <td>32.916667</td>\n",
       "      <td>22.458333</td>\n",
       "      <td>N</td>\n",
       "      <td>2020-01-01</td>\n",
       "    </tr>\n",
       "    <tr>\n",
       "      <th>20200102</th>\n",
       "      <td>58.375000</td>\n",
       "      <td>39.958333</td>\n",
       "      <td>N</td>\n",
       "      <td>2020-01-02</td>\n",
       "    </tr>\n",
       "    <tr>\n",
       "      <th>20200103</th>\n",
       "      <td>67.166667</td>\n",
       "      <td>45.583333</td>\n",
       "      <td>N</td>\n",
       "      <td>2020-01-03</td>\n",
       "    </tr>\n",
       "  </tbody>\n",
       "</table>\n",
       "</div>"
      ],
      "text/plain": [
       "               PM10      PM2.5 등급   datetime\n",
       "yyyymmdd                                    \n",
       "20200101  32.916667  22.458333  N 2020-01-01\n",
       "20200102  58.375000  39.958333  N 2020-01-02\n",
       "20200103  67.166667  45.583333  N 2020-01-03"
      ]
     },
     "execution_count": 91,
     "metadata": {},
     "output_type": "execute_result"
    }
   ],
   "source": [
    "data_raw_ave_group['datetime'] = pd.to_datetime(data_raw_ave_group.index, format = '%Y%m%d')\n",
    "data_raw_ave_group.head(3)"
   ]
  },
  {
   "cell_type": "markdown",
   "metadata": {},
   "source": [
    "##### b-1) datetime 열에서 년월만 추출하여 'yyyymm' 열을 추가"
   ]
  },
  {
   "cell_type": "code",
   "execution_count": 92,
   "metadata": {},
   "outputs": [
    {
     "data": {
      "text/html": [
       "<div>\n",
       "<style scoped>\n",
       "    .dataframe tbody tr th:only-of-type {\n",
       "        vertical-align: middle;\n",
       "    }\n",
       "\n",
       "    .dataframe tbody tr th {\n",
       "        vertical-align: top;\n",
       "    }\n",
       "\n",
       "    .dataframe thead th {\n",
       "        text-align: right;\n",
       "    }\n",
       "</style>\n",
       "<table border=\"1\" class=\"dataframe\">\n",
       "  <thead>\n",
       "    <tr style=\"text-align: right;\">\n",
       "      <th></th>\n",
       "      <th>PM10</th>\n",
       "      <th>PM2.5</th>\n",
       "      <th>등급</th>\n",
       "      <th>datetime</th>\n",
       "      <th>yyyymm</th>\n",
       "    </tr>\n",
       "    <tr>\n",
       "      <th>yyyymmdd</th>\n",
       "      <th></th>\n",
       "      <th></th>\n",
       "      <th></th>\n",
       "      <th></th>\n",
       "      <th></th>\n",
       "    </tr>\n",
       "  </thead>\n",
       "  <tbody>\n",
       "    <tr>\n",
       "      <th>20200101</th>\n",
       "      <td>32.916667</td>\n",
       "      <td>22.458333</td>\n",
       "      <td>N</td>\n",
       "      <td>2020-01-01</td>\n",
       "      <td>202001</td>\n",
       "    </tr>\n",
       "    <tr>\n",
       "      <th>20200102</th>\n",
       "      <td>58.375000</td>\n",
       "      <td>39.958333</td>\n",
       "      <td>N</td>\n",
       "      <td>2020-01-02</td>\n",
       "      <td>202001</td>\n",
       "    </tr>\n",
       "    <tr>\n",
       "      <th>20200103</th>\n",
       "      <td>67.166667</td>\n",
       "      <td>45.583333</td>\n",
       "      <td>N</td>\n",
       "      <td>2020-01-03</td>\n",
       "      <td>202001</td>\n",
       "    </tr>\n",
       "  </tbody>\n",
       "</table>\n",
       "</div>"
      ],
      "text/plain": [
       "               PM10      PM2.5 등급   datetime  yyyymm\n",
       "yyyymmdd                                            \n",
       "20200101  32.916667  22.458333  N 2020-01-01  202001\n",
       "20200102  58.375000  39.958333  N 2020-01-02  202001\n",
       "20200103  67.166667  45.583333  N 2020-01-03  202001"
      ]
     },
     "execution_count": 92,
     "metadata": {},
     "output_type": "execute_result"
    }
   ],
   "source": [
    "data_raw_ave_group['yyyymm'] = data_raw_ave_group['datetime'].dt.strftime('%Y%m')\n",
    "data_raw_ave_group.head(3)"
   ]
  },
  {
   "cell_type": "markdown",
   "metadata": {},
   "source": [
    "##### b-2) datetime 열에서 일만 추출하여 'day' 열을 추가"
   ]
  },
  {
   "cell_type": "code",
   "execution_count": 93,
   "metadata": {},
   "outputs": [
    {
     "data": {
      "text/html": [
       "<div>\n",
       "<style scoped>\n",
       "    .dataframe tbody tr th:only-of-type {\n",
       "        vertical-align: middle;\n",
       "    }\n",
       "\n",
       "    .dataframe tbody tr th {\n",
       "        vertical-align: top;\n",
       "    }\n",
       "\n",
       "    .dataframe thead th {\n",
       "        text-align: right;\n",
       "    }\n",
       "</style>\n",
       "<table border=\"1\" class=\"dataframe\">\n",
       "  <thead>\n",
       "    <tr style=\"text-align: right;\">\n",
       "      <th></th>\n",
       "      <th>PM10</th>\n",
       "      <th>PM2.5</th>\n",
       "      <th>등급</th>\n",
       "      <th>datetime</th>\n",
       "      <th>yyyymm</th>\n",
       "      <th>day</th>\n",
       "    </tr>\n",
       "    <tr>\n",
       "      <th>yyyymmdd</th>\n",
       "      <th></th>\n",
       "      <th></th>\n",
       "      <th></th>\n",
       "      <th></th>\n",
       "      <th></th>\n",
       "      <th></th>\n",
       "    </tr>\n",
       "  </thead>\n",
       "  <tbody>\n",
       "    <tr>\n",
       "      <th>20200101</th>\n",
       "      <td>32.916667</td>\n",
       "      <td>22.458333</td>\n",
       "      <td>N</td>\n",
       "      <td>2020-01-01</td>\n",
       "      <td>202001</td>\n",
       "      <td>01</td>\n",
       "    </tr>\n",
       "    <tr>\n",
       "      <th>20200102</th>\n",
       "      <td>58.375000</td>\n",
       "      <td>39.958333</td>\n",
       "      <td>N</td>\n",
       "      <td>2020-01-02</td>\n",
       "      <td>202001</td>\n",
       "      <td>02</td>\n",
       "    </tr>\n",
       "    <tr>\n",
       "      <th>20200103</th>\n",
       "      <td>67.166667</td>\n",
       "      <td>45.583333</td>\n",
       "      <td>N</td>\n",
       "      <td>2020-01-03</td>\n",
       "      <td>202001</td>\n",
       "      <td>03</td>\n",
       "    </tr>\n",
       "  </tbody>\n",
       "</table>\n",
       "</div>"
      ],
      "text/plain": [
       "               PM10      PM2.5 등급   datetime  yyyymm day\n",
       "yyyymmdd                                                \n",
       "20200101  32.916667  22.458333  N 2020-01-01  202001  01\n",
       "20200102  58.375000  39.958333  N 2020-01-02  202001  02\n",
       "20200103  67.166667  45.583333  N 2020-01-03  202001  03"
      ]
     },
     "execution_count": 93,
     "metadata": {},
     "output_type": "execute_result"
    }
   ],
   "source": [
    "data_raw_ave_group['day'] = data_raw_ave_group['datetime'].dt.strftime('%d')\n",
    "data_raw_ave_group.head(3)"
   ]
  },
  {
   "cell_type": "markdown",
   "metadata": {},
   "source": [
    "#### c) 사용한 필요없는 datetime 열 제거"
   ]
  },
  {
   "cell_type": "code",
   "execution_count": 94,
   "metadata": {},
   "outputs": [
    {
     "data": {
      "text/html": [
       "<div>\n",
       "<style scoped>\n",
       "    .dataframe tbody tr th:only-of-type {\n",
       "        vertical-align: middle;\n",
       "    }\n",
       "\n",
       "    .dataframe tbody tr th {\n",
       "        vertical-align: top;\n",
       "    }\n",
       "\n",
       "    .dataframe thead th {\n",
       "        text-align: right;\n",
       "    }\n",
       "</style>\n",
       "<table border=\"1\" class=\"dataframe\">\n",
       "  <thead>\n",
       "    <tr style=\"text-align: right;\">\n",
       "      <th></th>\n",
       "      <th>PM10</th>\n",
       "      <th>PM2.5</th>\n",
       "      <th>등급</th>\n",
       "      <th>yyyymm</th>\n",
       "      <th>day</th>\n",
       "    </tr>\n",
       "    <tr>\n",
       "      <th>yyyymmdd</th>\n",
       "      <th></th>\n",
       "      <th></th>\n",
       "      <th></th>\n",
       "      <th></th>\n",
       "      <th></th>\n",
       "    </tr>\n",
       "  </thead>\n",
       "  <tbody>\n",
       "    <tr>\n",
       "      <th>20200101</th>\n",
       "      <td>32.916667</td>\n",
       "      <td>22.458333</td>\n",
       "      <td>N</td>\n",
       "      <td>202001</td>\n",
       "      <td>01</td>\n",
       "    </tr>\n",
       "    <tr>\n",
       "      <th>20200102</th>\n",
       "      <td>58.375000</td>\n",
       "      <td>39.958333</td>\n",
       "      <td>N</td>\n",
       "      <td>202001</td>\n",
       "      <td>02</td>\n",
       "    </tr>\n",
       "    <tr>\n",
       "      <th>20200103</th>\n",
       "      <td>67.166667</td>\n",
       "      <td>45.583333</td>\n",
       "      <td>N</td>\n",
       "      <td>202001</td>\n",
       "      <td>03</td>\n",
       "    </tr>\n",
       "  </tbody>\n",
       "</table>\n",
       "</div>"
      ],
      "text/plain": [
       "               PM10      PM2.5 등급  yyyymm day\n",
       "yyyymmdd                                     \n",
       "20200101  32.916667  22.458333  N  202001  01\n",
       "20200102  58.375000  39.958333  N  202001  02\n",
       "20200103  67.166667  45.583333  N  202001  03"
      ]
     },
     "execution_count": 94,
     "metadata": {},
     "output_type": "execute_result"
    }
   ],
   "source": [
    "data_raw_ave_group = data_raw_ave_group.drop(['datetime'], axis = 1)\n",
    "data_raw_ave_group.head(3)"
   ]
  },
  {
   "cell_type": "markdown",
   "metadata": {},
   "source": [
    "##### d) 월별로 데이터 저장"
   ]
  },
  {
   "cell_type": "code",
   "execution_count": 95,
   "metadata": {},
   "outputs": [
    {
     "data": {
      "text/plain": [
       "array(['202001', '202002', '202003', '202004', '202005', '202006',\n",
       "       '202007', '202008', '202009', '202010', '202011', '202012',\n",
       "       '202101', '202102', '202103', '202104', '202105'], dtype=object)"
      ]
     },
     "execution_count": 95,
     "metadata": {},
     "output_type": "execute_result"
    }
   ],
   "source": [
    "data_uni = data_raw_ave_group['yyyymm'].unique()\n",
    "data_uni"
   ]
  },
  {
   "cell_type": "code",
   "execution_count": null,
   "metadata": {},
   "outputs": [],
   "source": [
    "for i in data_uni :\n",
    "    data_month = data_raw_ave_group.loc[data_raw_ave_group['yyyymm'] == i, :]\n",
    "    data_month.to_csv(f'PM_{i}.csv', index = False)"
   ]
  },
  {
   "cell_type": "code",
   "execution_count": 105,
   "metadata": {},
   "outputs": [],
   "source": [
    "for i in data_raw_ave_group.groupby('yyyymm') :\n",
    "    i[1].to_csv(f'PM_{i[0]}.csv', index = False)"
   ]
  }
 ],
 "metadata": {
  "kernelspec": {
   "display_name": "Python 3.10.5 64-bit",
   "language": "python",
   "name": "python3"
  },
  "language_info": {
   "codemirror_mode": {
    "name": "ipython",
    "version": 3
   },
   "file_extension": ".py",
   "mimetype": "text/x-python",
   "name": "python",
   "nbconvert_exporter": "python",
   "pygments_lexer": "ipython3",
   "version": "3.10.5"
  },
  "orig_nbformat": 4,
  "vscode": {
   "interpreter": {
    "hash": "aee8b7b246df8f9039afb4144a1f6fd8d2ca17a180786b69acc140d282b71a49"
   }
  }
 },
 "nbformat": 4,
 "nbformat_minor": 2
}
