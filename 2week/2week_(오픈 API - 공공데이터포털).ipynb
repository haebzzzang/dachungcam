{
 "cells": [
  {
   "cell_type": "code",
   "execution_count": 3,
   "id": "32a642b7",
   "metadata": {},
   "outputs": [],
   "source": [
    "import pandas as pd\n",
    "import requests\n",
    "import xmltodict"
   ]
  },
  {
   "cell_type": "markdown",
   "id": "a4fff8f4",
   "metadata": {},
   "source": [
    "#### 대전광역시 정류소별 도착정보 조회 서비스"
   ]
  },
  {
   "cell_type": "code",
   "execution_count": 4,
   "id": "bc38faa5",
   "metadata": {},
   "outputs": [
    {
     "data": {
      "text/html": [
       "<div>\n",
       "<style scoped>\n",
       "    .dataframe tbody tr th:only-of-type {\n",
       "        vertical-align: middle;\n",
       "    }\n",
       "\n",
       "    .dataframe tbody tr th {\n",
       "        vertical-align: top;\n",
       "    }\n",
       "\n",
       "    .dataframe thead th {\n",
       "        text-align: right;\n",
       "    }\n",
       "</style>\n",
       "<table border=\"1\" class=\"dataframe\">\n",
       "  <thead>\n",
       "    <tr style=\"text-align: right;\">\n",
       "      <th></th>\n",
       "      <th>BUS_NODE_ID</th>\n",
       "      <th>BUS_STOP_ID</th>\n",
       "      <th>CAR_REG_NO</th>\n",
       "      <th>DESTINATION</th>\n",
       "      <th>EXTIME_MIN</th>\n",
       "      <th>EXTIME_SEC</th>\n",
       "      <th>INFO_OFFER_TM</th>\n",
       "      <th>LAST_CAT</th>\n",
       "      <th>LAST_STOP_ID</th>\n",
       "      <th>MSG_TP</th>\n",
       "      <th>ROUTE_CD</th>\n",
       "      <th>ROUTE_NO</th>\n",
       "      <th>ROUTE_TP</th>\n",
       "      <th>STATUS_POS</th>\n",
       "      <th>STOP_NAME</th>\n",
       "    </tr>\n",
       "  </thead>\n",
       "  <tbody>\n",
       "    <tr>\n",
       "      <th>0</th>\n",
       "      <td>8002904</td>\n",
       "      <td>50340</td>\n",
       "      <td>대전75자2288</td>\n",
       "      <td>동춘당</td>\n",
       "      <td>10</td>\n",
       "      <td>551</td>\n",
       "      <td>2022-07-11 20:23:20.0</td>\n",
       "      <td>3</td>\n",
       "      <td>12400</td>\n",
       "      <td>03</td>\n",
       "      <td>30300058</td>\n",
       "      <td>314</td>\n",
       "      <td>2</td>\n",
       "      <td>7</td>\n",
       "      <td>한남대학교</td>\n",
       "    </tr>\n",
       "    <tr>\n",
       "      <th>1</th>\n",
       "      <td>8002904</td>\n",
       "      <td>50340</td>\n",
       "      <td>대전75자9812</td>\n",
       "      <td>신탄진</td>\n",
       "      <td>14</td>\n",
       "      <td>788</td>\n",
       "      <td>2022-07-11 20:23:07.0</td>\n",
       "      <td>3</td>\n",
       "      <td>20780</td>\n",
       "      <td>03</td>\n",
       "      <td>30300091</td>\n",
       "      <td>711</td>\n",
       "      <td>2</td>\n",
       "      <td>9</td>\n",
       "      <td>한남대학교</td>\n",
       "    </tr>\n",
       "    <tr>\n",
       "      <th>2</th>\n",
       "      <td>8002904</td>\n",
       "      <td>50340</td>\n",
       "      <td>대전75자9359</td>\n",
       "      <td>비래삼호A</td>\n",
       "      <td>4</td>\n",
       "      <td>226</td>\n",
       "      <td>2022-07-11 20:23:16.0</td>\n",
       "      <td>3</td>\n",
       "      <td>53470</td>\n",
       "      <td>03</td>\n",
       "      <td>30300040</td>\n",
       "      <td>105</td>\n",
       "      <td>2</td>\n",
       "      <td>4</td>\n",
       "      <td>한남대학교</td>\n",
       "    </tr>\n",
       "  </tbody>\n",
       "</table>\n",
       "</div>"
      ],
      "text/plain": [
       "  BUS_NODE_ID BUS_STOP_ID CAR_REG_NO DESTINATION EXTIME_MIN EXTIME_SEC  \\\n",
       "0     8002904       50340  대전75자2288         동춘당         10        551   \n",
       "1     8002904       50340  대전75자9812         신탄진         14        788   \n",
       "2     8002904       50340  대전75자9359       비래삼호A          4        226   \n",
       "\n",
       "           INFO_OFFER_TM LAST_CAT LAST_STOP_ID MSG_TP  ROUTE_CD ROUTE_NO  \\\n",
       "0  2022-07-11 20:23:20.0        3        12400     03  30300058      314   \n",
       "1  2022-07-11 20:23:07.0        3        20780     03  30300091      711   \n",
       "2  2022-07-11 20:23:16.0        3        53470     03  30300040      105   \n",
       "\n",
       "  ROUTE_TP STATUS_POS STOP_NAME  \n",
       "0        2          7     한남대학교  \n",
       "1        2          9     한남대학교  \n",
       "2        2          4     한남대학교  "
      ]
     },
     "execution_count": 4,
     "metadata": {},
     "output_type": "execute_result"
    }
   ],
   "source": [
    "## 서비스 URL\n",
    "url = \"http://openapitraffic.daejeon.go.kr/api/rest/arrive/getArrInfoByUid\"\n",
    "\n",
    "## 활용신청 후 공공데이터포털에서 받은 인증키(일반 인증키)\n",
    "serviceKey = \"khCPz52JtxTNuJ4ghK1qr1AX9J%2FHcsRWvJVlijKxE%2BGOmA4BfSEznFxaxNdiDkK2n6VvtoDAFXAASm3pPK88fg%3D%3D\"\n",
    "\n",
    "## busRouteId\n",
    "arsId = \"50340\"\n",
    "\n",
    "## URL 생성\n",
    "data_url = url + \"?\" + \"serviceKey=\" + serviceKey + \"&\" + \"arsId=\" + arsId\n",
    "\n",
    "## XML 파일 읽기\n",
    "data_xml = requests.get(data_url)\n",
    "\n",
    "## Encoding\n",
    "data_xml.encoding ='utf8'\n",
    "\n",
    "## Text 추출\n",
    "data_str = data_xml.text\n",
    "\n",
    "## XML to dictionary\n",
    "data_dic = xmltodict.parse(data_str)\n",
    "\n",
    "## dictionary에서 자료(item) 추출\n",
    "data_item = data_dic['ServiceResult']['msgBody']['itemList']\n",
    "\n",
    "## DataFrame 저장\n",
    "data_df = pd.DataFrame(data_item)\n",
    "data_df"
   ]
  },
  {
   "cell_type": "markdown",
   "id": "8e1fccc1",
   "metadata": {},
   "source": [
    "##### 대전광역시 버스 위치정보 조회 서비스"
   ]
  },
  {
   "cell_type": "code",
   "execution_count": null,
   "id": "3e2211ef",
   "metadata": {},
   "outputs": [],
   "source": []
  }
 ],
 "metadata": {
  "kernelspec": {
   "display_name": "Python 3.9.13 64-bit (windows store)",
   "language": "python",
   "name": "python3"
  },
  "language_info": {
   "codemirror_mode": {
    "name": "ipython",
    "version": 3
   },
   "file_extension": ".py",
   "mimetype": "text/x-python",
   "name": "python",
   "nbconvert_exporter": "python",
   "pygments_lexer": "ipython3",
   "version": "3.9.13"
  },
  "vscode": {
   "interpreter": {
    "hash": "c567e38bbba99904a53d00386f4f69185e434fa5de320d43f5dd1fef59112ff0"
   }
  }
 },
 "nbformat": 4,
 "nbformat_minor": 5
}
