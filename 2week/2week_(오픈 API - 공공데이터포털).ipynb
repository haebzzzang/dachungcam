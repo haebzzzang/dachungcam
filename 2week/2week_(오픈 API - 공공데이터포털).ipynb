{
 "cells": [
  {
   "cell_type": "code",
   "execution_count": 2,
   "id": "32a642b7",
   "metadata": {},
   "outputs": [],
   "source": [
    "import pandas as pd\n",
    "import requests\n",
    "import xmltodict"
   ]
  },
  {
   "cell_type": "code",
   "execution_count": 7,
   "id": "bc38faa5",
   "metadata": {},
   "outputs": [
    {
     "ename": "TypeError",
     "evalue": "'NoneType' object is not subscriptable",
     "output_type": "error",
     "traceback": [
      "\u001b[1;31m---------------------------------------------------------------------------\u001b[0m",
      "\u001b[1;31mTypeError\u001b[0m                                 Traceback (most recent call last)",
      "Input \u001b[1;32mIn [7]\u001b[0m, in \u001b[0;36m<cell line: 26>\u001b[1;34m()\u001b[0m\n\u001b[0;32m     23\u001b[0m data_dic \u001b[38;5;241m=\u001b[39m xmltodict\u001b[38;5;241m.\u001b[39mparse(data_str)\n\u001b[0;32m     25\u001b[0m \u001b[38;5;66;03m## dictionary에서 자료(item) 추출\u001b[39;00m\n\u001b[1;32m---> 26\u001b[0m data_item \u001b[38;5;241m=\u001b[39m \u001b[43mdata_dic\u001b[49m\u001b[43m[\u001b[49m\u001b[38;5;124;43m'\u001b[39;49m\u001b[38;5;124;43mServiceResult\u001b[39;49m\u001b[38;5;124;43m'\u001b[39;49m\u001b[43m]\u001b[49m\u001b[43m[\u001b[49m\u001b[38;5;124;43m'\u001b[39;49m\u001b[38;5;124;43mmsgBody\u001b[39;49m\u001b[38;5;124;43m'\u001b[39;49m\u001b[43m]\u001b[49m\u001b[43m[\u001b[49m\u001b[38;5;124;43m'\u001b[39;49m\u001b[38;5;124;43mitemList\u001b[39;49m\u001b[38;5;124;43m'\u001b[39;49m\u001b[43m]\u001b[49m\n\u001b[0;32m     28\u001b[0m \u001b[38;5;66;03m## DataFrame 저장\u001b[39;00m\n\u001b[0;32m     29\u001b[0m data_df \u001b[38;5;241m=\u001b[39m pd\u001b[38;5;241m.\u001b[39mDataFrame(data_item)\n",
      "\u001b[1;31mTypeError\u001b[0m: 'NoneType' object is not subscriptable"
     ]
    }
   ],
   "source": [
    "## 서비스 URL\n",
    "url = \"http://openapitraffic.daejeon.go.kr/api/rest/arrive/getArrInfoByUid\"\n",
    "\n",
    "## 활용신청 후 공공데이터포털에서 받은 인증키(일반 인증키)\n",
    "serviceKey = \"khCPz52JtxTNuJ4ghK1qr1AX9J%2FHcsRWvJVlijKxE%2BGOmA4BfSEznFxaxNdiDkK2n6VvtoDAFXAASm3pPK88fg%3D%3D\"\n",
    "\n",
    "## busRouteId\n",
    "arsId = \"50340\"\n",
    "\n",
    "## URL 생성\n",
    "data_url = url + \"?\" + \"serviceKey=\" + serviceKey + \"&\" + \"arsId=\" + arsId\n",
    "\n",
    "## XML 파일 읽기\n",
    "data_xml = requests.get(data_url)\n",
    "\n",
    "## Encoding\n",
    "data_xml.encoding ='utf8'\n",
    "\n",
    "## Text 추출\n",
    "data_str = data_xml.text\n",
    "\n",
    "## XML to dictionary\n",
    "data_dic = xmltodict.parse(data_str)\n",
    "\n",
    "## dictionary에서 자료(item) 추출\n",
    "data_item = data_dic['ServiceResult']['msgBody']['itemList']\n",
    "\n",
    "## DataFrame 저장\n",
    "data_df = pd.DataFrame(data_item)\n",
    "data_df"
   ]
  },
  {
   "cell_type": "code",
   "execution_count": null,
   "id": "3e2211ef",
   "metadata": {},
   "outputs": [],
   "source": []
  }
 ],
 "metadata": {
  "kernelspec": {
   "display_name": "Python 3 (ipykernel)",
   "language": "python",
   "name": "python3"
  },
  "language_info": {
   "codemirror_mode": {
    "name": "ipython",
    "version": 3
   },
   "file_extension": ".py",
   "mimetype": "text/x-python",
   "name": "python",
   "nbconvert_exporter": "python",
   "pygments_lexer": "ipython3",
   "version": "3.9.12"
  }
 },
 "nbformat": 4,
 "nbformat_minor": 5
}
