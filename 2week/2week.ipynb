{
 "cells": [
  {
   "cell_type": "markdown",
   "metadata": {},
   "source": [
    "### 220704"
   ]
  },
  {
   "cell_type": "markdown",
   "metadata": {},
   "source": [
    "#### 타슈 데이터"
   ]
  },
  {
   "cell_type": "code",
   "execution_count": 5,
   "metadata": {},
   "outputs": [],
   "source": [
    "from easygui import fileopenbox\n",
    "import pandas as pd\n",
    "import numpy as np"
   ]
  },
  {
   "cell_type": "markdown",
   "metadata": {},
   "source": [
    "##### 타슈 이용현황 데이터"
   ]
  },
  {
   "cell_type": "code",
   "execution_count": 8,
   "metadata": {},
   "outputs": [
    {
     "name": "stdout",
     "output_type": "stream",
     "text": [
      "<class 'pandas.core.frame.DataFrame'>\n",
      "RangeIndex: 604446 entries, 0 to 604445\n",
      "Data columns (total 6 columns):\n",
      " #   Column  Non-Null Count   Dtype  \n",
      "---  ------  --------------   -----  \n",
      " 0   대여스테이션  604446 non-null  int64  \n",
      " 1   대여일시    604446 non-null  int64  \n",
      " 2   반납스테이션  595778 non-null  float64\n",
      " 3   반납일시    604446 non-null  int64  \n",
      " 4   이동거리    595857 non-null  float64\n",
      " 5   회원구분    604446 non-null  int64  \n",
      "dtypes: float64(2), int64(4)\n",
      "memory usage: 27.7 MB\n"
     ]
    }
   ],
   "source": [
    "data_file = 'data/타슈/2020.csv'\n",
    "tashu_2020 = pd.read_csv(data_file, encoding = 'cp949')\n",
    "\n",
    "tashu_2020.head(3)\n",
    "tashu_2020.dtypes # 자료형\n",
    "tashu_2020.info() # 정보"
   ]
  },
  {
   "cell_type": "code",
   "execution_count": 9,
   "metadata": {},
   "outputs": [
    {
     "data": {
      "text/html": [
       "<div>\n",
       "<style scoped>\n",
       "    .dataframe tbody tr th:only-of-type {\n",
       "        vertical-align: middle;\n",
       "    }\n",
       "\n",
       "    .dataframe tbody tr th {\n",
       "        vertical-align: top;\n",
       "    }\n",
       "\n",
       "    .dataframe thead th {\n",
       "        text-align: right;\n",
       "    }\n",
       "</style>\n",
       "<table border=\"1\" class=\"dataframe\">\n",
       "  <thead>\n",
       "    <tr style=\"text-align: right;\">\n",
       "      <th></th>\n",
       "      <th>대여스테이션</th>\n",
       "      <th>대여일시</th>\n",
       "      <th>반납스테이션</th>\n",
       "      <th>반납일시</th>\n",
       "      <th>이동거리</th>\n",
       "      <th>회원구분</th>\n",
       "    </tr>\n",
       "  </thead>\n",
       "  <tbody>\n",
       "    <tr>\n",
       "      <th>0</th>\n",
       "      <td>174</td>\n",
       "      <td>20200101000100</td>\n",
       "      <td>224</td>\n",
       "      <td>20200101001137</td>\n",
       "      <td>640</td>\n",
       "      <td>2</td>\n",
       "    </tr>\n",
       "    <tr>\n",
       "      <th>1</th>\n",
       "      <td>174</td>\n",
       "      <td>20200101000109</td>\n",
       "      <td>224</td>\n",
       "      <td>20200101001210</td>\n",
       "      <td>640</td>\n",
       "      <td>2</td>\n",
       "    </tr>\n",
       "    <tr>\n",
       "      <th>2</th>\n",
       "      <td>117</td>\n",
       "      <td>20200101050735</td>\n",
       "      <td>115</td>\n",
       "      <td>20200101051922</td>\n",
       "      <td>1070</td>\n",
       "      <td>0</td>\n",
       "    </tr>\n",
       "  </tbody>\n",
       "</table>\n",
       "</div>"
      ],
      "text/plain": [
       "   대여스테이션            대여일시  반납스테이션            반납일시  이동거리  회원구분\n",
       "0     174  20200101000100     224  20200101001137   640     2\n",
       "1     174  20200101000109     224  20200101001210   640     2\n",
       "2     117  20200101050735     115  20200101051922  1070     0"
      ]
     },
     "execution_count": 9,
     "metadata": {},
     "output_type": "execute_result"
    }
   ],
   "source": [
    "# 자료형 변환 실수 -> 정수\n",
    "tashu_2020[['반납스테이션', '이동거리']] = tashu_2020[['반납스테이션', '이동거리']].astype('Int64')\n",
    "tashu_2020.head(3)"
   ]
  },
  {
   "cell_type": "code",
   "execution_count": 10,
   "metadata": {},
   "outputs": [
    {
     "data": {
      "text/html": [
       "<div>\n",
       "<style scoped>\n",
       "    .dataframe tbody tr th:only-of-type {\n",
       "        vertical-align: middle;\n",
       "    }\n",
       "\n",
       "    .dataframe tbody tr th {\n",
       "        vertical-align: top;\n",
       "    }\n",
       "\n",
       "    .dataframe thead th {\n",
       "        text-align: right;\n",
       "    }\n",
       "</style>\n",
       "<table border=\"1\" class=\"dataframe\">\n",
       "  <thead>\n",
       "    <tr style=\"text-align: right;\">\n",
       "      <th></th>\n",
       "      <th>대여스테이션</th>\n",
       "      <th>대여일시</th>\n",
       "      <th>반납스테이션</th>\n",
       "      <th>반납일시</th>\n",
       "      <th>이동거리</th>\n",
       "      <th>회원구분</th>\n",
       "    </tr>\n",
       "  </thead>\n",
       "  <tbody>\n",
       "    <tr>\n",
       "      <th>0</th>\n",
       "      <td>174</td>\n",
       "      <td>20200101000100</td>\n",
       "      <td>224</td>\n",
       "      <td>20200101001137</td>\n",
       "      <td>640</td>\n",
       "      <td>2</td>\n",
       "    </tr>\n",
       "    <tr>\n",
       "      <th>1</th>\n",
       "      <td>174</td>\n",
       "      <td>20200101000109</td>\n",
       "      <td>224</td>\n",
       "      <td>20200101001210</td>\n",
       "      <td>640</td>\n",
       "      <td>2</td>\n",
       "    </tr>\n",
       "    <tr>\n",
       "      <th>2</th>\n",
       "      <td>117</td>\n",
       "      <td>20200101050735</td>\n",
       "      <td>115</td>\n",
       "      <td>20200101051922</td>\n",
       "      <td>1070</td>\n",
       "      <td>0</td>\n",
       "    </tr>\n",
       "    <tr>\n",
       "      <th>3</th>\n",
       "      <td>167</td>\n",
       "      <td>20200101051348</td>\n",
       "      <td>94</td>\n",
       "      <td>20200101054627</td>\n",
       "      <td>1490</td>\n",
       "      <td>2</td>\n",
       "    </tr>\n",
       "    <tr>\n",
       "      <th>4</th>\n",
       "      <td>203</td>\n",
       "      <td>20200101052002</td>\n",
       "      <td>203</td>\n",
       "      <td>20200101052058</td>\n",
       "      <td>0</td>\n",
       "      <td>1</td>\n",
       "    </tr>\n",
       "  </tbody>\n",
       "</table>\n",
       "</div>"
      ],
      "text/plain": [
       "  대여스테이션            대여일시 반납스테이션            반납일시  이동거리 회원구분\n",
       "0    174  20200101000100    224  20200101001137   640    2\n",
       "1    174  20200101000109    224  20200101001210   640    2\n",
       "2    117  20200101050735    115  20200101051922  1070    0\n",
       "3    167  20200101051348     94  20200101054627  1490    2\n",
       "4    203  20200101052002    203  20200101052058     0    1"
      ]
     },
     "execution_count": 10,
     "metadata": {},
     "output_type": "execute_result"
    }
   ],
   "source": [
    "# 자료형 변환 정수 -> 문자\n",
    "tashu_2020[['대여스테이션', '대여일시', '반납스테이션', '반납일시', '회원구분']] = tashu_2020[['대여스테이션', '대여일시', '반납스테이션', '반납일시', '회원구분']].astype('string')\n",
    "tashu_2020.head()"
   ]
  },
  {
   "cell_type": "markdown",
   "metadata": {},
   "source": []
  },
  {
   "cell_type": "code",
   "execution_count": 12,
   "metadata": {},
   "outputs": [
    {
     "name": "stdout",
     "output_type": "stream",
     "text": [
      "<class 'pandas.core.frame.DataFrame'>\n",
      "RangeIndex: 604446 entries, 0 to 604445\n",
      "Data columns (total 6 columns):\n",
      " #   Column  Non-Null Count   Dtype \n",
      "---  ------  --------------   ----- \n",
      " 0   대여스테이션  604446 non-null  string\n",
      " 1   대여일시    604446 non-null  string\n",
      " 2   반납스테이션  595778 non-null  string\n",
      " 3   반납일시    604446 non-null  string\n",
      " 4   이동거리    595857 non-null  Int64 \n",
      " 5   회원구분    604446 non-null  string\n",
      "dtypes: Int64(1), string(5)\n",
      "memory usage: 28.2 MB\n"
     ]
    },
    {
     "data": {
      "text/html": [
       "<div>\n",
       "<style scoped>\n",
       "    .dataframe tbody tr th:only-of-type {\n",
       "        vertical-align: middle;\n",
       "    }\n",
       "\n",
       "    .dataframe tbody tr th {\n",
       "        vertical-align: top;\n",
       "    }\n",
       "\n",
       "    .dataframe thead th {\n",
       "        text-align: right;\n",
       "    }\n",
       "</style>\n",
       "<table border=\"1\" class=\"dataframe\">\n",
       "  <thead>\n",
       "    <tr style=\"text-align: right;\">\n",
       "      <th></th>\n",
       "      <th>대여스테이션</th>\n",
       "      <th>대여일시</th>\n",
       "      <th>반납스테이션</th>\n",
       "      <th>반납일시</th>\n",
       "      <th>이동거리</th>\n",
       "      <th>회원구분</th>\n",
       "    </tr>\n",
       "  </thead>\n",
       "  <tbody>\n",
       "    <tr>\n",
       "      <th>count</th>\n",
       "      <td>604446</td>\n",
       "      <td>604446</td>\n",
       "      <td>595778</td>\n",
       "      <td>604446</td>\n",
       "      <td>595857.000000</td>\n",
       "      <td>604446</td>\n",
       "    </tr>\n",
       "    <tr>\n",
       "      <th>unique</th>\n",
       "      <td>262</td>\n",
       "      <td>590970</td>\n",
       "      <td>262</td>\n",
       "      <td>590517</td>\n",
       "      <td>NaN</td>\n",
       "      <td>3</td>\n",
       "    </tr>\n",
       "    <tr>\n",
       "      <th>top</th>\n",
       "      <td>3</td>\n",
       "      <td>20200926162941</td>\n",
       "      <td>3</td>\n",
       "      <td>20200905164703</td>\n",
       "      <td>NaN</td>\n",
       "      <td>2</td>\n",
       "    </tr>\n",
       "    <tr>\n",
       "      <th>freq</th>\n",
       "      <td>25476</td>\n",
       "      <td>4</td>\n",
       "      <td>27709</td>\n",
       "      <td>4</td>\n",
       "      <td>NaN</td>\n",
       "      <td>388611</td>\n",
       "    </tr>\n",
       "    <tr>\n",
       "      <th>mean</th>\n",
       "      <td>NaN</td>\n",
       "      <td>NaN</td>\n",
       "      <td>NaN</td>\n",
       "      <td>NaN</td>\n",
       "      <td>1654.610620</td>\n",
       "      <td>NaN</td>\n",
       "    </tr>\n",
       "    <tr>\n",
       "      <th>std</th>\n",
       "      <td>NaN</td>\n",
       "      <td>NaN</td>\n",
       "      <td>NaN</td>\n",
       "      <td>NaN</td>\n",
       "      <td>1446.016779</td>\n",
       "      <td>NaN</td>\n",
       "    </tr>\n",
       "    <tr>\n",
       "      <th>min</th>\n",
       "      <td>NaN</td>\n",
       "      <td>NaN</td>\n",
       "      <td>NaN</td>\n",
       "      <td>NaN</td>\n",
       "      <td>0.000000</td>\n",
       "      <td>NaN</td>\n",
       "    </tr>\n",
       "    <tr>\n",
       "      <th>25%</th>\n",
       "      <td>NaN</td>\n",
       "      <td>NaN</td>\n",
       "      <td>NaN</td>\n",
       "      <td>NaN</td>\n",
       "      <td>530.000000</td>\n",
       "      <td>NaN</td>\n",
       "    </tr>\n",
       "    <tr>\n",
       "      <th>50%</th>\n",
       "      <td>NaN</td>\n",
       "      <td>NaN</td>\n",
       "      <td>NaN</td>\n",
       "      <td>NaN</td>\n",
       "      <td>1290.000000</td>\n",
       "      <td>NaN</td>\n",
       "    </tr>\n",
       "    <tr>\n",
       "      <th>75%</th>\n",
       "      <td>NaN</td>\n",
       "      <td>NaN</td>\n",
       "      <td>NaN</td>\n",
       "      <td>NaN</td>\n",
       "      <td>2560.000000</td>\n",
       "      <td>NaN</td>\n",
       "    </tr>\n",
       "    <tr>\n",
       "      <th>max</th>\n",
       "      <td>NaN</td>\n",
       "      <td>NaN</td>\n",
       "      <td>NaN</td>\n",
       "      <td>NaN</td>\n",
       "      <td>5630.000000</td>\n",
       "      <td>NaN</td>\n",
       "    </tr>\n",
       "  </tbody>\n",
       "</table>\n",
       "</div>"
      ],
      "text/plain": [
       "        대여스테이션            대여일시  반납스테이션            반납일시           이동거리    회원구분\n",
       "count   604446          604446  595778          604446  595857.000000  604446\n",
       "unique     262          590970     262          590517            NaN       3\n",
       "top          3  20200926162941       3  20200905164703            NaN       2\n",
       "freq     25476               4   27709               4            NaN  388611\n",
       "mean       NaN             NaN     NaN             NaN    1654.610620     NaN\n",
       "std        NaN             NaN     NaN             NaN    1446.016779     NaN\n",
       "min        NaN             NaN     NaN             NaN       0.000000     NaN\n",
       "25%        NaN             NaN     NaN             NaN     530.000000     NaN\n",
       "50%        NaN             NaN     NaN             NaN    1290.000000     NaN\n",
       "75%        NaN             NaN     NaN             NaN    2560.000000     NaN\n",
       "max        NaN             NaN     NaN             NaN    5630.000000     NaN"
      ]
     },
     "execution_count": 12,
     "metadata": {},
     "output_type": "execute_result"
    }
   ],
   "source": [
    "tashu_2020.info()\n",
    "tashu_2020.describe(include = 'all') # 기술 통계량 (데이터 요약)"
   ]
  },
  {
   "cell_type": "markdown",
   "metadata": {},
   "source": [
    "##### 타슈 스테이션 현황"
   ]
  },
  {
   "cell_type": "code",
   "execution_count": 14,
   "metadata": {},
   "outputs": [
    {
     "name": "stdout",
     "output_type": "stream",
     "text": [
      "<class 'pandas.core.frame.DataFrame'>\n",
      "RangeIndex: 262 entries, 0 to 261\n",
      "Data columns (total 14 columns):\n",
      " #   Column           Non-Null Count  Dtype  \n",
      "---  ------           --------------  -----  \n",
      " 0   연번               262 non-null    int64  \n",
      " 1   Station 스테이션/성명  262 non-null    object \n",
      " 2   위치               262 non-null    object \n",
      " 3   Latitude         262 non-null    float64\n",
      " 4   Longitude        262 non-null    float64\n",
      " 5   광역시도코드           262 non-null    int64  \n",
      " 6   광역시도명            262 non-null    object \n",
      " 7   시군구코드            262 non-null    int64  \n",
      " 8   시군구명             262 non-null    object \n",
      " 9   법정동코드            262 non-null    int64  \n",
      " 10  법정동명             262 non-null    object \n",
      " 11  행정동코드            262 non-null    int64  \n",
      " 12  행정동명             262 non-null    object \n",
      " 13  거치대              262 non-null    int64  \n",
      "dtypes: float64(2), int64(6), object(6)\n",
      "memory usage: 28.8+ KB\n"
     ]
    }
   ],
   "source": [
    "data_file = 'data/타슈/대전광역시_공영자전거(타슈) 위치(위경도) 현황_20200801.csv'\n",
    "tashu_station = pd.read_csv(data_file, encoding = \"cp949\")\n",
    "\n",
    "tashu_station.head(3)\n",
    "tashu_station.info()"
   ]
  },
  {
   "cell_type": "code",
   "execution_count": 15,
   "metadata": {},
   "outputs": [
    {
     "name": "stdout",
     "output_type": "stream",
     "text": [
      "<class 'pandas.core.frame.DataFrame'>\n",
      "RangeIndex: 262 entries, 0 to 261\n",
      "Data columns (total 14 columns):\n",
      " #   Column           Non-Null Count  Dtype  \n",
      "---  ------           --------------  -----  \n",
      " 0   연번               262 non-null    string \n",
      " 1   Station 스테이션/성명  262 non-null    object \n",
      " 2   위치               262 non-null    object \n",
      " 3   Latitude         262 non-null    float64\n",
      " 4   Longitude        262 non-null    float64\n",
      " 5   광역시도코드           262 non-null    int64  \n",
      " 6   광역시도명            262 non-null    object \n",
      " 7   시군구코드            262 non-null    int64  \n",
      " 8   시군구명             262 non-null    object \n",
      " 9   법정동코드            262 non-null    int64  \n",
      " 10  법정동명             262 non-null    object \n",
      " 11  행정동코드            262 non-null    int64  \n",
      " 12  행정동명             262 non-null    object \n",
      " 13  거치대              262 non-null    int64  \n",
      "dtypes: float64(2), int64(5), object(6), string(1)\n",
      "memory usage: 28.8+ KB\n"
     ]
    },
    {
     "data": {
      "text/html": [
       "<div>\n",
       "<style scoped>\n",
       "    .dataframe tbody tr th:only-of-type {\n",
       "        vertical-align: middle;\n",
       "    }\n",
       "\n",
       "    .dataframe tbody tr th {\n",
       "        vertical-align: top;\n",
       "    }\n",
       "\n",
       "    .dataframe thead th {\n",
       "        text-align: right;\n",
       "    }\n",
       "</style>\n",
       "<table border=\"1\" class=\"dataframe\">\n",
       "  <thead>\n",
       "    <tr style=\"text-align: right;\">\n",
       "      <th></th>\n",
       "      <th>연번</th>\n",
       "      <th>Station 스테이션/성명</th>\n",
       "      <th>위치</th>\n",
       "      <th>광역시도명</th>\n",
       "      <th>시군구명</th>\n",
       "      <th>법정동명</th>\n",
       "      <th>행정동명</th>\n",
       "    </tr>\n",
       "  </thead>\n",
       "  <tbody>\n",
       "    <tr>\n",
       "      <th>count</th>\n",
       "      <td>262</td>\n",
       "      <td>262</td>\n",
       "      <td>262</td>\n",
       "      <td>262</td>\n",
       "      <td>262</td>\n",
       "      <td>262</td>\n",
       "      <td>262</td>\n",
       "    </tr>\n",
       "    <tr>\n",
       "      <th>unique</th>\n",
       "      <td>262</td>\n",
       "      <td>262</td>\n",
       "      <td>258</td>\n",
       "      <td>1</td>\n",
       "      <td>5</td>\n",
       "      <td>87</td>\n",
       "      <td>70</td>\n",
       "    </tr>\n",
       "    <tr>\n",
       "      <th>top</th>\n",
       "      <td>1</td>\n",
       "      <td>무역전시관입구(택시승강장)</td>\n",
       "      <td>대전광역시 유성구 구성동 23</td>\n",
       "      <td>대전광역시</td>\n",
       "      <td>유성구</td>\n",
       "      <td>둔산동</td>\n",
       "      <td>신성동</td>\n",
       "    </tr>\n",
       "    <tr>\n",
       "      <th>freq</th>\n",
       "      <td>1</td>\n",
       "      <td>1</td>\n",
       "      <td>4</td>\n",
       "      <td>262</td>\n",
       "      <td>76</td>\n",
       "      <td>20</td>\n",
       "      <td>14</td>\n",
       "    </tr>\n",
       "  </tbody>\n",
       "</table>\n",
       "</div>"
      ],
      "text/plain": [
       "         연번 Station 스테이션/성명                위치  광역시도명 시군구명 법정동명 행정동명\n",
       "count   262             262               262    262  262  262  262\n",
       "unique  262             262               258      1    5   87   70\n",
       "top       1  무역전시관입구(택시승강장)  대전광역시 유성구 구성동 23  대전광역시  유성구  둔산동  신성동\n",
       "freq      1               1                 4    262   76   20   14"
      ]
     },
     "execution_count": 15,
     "metadata": {},
     "output_type": "execute_result"
    }
   ],
   "source": [
    "# 자료형 변환 정수 -> 문자\n",
    "tashu_station['연번'] = tashu_station['연번'].astype('string')\n",
    "\n",
    "tashu_station.info()\n",
    "tashu_station.describe(exclude = [np.number]) # 수치형 제외"
   ]
  },
  {
   "cell_type": "markdown",
   "metadata": {},
   "source": [
    "자료 Join\n",
    "- 대여/반납 스테이션 이름 추가"
   ]
  },
  {
   "cell_type": "code",
   "execution_count": 19,
   "metadata": {},
   "outputs": [],
   "source": [
    "df_right = tashu_station[['연번', 'Station 스테이션/성명']]\n",
    "df_right.columns = ['대여스테이션', '대여스테이션_이름']\n",
    "\n",
    "tashu_2020_station = tashu_2020.merge(df_right, left_on = '대여스테이션', right_on = '대여스테이션')"
   ]
  },
  {
   "cell_type": "code",
   "execution_count": 20,
   "metadata": {},
   "outputs": [],
   "source": [
    "df_right = tashu_station[['연번', 'Station 스테이션/성명']]\n",
    "df_right.columns = ['반납스테이션', '반납스테이션_이름']\n",
    "\n",
    "tashu_2020_station = tashu_2020_station.merge(df_right, left_on = \"반납스테이션\", right_on = '반납스테이션', how = 'left')"
   ]
  },
  {
   "cell_type": "code",
   "execution_count": 22,
   "metadata": {},
   "outputs": [
    {
     "name": "stdout",
     "output_type": "stream",
     "text": [
      "<class 'pandas.core.frame.DataFrame'>\n",
      "Int64Index: 604446 entries, 0 to 604445\n",
      "Data columns (total 8 columns):\n",
      " #   Column     Non-Null Count   Dtype \n",
      "---  ------     --------------   ----- \n",
      " 0   대여스테이션     604446 non-null  string\n",
      " 1   대여일시       604446 non-null  string\n",
      " 2   반납스테이션     595778 non-null  string\n",
      " 3   반납일시       604446 non-null  string\n",
      " 4   이동거리       595857 non-null  Int64 \n",
      " 5   회원구분       604446 non-null  string\n",
      " 6   대여스테이션_이름  604446 non-null  object\n",
      " 7   반납스테이션_이름  595778 non-null  object\n",
      "dtypes: Int64(1), object(2), string(5)\n",
      "memory usage: 42.1+ MB\n"
     ]
    }
   ],
   "source": [
    "tashu_2020_station.head()\n",
    "tashu_2020_station.info()"
   ]
  },
  {
   "cell_type": "markdown",
   "metadata": {},
   "source": [
    "자료 정렬\n",
    "- 대여일시, 반납일시 기준으로 오름차순 정렬"
   ]
  },
  {
   "cell_type": "code",
   "execution_count": 32,
   "metadata": {},
   "outputs": [],
   "source": [
    "tashu_2020_station = tashu_2020_station.sort_values(by = ['대여일시', '반납일시'])"
   ]
  },
  {
   "cell_type": "markdown",
   "metadata": {},
   "source": [
    "변수 생성\n",
    "- 회원구분 (0 : 정회원 / 1 : 일반회운 / 2 : 비회원)"
   ]
  },
  {
   "cell_type": "code",
   "execution_count": 25,
   "metadata": {},
   "outputs": [
    {
     "data": {
      "text/html": [
       "<div>\n",
       "<style scoped>\n",
       "    .dataframe tbody tr th:only-of-type {\n",
       "        vertical-align: middle;\n",
       "    }\n",
       "\n",
       "    .dataframe tbody tr th {\n",
       "        vertical-align: top;\n",
       "    }\n",
       "\n",
       "    .dataframe thead th {\n",
       "        text-align: right;\n",
       "    }\n",
       "</style>\n",
       "<table border=\"1\" class=\"dataframe\">\n",
       "  <thead>\n",
       "    <tr style=\"text-align: right;\">\n",
       "      <th></th>\n",
       "      <th>대여스테이션</th>\n",
       "      <th>대여일시</th>\n",
       "      <th>반납스테이션</th>\n",
       "      <th>반납일시</th>\n",
       "      <th>이동거리</th>\n",
       "      <th>회원구분</th>\n",
       "      <th>대여스테이션_이름</th>\n",
       "      <th>반납스테이션_이름</th>\n",
       "      <th>회원구분2</th>\n",
       "    </tr>\n",
       "  </thead>\n",
       "  <tbody>\n",
       "    <tr>\n",
       "      <th>0</th>\n",
       "      <td>174</td>\n",
       "      <td>20200101000100</td>\n",
       "      <td>224</td>\n",
       "      <td>20200101001137</td>\n",
       "      <td>640</td>\n",
       "      <td>2</td>\n",
       "      <td>가수원네거리(전통시장 입구)</td>\n",
       "      <td>정림삼거리</td>\n",
       "      <td>비회원</td>\n",
       "    </tr>\n",
       "    <tr>\n",
       "      <th>1</th>\n",
       "      <td>174</td>\n",
       "      <td>20200101000109</td>\n",
       "      <td>224</td>\n",
       "      <td>20200101001210</td>\n",
       "      <td>640</td>\n",
       "      <td>2</td>\n",
       "      <td>가수원네거리(전통시장 입구)</td>\n",
       "      <td>정림삼거리</td>\n",
       "      <td>비회원</td>\n",
       "    </tr>\n",
       "    <tr>\n",
       "      <th>3455</th>\n",
       "      <td>117</td>\n",
       "      <td>20200101050735</td>\n",
       "      <td>115</td>\n",
       "      <td>20200101051922</td>\n",
       "      <td>1070</td>\n",
       "      <td>0</td>\n",
       "      <td>동부네거리</td>\n",
       "      <td>한전 대전세종충남지역본부(건너편)</td>\n",
       "      <td>정회원</td>\n",
       "    </tr>\n",
       "  </tbody>\n",
       "</table>\n",
       "</div>"
      ],
      "text/plain": [
       "     대여스테이션            대여일시 반납스테이션            반납일시  이동거리 회원구분  \\\n",
       "0       174  20200101000100    224  20200101001137   640    2   \n",
       "1       174  20200101000109    224  20200101001210   640    2   \n",
       "3455    117  20200101050735    115  20200101051922  1070    0   \n",
       "\n",
       "            대여스테이션_이름           반납스테이션_이름 회원구분2  \n",
       "0     가수원네거리(전통시장 입구)               정림삼거리   비회원  \n",
       "1     가수원네거리(전통시장 입구)               정림삼거리   비회원  \n",
       "3455            동부네거리  한전 대전세종충남지역본부(건너편)   정회원  "
      ]
     },
     "execution_count": 25,
     "metadata": {},
     "output_type": "execute_result"
    }
   ],
   "source": [
    "# 회원구분 값\n",
    "idx = tashu_2020_station['회원구분'].astype('int')\n",
    "\n",
    "# 회원구분 수준\n",
    "col_levels = {0:'정회원', 1:'일반회원', 2:'비회원'}\n",
    "\n",
    "tashu_2020_station['회원구분2'] = [col_levels[i] for i in idx]\n",
    "tashu_2020_station.head(3)"
   ]
  },
  {
   "cell_type": "code",
   "execution_count": 26,
   "metadata": {},
   "outputs": [
    {
     "data": {
      "text/html": [
       "<div>\n",
       "<style scoped>\n",
       "    .dataframe tbody tr th:only-of-type {\n",
       "        vertical-align: middle;\n",
       "    }\n",
       "\n",
       "    .dataframe tbody tr th {\n",
       "        vertical-align: top;\n",
       "    }\n",
       "\n",
       "    .dataframe thead th {\n",
       "        text-align: right;\n",
       "    }\n",
       "</style>\n",
       "<table border=\"1\" class=\"dataframe\">\n",
       "  <thead>\n",
       "    <tr style=\"text-align: right;\">\n",
       "      <th></th>\n",
       "      <th>대여스테이션</th>\n",
       "      <th>대여일시</th>\n",
       "      <th>반납스테이션</th>\n",
       "      <th>반납일시</th>\n",
       "      <th>이동거리</th>\n",
       "      <th>회원구분</th>\n",
       "      <th>대여스테이션_이름</th>\n",
       "      <th>반납스테이션_이름</th>\n",
       "      <th>회원구분2</th>\n",
       "    </tr>\n",
       "  </thead>\n",
       "  <tbody>\n",
       "    <tr>\n",
       "      <th>count</th>\n",
       "      <td>604446</td>\n",
       "      <td>604446</td>\n",
       "      <td>595778</td>\n",
       "      <td>604446</td>\n",
       "      <td>595857.000000</td>\n",
       "      <td>604446</td>\n",
       "      <td>604446</td>\n",
       "      <td>595778</td>\n",
       "      <td>604446</td>\n",
       "    </tr>\n",
       "    <tr>\n",
       "      <th>unique</th>\n",
       "      <td>262</td>\n",
       "      <td>590970</td>\n",
       "      <td>262</td>\n",
       "      <td>590517</td>\n",
       "      <td>NaN</td>\n",
       "      <td>3</td>\n",
       "      <td>262</td>\n",
       "      <td>262</td>\n",
       "      <td>3</td>\n",
       "    </tr>\n",
       "    <tr>\n",
       "      <th>top</th>\n",
       "      <td>3</td>\n",
       "      <td>20200926162941</td>\n",
       "      <td>3</td>\n",
       "      <td>20200905164703</td>\n",
       "      <td>NaN</td>\n",
       "      <td>2</td>\n",
       "      <td>한밭수목원1</td>\n",
       "      <td>한밭수목원1</td>\n",
       "      <td>비회원</td>\n",
       "    </tr>\n",
       "    <tr>\n",
       "      <th>freq</th>\n",
       "      <td>25476</td>\n",
       "      <td>4</td>\n",
       "      <td>27709</td>\n",
       "      <td>4</td>\n",
       "      <td>NaN</td>\n",
       "      <td>388611</td>\n",
       "      <td>25476</td>\n",
       "      <td>27709</td>\n",
       "      <td>388611</td>\n",
       "    </tr>\n",
       "    <tr>\n",
       "      <th>mean</th>\n",
       "      <td>NaN</td>\n",
       "      <td>NaN</td>\n",
       "      <td>NaN</td>\n",
       "      <td>NaN</td>\n",
       "      <td>1654.610620</td>\n",
       "      <td>NaN</td>\n",
       "      <td>NaN</td>\n",
       "      <td>NaN</td>\n",
       "      <td>NaN</td>\n",
       "    </tr>\n",
       "    <tr>\n",
       "      <th>std</th>\n",
       "      <td>NaN</td>\n",
       "      <td>NaN</td>\n",
       "      <td>NaN</td>\n",
       "      <td>NaN</td>\n",
       "      <td>1446.016779</td>\n",
       "      <td>NaN</td>\n",
       "      <td>NaN</td>\n",
       "      <td>NaN</td>\n",
       "      <td>NaN</td>\n",
       "    </tr>\n",
       "    <tr>\n",
       "      <th>min</th>\n",
       "      <td>NaN</td>\n",
       "      <td>NaN</td>\n",
       "      <td>NaN</td>\n",
       "      <td>NaN</td>\n",
       "      <td>0.000000</td>\n",
       "      <td>NaN</td>\n",
       "      <td>NaN</td>\n",
       "      <td>NaN</td>\n",
       "      <td>NaN</td>\n",
       "    </tr>\n",
       "    <tr>\n",
       "      <th>25%</th>\n",
       "      <td>NaN</td>\n",
       "      <td>NaN</td>\n",
       "      <td>NaN</td>\n",
       "      <td>NaN</td>\n",
       "      <td>530.000000</td>\n",
       "      <td>NaN</td>\n",
       "      <td>NaN</td>\n",
       "      <td>NaN</td>\n",
       "      <td>NaN</td>\n",
       "    </tr>\n",
       "    <tr>\n",
       "      <th>50%</th>\n",
       "      <td>NaN</td>\n",
       "      <td>NaN</td>\n",
       "      <td>NaN</td>\n",
       "      <td>NaN</td>\n",
       "      <td>1290.000000</td>\n",
       "      <td>NaN</td>\n",
       "      <td>NaN</td>\n",
       "      <td>NaN</td>\n",
       "      <td>NaN</td>\n",
       "    </tr>\n",
       "    <tr>\n",
       "      <th>75%</th>\n",
       "      <td>NaN</td>\n",
       "      <td>NaN</td>\n",
       "      <td>NaN</td>\n",
       "      <td>NaN</td>\n",
       "      <td>2560.000000</td>\n",
       "      <td>NaN</td>\n",
       "      <td>NaN</td>\n",
       "      <td>NaN</td>\n",
       "      <td>NaN</td>\n",
       "    </tr>\n",
       "    <tr>\n",
       "      <th>max</th>\n",
       "      <td>NaN</td>\n",
       "      <td>NaN</td>\n",
       "      <td>NaN</td>\n",
       "      <td>NaN</td>\n",
       "      <td>5630.000000</td>\n",
       "      <td>NaN</td>\n",
       "      <td>NaN</td>\n",
       "      <td>NaN</td>\n",
       "      <td>NaN</td>\n",
       "    </tr>\n",
       "  </tbody>\n",
       "</table>\n",
       "</div>"
      ],
      "text/plain": [
       "        대여스테이션            대여일시  반납스테이션            반납일시           이동거리    회원구분  \\\n",
       "count   604446          604446  595778          604446  595857.000000  604446   \n",
       "unique     262          590970     262          590517            NaN       3   \n",
       "top          3  20200926162941       3  20200905164703            NaN       2   \n",
       "freq     25476               4   27709               4            NaN  388611   \n",
       "mean       NaN             NaN     NaN             NaN    1654.610620     NaN   \n",
       "std        NaN             NaN     NaN             NaN    1446.016779     NaN   \n",
       "min        NaN             NaN     NaN             NaN       0.000000     NaN   \n",
       "25%        NaN             NaN     NaN             NaN     530.000000     NaN   \n",
       "50%        NaN             NaN     NaN             NaN    1290.000000     NaN   \n",
       "75%        NaN             NaN     NaN             NaN    2560.000000     NaN   \n",
       "max        NaN             NaN     NaN             NaN    5630.000000     NaN   \n",
       "\n",
       "       대여스테이션_이름 반납스테이션_이름   회원구분2  \n",
       "count     604446    595778  604446  \n",
       "unique       262       262       3  \n",
       "top       한밭수목원1    한밭수목원1     비회원  \n",
       "freq       25476     27709  388611  \n",
       "mean         NaN       NaN     NaN  \n",
       "std          NaN       NaN     NaN  \n",
       "min          NaN       NaN     NaN  \n",
       "25%          NaN       NaN     NaN  \n",
       "50%          NaN       NaN     NaN  \n",
       "75%          NaN       NaN     NaN  \n",
       "max          NaN       NaN     NaN  "
      ]
     },
     "execution_count": 26,
     "metadata": {},
     "output_type": "execute_result"
    }
   ],
   "source": [
    "tashu_2020_station.describe(include = 'all')"
   ]
  },
  {
   "cell_type": "markdown",
   "metadata": {},
   "source": [
    "#### 그래프 요약"
   ]
  },
  {
   "cell_type": "code",
   "execution_count": 30,
   "metadata": {},
   "outputs": [],
   "source": [
    "from matplotlib import pyplot as plt\n",
    "import seaborn as sns\n",
    "from plotnine import *\n",
    "from plotnine.data import mtcars\n",
    "\n",
    "plt.rcParams['font.family'] = 'Gulim'\n",
    "plt.style.use('ggplot')"
   ]
  },
  {
   "cell_type": "code",
   "execution_count": 31,
   "metadata": {},
   "outputs": [
    {
     "data": {
      "image/png": "[encoded data removed]",
      "text/plain": [
       "<Figure size 432x288 with 3 Axes>"
      ]
     },
     "metadata": {},
     "output_type": "display_data"
    },
    {
     "data": {
      "text/plain": [
       "<ggplot: (100444788110)>"
      ]
     },
     "execution_count": 31,
     "metadata": {},
     "output_type": "execute_result"
    }
   ],
   "source": [
    "(\n",
    "    ggplot(mtcars, aes('wt', 'mpg', color = 'factor(gear)'))\n",
    "    + geom_point()\n",
    "    + stat_smooth(method = 'lm')\n",
    "    + facet_wrap('~gear')\n",
    ")"
   ]
  },
  {
   "cell_type": "markdown",
   "metadata": {},
   "source": [
    "##### 단일 변수의 탐색"
   ]
  },
  {
   "cell_type": "code",
   "execution_count": 35,
   "metadata": {},
   "outputs": [],
   "source": [
    "data_file = 'data/타슈/대전광역시_공영자전거(타슈) 위치(위경도) 현황_20200801.csv'\n",
    "tashu_station = pd.read_csv(data_file, encoding = 'cp949')"
   ]
  },
  {
   "cell_type": "markdown",
   "metadata": {},
   "source": [
    "###### 빈도표\n",
    "- 값이 발생한 빈도 혹은 횟수\n",
    "- 표본 값의 분포 요약"
   ]
  },
  {
   "cell_type": "code",
   "execution_count": 39,
   "metadata": {},
   "outputs": [],
   "source": [
    "tb = pd.crosstab(tashu_station['시군구명'], 'Freq', colnames = [''])\n",
    "\n",
    "tb_sort = tb.sort_values('Freq', ascending = False) # 내림차순 정렬"
   ]
  },
  {
   "cell_type": "markdown",
   "metadata": {},
   "source": [
    "###### 막대그래프"
   ]
  },
  {
   "cell_type": "code",
   "execution_count": 40,
   "metadata": {},
   "outputs": [
    {
     "data": {
      "image/png": "[encoded data removed]",
      "text/plain": [
       "<Figure size 640x480 with 1 Axes>"
      ]
     },
     "metadata": {},
     "output_type": "display_data"
    }
   ],
   "source": [
    "ax = tb.plot.bar(rot = 0)"
   ]
  },
  {
   "cell_type": "code",
   "execution_count": 43,
   "metadata": {},
   "outputs": [
    {
     "data": {
      "image/png": "[encoded data removed]",
      "text/plain": [
       "<Figure size 640x480 with 1 Axes>"
      ]
     },
     "metadata": {},
     "output_type": "display_data"
    }
   ],
   "source": [
    "ax = tb_sort.plot.bar(rot = 0, color = \"royalblue\")\n",
    "ax.set_title('타슈 스테이션 현황')\n",
    "ax.set_xlabel(\"\")\n",
    "ax.set_ylabel(\"스테이션 수\")\n",
    "ax.legend().remove() # 범례 X\n",
    "ax.set_facecolor(\"white\") # 배경색\n",
    "ax.grid(True, axis = \"y\", color = \"silver\") # 눈금선(y축)\n",
    "ax.tick_params(left = False, bottom = False) # 눈금 제거\n",
    "ax.spines['bottom'].set_color('black') # x축 표시\n",
    "plt.show()"
   ]
  },
  {
   "cell_type": "code",
   "execution_count": 44,
   "metadata": {},
   "outputs": [
    {
     "data": {
      "image/png": "[encoded data removed]",
      "text/plain": [
       "<Figure size 640x480 with 1 Axes>"
      ]
     },
     "metadata": {},
     "output_type": "display_data"
    }
   ],
   "source": [
    "tb_sort_asc = tb.sort_values('Freq', ascending = True)\n",
    "ax = tb_sort_asc.plot.barh()"
   ]
  },
  {
   "cell_type": "markdown",
   "metadata": {},
   "source": [
    "###### 원 그래프"
   ]
  },
  {
   "cell_type": "code",
   "execution_count": 45,
   "metadata": {},
   "outputs": [
    {
     "data": {
      "image/png": "[encoded data removed]",
      "text/plain": [
       "<Figure size 600x600 with 1 Axes>"
      ]
     },
     "metadata": {},
     "output_type": "display_data"
    }
   ],
   "source": [
    "ax = tb_sort_asc.plot.pie(y = 'Freq', figsize = (6, 6), fontsize = 12)"
   ]
  },
  {
   "cell_type": "code",
   "execution_count": 46,
   "metadata": {},
   "outputs": [
    {
     "data": {
      "image/png": "[encoded data removed]",
      "text/plain": [
       "<Figure size 600x600 with 1 Axes>"
      ]
     },
     "metadata": {},
     "output_type": "display_data"
    }
   ],
   "source": [
    "ax = tb_sort_asc.plot.pie(y = 'Freq', figsize = (6, 6), fontsize = 12,\n",
    "startangle = 90, autopct = '%.1f%%')\n",
    "\n",
    "ax.legend().remove()\n",
    "ax.set_ylabel(\"\")\n",
    "plt.show()"
   ]
  },
  {
   "cell_type": "markdown",
   "metadata": {},
   "source": [
    "##### 연속형 자료"
   ]
  },
  {
   "cell_type": "code",
   "execution_count": 47,
   "metadata": {},
   "outputs": [
    {
     "data": {
      "text/plain": [
       "(499409, 9)"
      ]
     },
     "execution_count": 47,
     "metadata": {},
     "output_type": "execute_result"
    }
   ],
   "source": [
    "df_use = tashu_2020_station.dropna(subset = ['이동거리'])\n",
    "\n",
    "df_use = df_use[df_use['이동거리'] > 0]\n",
    "df_use.shape"
   ]
  },
  {
   "cell_type": "markdown",
   "metadata": {},
   "source": [
    "###### 히스토그램\n",
    "- 도수 분포를 정보 그림으로 나타냄\n",
    "- 계급은 보통 변수의 구간, 서로 겹치지 않음"
   ]
  },
  {
   "cell_type": "code",
   "execution_count": 48,
   "metadata": {},
   "outputs": [
    {
     "data": {
      "image/png": "[encoded data removed]",
      "text/plain": [
       "<Figure size 640x480 with 1 Axes>"
      ]
     },
     "metadata": {},
     "output_type": "display_data"
    }
   ],
   "source": [
    "ax = df_use['이동거리'].plot.hist()"
   ]
  },
  {
   "cell_type": "code",
   "execution_count": null,
   "metadata": {},
   "outputs": [],
   "source": []
  }
 ],
 "metadata": {
  "kernelspec": {
   "display_name": "Python 3.9.13 64-bit (windows store)",
   "language": "python",
   "name": "python3"
  },
  "language_info": {
   "codemirror_mode": {
    "name": "ipython",
    "version": 3
   },
   "file_extension": ".py",
   "mimetype": "text/x-python",
   "name": "python",
   "nbconvert_exporter": "python",
   "pygments_lexer": "ipython3",
   "version": "3.9.13"
  },
  "orig_nbformat": 4,
  "vscode": {
   "interpreter": {
    "hash": "c567e38bbba99904a53d00386f4f69185e434fa5de320d43f5dd1fef59112ff0"
   }
  }
 },
 "nbformat": 4,
 "nbformat_minor": 2
}
