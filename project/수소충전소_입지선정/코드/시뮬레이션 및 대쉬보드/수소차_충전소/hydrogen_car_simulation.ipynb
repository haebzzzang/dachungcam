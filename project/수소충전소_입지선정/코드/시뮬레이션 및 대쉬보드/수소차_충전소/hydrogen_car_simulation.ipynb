{
 "cells": [
  {
   "cell_type": "code",
   "execution_count": null,
   "metadata": {},
   "outputs": [],
   "source": [
    "import pandas as pd\n",
    "import numpy as np \n",
    "import geopandas as gpd\n",
    "import os \n",
    "\n",
    "from generate_random_location import *"
   ]
  },
  {
   "cell_type": "code",
   "execution_count": null,
   "metadata": {},
   "outputs": [],
   "source": [
    "hydrogen_car_all = pd.read_excel('./data/2022년 7월말 수소차 구별 현황.xlsx')\n",
    "charge_data = gpd.read_file('./data/대전 수소충전소 현황/대전 수소충전소 현황.shp')"
   ]
  },
  {
   "cell_type": "code",
   "execution_count": null,
   "metadata": {},
   "outputs": [],
   "source": [
    "hydrogen_car_all.head()"
   ]
  },
  {
   "cell_type": "markdown",
   "metadata": {},
   "source": [
    "---\n",
    "### 데이터 생성 \n",
    "\n",
    "- 대전 수소차 random 위치 생성 코드"
   ]
  },
  {
   "cell_type": "code",
   "execution_count": null,
   "metadata": {},
   "outputs": [],
   "source": [
    "hydrogen_car_donggu = Generate_taxi_random_location('동구, 대전, 대한민국', 177)\n",
    "hydrogen_car_jonggu = Generate_taxi_random_location('중구, 대전, 대한민국', 171)\n",
    "hydrogen_car_sugu = Generate_taxi_random_location('서구, 대전, 대한민국', 375)\n",
    "hydrogen_car_usunggu = Generate_taxi_random_location('유성구, 대전, 대한민국', 341)\n",
    "hydrogen_car_daeduckgu = Generate_taxi_random_location('대덕구, 대전, 대한민국', 127)\n",
    "\n",
    "###\n",
    "hydrogen_car_donggu = pd.DataFrame(hydrogen_car_donggu, columns=['geometry'])\n",
    "hydrogen_car_donggu['구'] = '동구'\n",
    "hydrogen_car_jonggu = pd.DataFrame(hydrogen_car_jonggu, columns=['geometry'])\n",
    "hydrogen_car_jonggu['구'] = '중구'\n",
    "hydrogen_car_sugu = pd.DataFrame(hydrogen_car_sugu, columns=['geometry'])\n",
    "hydrogen_car_sugu['구'] = '서구'\n",
    "hydrogen_car_usunggu = pd.DataFrame(hydrogen_car_usunggu, columns=['geometry'])\n",
    "hydrogen_car_usunggu['구'] = '유성구'\n",
    "hydrogen_car_daeduckgu = pd.DataFrame(hydrogen_car_daeduckgu, columns=['geometry'])\n",
    "hydrogen_car_daeduckgu['구'] = '대덕구'\n",
    "\n",
    "###\n",
    "hydrogen_car_geometry = pd.concat([hydrogen_car_donggu, hydrogen_car_jonggu, hydrogen_car_sugu, hydrogen_car_usunggu, hydrogen_car_daeduckgu])\n",
    "\n",
    "### 다시 만들기 시간 오래 걸리니까 저장\n",
    "hydrogen_car_geometry['lon'] = [i.x for i in hydrogen_car_geometry['geometry']]\n",
    "hydrogen_car_geometry['lat'] = [i.y for i in hydrogen_car_geometry['geometry']]\n",
    "\n",
    "hydrogen_car_geometry.to_csv('hydrogen_car_geometry.csv', index=False)\n",
    "\n",
    "sample_car = hydrogen_car_geometry.sample(n=79) "
   ]
  },
  {
   "cell_type": "code",
   "execution_count": null,
   "metadata": {},
   "outputs": [],
   "source": [
    "print('시뮬레이션 차량 대수 : ',len(sample_car))"
   ]
  },
  {
   "cell_type": "markdown",
   "metadata": {},
   "source": [
    "- 충전 차량 요청 시간\n",
    "    - 가정: 교통량이 많은 시간에 충전을 하려는 차량도 많을 것이다.\n",
    "        - 교통량이 많은 시간 오전 첨두시(7시~9시), 오후 첨두시(18~20시)\n",
    "        - 오전 첨두시에는 출근 길이기 때문에 오후 첨두시에 충전하는 사람이 많을 것으로 예측\n",
    "    - 가정을 기반하여, 시간을 랜덤 부여 \n",
    "        - 오전 첨두시 30%, 오후 첨두시 60%, 그 외 시간 10% "
   ]
  },
  {
   "cell_type": "code",
   "execution_count": 19,
   "metadata": {},
   "outputs": [],
   "source": [
    "### 차량 충전 하러 가는 시간 \n",
    "AM_time_list = list(range(420, 540))   # 24대\n",
    "PM_time_list = list(range(1080, 1200)) # 47대\n",
    "etc_time_list = list(range(240, 1400)) # 8대 \n",
    "\n",
    "AM_random_time_list = np.random.choice(AM_time_list, size=16, replace=True)\n",
    "PM_random_time_list = np.random.choice(PM_time_list, size=32, replace=True)\n",
    "etc_random_time_list = np.random.choice(etc_time_list, size=5, replace=True)\n",
    "\n",
    "time_list = []\n",
    "\n",
    "time_list.extend(AM_random_time_list)\n",
    "time_list.extend(PM_random_time_list)\n",
    "time_list.extend(etc_random_time_list)\n",
    "\n",
    "sample_car['charge_time'] = time_list\n",
    "\n",
    "sample_car.to_csv('hydrogen_car_sample.csv', index=False)"
   ]
  },
  {
   "cell_type": "markdown",
   "metadata": {},
   "source": [
    "```Python\n",
    "### 대전 수소차 충전소 시각화\n",
    "import folium\n",
    "from folium import Marker\n",
    "from folium import Circle\n",
    "import osmnx as ox \n",
    "\n",
    "###대전광역시_법정경계 Data\n",
    "place = \"대전, 대한민국\"\n",
    "\n",
    "places = ox.geocode_to_gdf([place])\n",
    "places = ox.project_gdf(places)\n",
    "\n",
    "\n",
    "#lat, lon\n",
    "latitude = places.lat.values[0]; longitude = places.lon.values[0]\n",
    "#기본 지도 정의\n",
    "m = folium.Map(location=[latitude, longitude],\n",
    "               zoom_start=11)\n",
    "\n",
    "#법정경계 표시\n",
    "folium.Choropleth(geo_data=places.geometry,\n",
    "                  fill_color=\"white\",\n",
    "                  ).add_to(m)\n",
    "\n",
    "for _, row in sample_car.iterrows():\n",
    "    Circle(location = [row['lat'], row['lon']],\n",
    "           icon=folium.Icon(color='blue',icon='star'),\n",
    "           radius=100\n",
    "          ).add_to(m)\n",
    "    \n",
    "    \n",
    "for _, row in charge_data.iterrows():\n",
    "    Marker(location = [row['위도'], row['경도']],\n",
    "           popup=row['이름'],\n",
    "           icon=folium.Icon(color='red',icon='star')\n",
    "          ).add_to(m)\n",
    "\n",
    "m\n",
    "```"
   ]
  },
  {
   "cell_type": "markdown",
   "metadata": {},
   "source": [
    "- 영업소 정보 (영업 시간, 휴계시간, 충전 가능 대수)\n",
    "    - 학하수소충전소 : 9~20, 12~13, 1\n",
    "    - 신대수소충전소 : 4~24, x, 2\n",
    "    - 낭월수소충전소 : 4~24, x, 2\n",
    "    - 대전유성 : 8~20, x, 2\n",
    "    - 자운대 :8~20, x, 1\n",
    "    - 중도 : 8~20, x, 1\n",
    "    - 신탄진 : 8~22, x, 1"
   ]
  },
  {
   "cell_type": "code",
   "execution_count": null,
   "metadata": {},
   "outputs": [],
   "source": [
    "charge_data['capacity'] = [1,2,2,2,1,1,1]\n",
    "charge_data['business_hours'] = [[540, 1200],[240,1440],[240,1440],[480,1200],[480,1200],[480,1200],[480,1320]]\n",
    "charge_data['break_time'] = [[720, 780], [0,0],[0,0],[0,0],[0,0],[0,0],[0,0]]\n",
    "\n",
    "charge_data.to_csv('./data/prepared_data/charging_station.csv', index=False)"
   ]
  },
  {
   "cell_type": "markdown",
   "metadata": {},
   "source": [
    "- 완충시 주행거리 고려하여, 전체 차량의 1/15만 하루에 충전한다고 가정하여, 소수차 전체 차량의 1/15만 생성"
   ]
  },
  {
   "cell_type": "code",
   "execution_count": null,
   "metadata": {},
   "outputs": [],
   "source": [
    "hydrogen_car_geometry = pd.read_csv('./data/prepared_data/hydrogen_car_geometry.csv')\n",
    "sample_car = hydrogen_car_geometry.sample(frac=1/15) \n",
    "\n",
    "sample_car.to_csv('hydrogen_car_sample.csv', index=False)"
   ]
  },
  {
   "cell_type": "markdown",
   "metadata": {},
   "source": [
    "---"
   ]
  },
  {
   "cell_type": "markdown",
   "metadata": {},
   "source": [
    "### Simulation"
   ]
  },
  {
   "cell_type": "code",
   "execution_count": 1,
   "metadata": {},
   "outputs": [],
   "source": [
    "import pandas as pd\n",
    "import numpy as np \n",
    "from shapely.geometry import Point\n",
    "from dispatch_ortools import *\n",
    "from osrm_api import *\n",
    "import json\n",
    "import pickle"
   ]
  },
  {
   "cell_type": "code",
   "execution_count": 2,
   "metadata": {},
   "outputs": [],
   "source": [
    "# 주유소 추가 함수\n",
    "def add_station_func(charge_station):\n",
    "    add_station = pd.DataFrame([['sk엔크린_KH에너지직영_태양주유소','-',36.355570,127.436234,'-', 2, [480,1440], [0,0]],\n",
    "                ['중도가스_서대전충전소','-',36.326030,127.403108,'-', 2, [480,1440], [0,0]]], \n",
    "                columns=['이름', '주소', '위도', '경도', 'geometry', 'capacity', 'business_hours','break_time'])\n",
    "\n",
    "    charge_station = pd.concat([charge_station,add_station])\n",
    "    charge_station = charge_station.reset_index(drop=True)\n",
    "    return charge_station\n",
    "\n",
    "### 시나리오 선택\n",
    "# 1 : 기본 시나리오 (충전소 : 7개, 차량 : 79개)\n",
    "# 2 : 기본 시나리오 + 충전소 추가 (충전소 : 9개, 차량 79개)\n",
    "# 3 : 기본 시나리오 + 차량 추가 (충전소 : 7개, 차량 132개)  2023 증가 비율로 추가 반영 \n",
    "# 4 : 기본 시나리오 + 차량 추가 + 충전소 추가 (충전소 9개, 차량 132개)\n",
    "def select_scenario(mode='scen_1'):\n",
    "    if mode == 'scen_1':\n",
    "        charge_station = pd.read_csv('./data/prepared_data/charging_station.csv')\n",
    "        hydrogen_car_sample = pd.read_csv('./data/prepared_data/hydrogen_car_sample_79.csv')\n",
    "        \n",
    "        charge_station['business_hours'] = [eval(i) for i in charge_station['business_hours']]\n",
    "    elif mode == 'scen_2':\n",
    "        charge_station = pd.read_csv('./data/prepared_data/charging_station.csv')\n",
    "        hydrogen_car_sample = pd.read_csv('./data/prepared_data/hydrogen_car_sample_79.csv')        \n",
    "        \n",
    "        charge_station['business_hours'] = [eval(i) for i in charge_station['business_hours']] \n",
    "        charge_station = add_station_func(charge_station)\n",
    "\n",
    "    elif mode == 'scen_3':\n",
    "        charge_station = pd.read_csv('./data/prepared_data/charging_station.csv')\n",
    "        hydrogen_car_sample = pd.read_csv('./data/prepared_data/hydrogen_car_sample_79.csv')\n",
    "        extra_car_sample = pd.read_csv('./data/prepared_data/hydrogen_car_sample_extra_53.csv')\n",
    "        \n",
    "        charge_station['business_hours'] = [eval(i) for i in charge_station['business_hours']]\n",
    "        hydrogen_car_sample = pd.concat([hydrogen_car_sample, extra_car_sample])\n",
    "        hydrogen_car_sample = hydrogen_car_sample.reset_index(drop=True)\n",
    "    elif mode == 'scen_4':\n",
    "        charge_station = pd.read_csv('./data/prepared_data/charging_station.csv')\n",
    "        hydrogen_car_sample = pd.read_csv('./data/prepared_data/hydrogen_car_sample_79.csv')\n",
    "        extra_car_sample = pd.read_csv('./data/prepared_data/hydrogen_car_sample_extra_53.csv')\n",
    "        \n",
    "        charge_station['business_hours'] = [eval(i) for i in charge_station['business_hours']]\n",
    "        charge_station = add_station_func(charge_station)\n",
    "        \n",
    "        hydrogen_car_sample = pd.concat([hydrogen_car_sample, extra_car_sample])\n",
    "        hydrogen_car_sample = hydrogen_car_sample.reset_index(drop=True)\n",
    "        \n",
    "    return charge_station, hydrogen_car_sample"
   ]
  },
  {
   "cell_type": "code",
   "execution_count": 3,
   "metadata": {},
   "outputs": [],
   "source": [
    "def data_prepared(charge_station, hydrogen_car_sample):\n",
    "    ###\n",
    "    hydrogen_car_sample = hydrogen_car_sample.sort_values('charge_time')\n",
    "\n",
    "    charge_station['geometry'] = [Point(i[0],i[1]) for i in charge_station[['경도','위도']].values]\n",
    "    hydrogen_car_sample['geometry'] = [Point(i[0],i[1]) for i in hydrogen_car_sample[['lon','lat']].values]\n",
    "\n",
    "    charge_station['car_count'] = 0 \n",
    "    charge_station['car_accumulate_count'] = 0 \n",
    "    charge_station['station_id'] = [f'station_{i}' for i in range(len(charge_station))]\n",
    "    charge_station['charge_wait_time'] = [[0,0] if i == 2 else [0] for i in charge_station['capacity']]\n",
    "    charge_station['open_hour'] = [int(i[0]) for i in charge_station['business_hours']]\n",
    "    charge_station['close_hour'] = [int(i[1]) for i in charge_station['business_hours']]\n",
    "    charge_station['car_arrival_time'] = [[] for i in range(len(charge_station))]\n",
    "    return charge_station, hydrogen_car_sample"
   ]
  },
  {
   "cell_type": "code",
   "execution_count": 4,
   "metadata": {},
   "outputs": [],
   "source": [
    "def simulation(charge_station,hydrogen_car_sample):\n",
    "    ### 차량 정보\n",
    "    # 충전소까지 가는 거리, 걸리는 시간\n",
    "    to_station_time = []\n",
    "    to_station_distance = []\n",
    "    # 차량 처리 완료\n",
    "    vehicle_data = []\n",
    "\n",
    "    for i in range(300, 1440): \n",
    "        ### 충전하러 가는 차\n",
    "        # 가장 가까운 충전소로 가는 가정 (현재 충전소의 현황을 모르기 때문에 이렇게 가정함)\n",
    "        charging_car = hydrogen_car_sample.loc[hydrogen_car_sample['charge_time'] == i]\n",
    "        \n",
    "        # 이용 가능한 충전소\n",
    "        available_charge_station = charge_station.loc[(charge_station['open_hour'] <= i) & (charge_station['close_hour'] >= i)]\n",
    "        \n",
    "        if len(charging_car) > 0:\n",
    "            charging_car_iloc, station_iloc = main_dispatch_order(charging_car, available_charge_station, i)\n",
    "            \n",
    "            station_trans_dict = {data[1]['station_id']:idx for idx, data in enumerate(available_charge_station.iterrows())} \n",
    "            station_iloc = [station_trans_dict[i] for i in station_iloc]\n",
    "            \n",
    "            charging_car_sub = charging_car.iloc[charging_car_iloc]\n",
    "            charge_station_sub = available_charge_station.iloc[station_iloc]\n",
    "            \n",
    "            ###\n",
    "            all_steps = [get_res([O.x,O.y,D.x,D.y]) for O,D in zip(charging_car_sub['geometry'], charge_station_sub['geometry'])]\n",
    "            \n",
    "            all_routes = [get_total_route(step) for step in all_steps]\n",
    "            all_timestamps = [get_total_timestamp(step) for step in all_steps]\n",
    "            all_durations = [get_duration(step)/60 for step in all_steps]  # 시간이 초 단위이기 때문에 60을 나눠서 분으로 변경 \n",
    "            all_distances = [round(get_distance(step)) for step in all_steps]     # 거리 단위 meter \n",
    "            ###        \n",
    "            all_timestamps = [list(np.array(tstamp) + np.array(i)) for tstamp in all_timestamps]            \n",
    "            \n",
    "            charging_car_sub['route'] = all_routes\n",
    "            charging_car_sub['timestamp'] = all_timestamps\n",
    "            charging_car_sub['duration'] = all_durations\n",
    "            charging_car_sub['distance'] = all_distances\n",
    "            \n",
    "            vehicle_data.append(charging_car_sub)\n",
    "            to_station_time.append(all_durations)\n",
    "            to_station_distance.append(all_distances)\n",
    "            ###\n",
    "            # station 정보 업데이트 \n",
    "            for idx, time in zip(charge_station_sub.index.tolist(), charging_car_sub['timestamp'].values):\n",
    "                # 차량 충전소 도착 시간\n",
    "                car_arrival_time_list = charge_station['car_arrival_time'].iloc[idx]\n",
    "                car_arrival_time_list.append(time[-1])\n",
    "                charge_station.at[idx,'car_arrival_time'] = car_arrival_time_list\n",
    "                # 누적 차량 수\n",
    "                car_accumulate_count = charge_station['car_accumulate_count'].iloc[idx]\n",
    "                car_accumulate_count += 1\n",
    "                charge_station.at[idx,'car_accumulate_count'] = car_accumulate_count\n",
    "                \n",
    "    return charge_station, vehicle_data, to_station_time, to_station_distance"
   ]
  },
  {
   "cell_type": "code",
   "execution_count": 5,
   "metadata": {},
   "outputs": [],
   "source": [
    "mode = 'scen_4'\n",
    "\n",
    "charge_station, hydrogen_car_sample = select_scenario(mode)\n",
    "charge_station, hydrogen_car_sample = data_prepared(charge_station, hydrogen_car_sample)\n",
    "charge_station, vehicle_data, to_station_time, to_station_distance = simulation(charge_station, hydrogen_car_sample)\n",
    "\n",
    "vehicle = pd.concat(vehicle_data).reset_index(drop=True)"
   ]
  },
  {
   "cell_type": "markdown",
   "metadata": {},
   "source": [
    "- 충전소 대기시간 "
   ]
  },
  {
   "cell_type": "code",
   "execution_count": 6,
   "metadata": {},
   "outputs": [],
   "source": [
    "all_wait_time_list = []\n",
    "all_car_charge_time = []\n",
    "\n",
    "\n",
    "for i in charge_station.iterrows():\n",
    "    # 차량 충전소 waiting time \n",
    "    wait_time_list = []\n",
    "    # 충전 시작 시간\n",
    "    car_charge_time = []\n",
    "\n",
    "    if i[1]['capacity'] == 1:\n",
    "        wait_time = i[1]['charge_wait_time'][0]\n",
    "        arrival_time = i[1]['car_arrival_time'].copy()\n",
    "        target_arrival_time = float('inf')\n",
    "        \n",
    "        for j in i[1]['car_arrival_time']:\n",
    "            target_arrival_time = min(arrival_time)\n",
    "            arrival_time.remove(target_arrival_time)\n",
    "\n",
    "            if (wait_time == 0) | (wait_time <= target_arrival_time): \n",
    "                \n",
    "                wait_time_list.append(0)\n",
    "                \n",
    "                wait_time = target_arrival_time+12\n",
    "                \n",
    "                car_charge_time.append(target_arrival_time)\n",
    "                \n",
    "            elif wait_time > target_arrival_time:    \n",
    "                        \n",
    "                change_charge_time = wait_time\n",
    "                \n",
    "                wait_time_list.append(wait_time-target_arrival_time)\n",
    "                \n",
    "                wait_time = change_charge_time+12\n",
    "\n",
    "                car_charge_time.append(change_charge_time)\n",
    "                \n",
    "    if i[1]['capacity'] == 2:\n",
    "        wait_time_1 = i[1]['charge_wait_time'][0]\n",
    "        wait_time_2 = i[1]['charge_wait_time'][1]\n",
    "        arrival_time = i[1]['car_arrival_time'].copy()\n",
    "        target_arrival_time = float('inf')\n",
    "            \n",
    "        for j in i[1]['car_arrival_time']:\n",
    "            \n",
    "            wait_time = min([wait_time_1, wait_time_2])\n",
    "            wait_min_idx = [wait_time_1, wait_time_2].index(min([wait_time_1, wait_time_2]))\n",
    "            \n",
    "            target_arrival_time = min(arrival_time)\n",
    "            arrival_time.remove(target_arrival_time)    \n",
    "            \n",
    "            if (wait_time == 0) | (wait_time <= target_arrival_time): \n",
    "                \n",
    "                wait_time_list.append(0)\n",
    "                \n",
    "                if wait_min_idx == 0:\n",
    "                    wait_time_1 = target_arrival_time+12\n",
    "                elif wait_min_idx == 1:\n",
    "                    wait_time_2 = target_arrival_time+12\n",
    "                \n",
    "                car_charge_time.append(target_arrival_time)\n",
    "                \n",
    "            elif wait_time > target_arrival_time:    \n",
    "                        \n",
    "                change_charge_time = wait_time\n",
    "                \n",
    "                wait_time_list.append(wait_time-target_arrival_time)\n",
    "                \n",
    "                if wait_min_idx == 0:\n",
    "                    wait_time_1 = change_charge_time+12\n",
    "                elif wait_min_idx == 1:\n",
    "                    wait_time_2 = change_charge_time+12\n",
    "\n",
    "                car_charge_time.append(change_charge_time)\n",
    "                \n",
    "    all_wait_time_list.append(wait_time_list)\n",
    "    all_car_charge_time.append(car_charge_time)"
   ]
  },
  {
   "cell_type": "code",
   "execution_count": 7,
   "metadata": {},
   "outputs": [],
   "source": [
    "trips = [{'route':i[1]['route'], 'timestamp':i[1]['timestamp']} for i in vehicle.iterrows()]\n",
    "station = [{'id':i[1]['station_id'], 'loc':[i[1]['경도'],i[1]['위도']]} for i in charge_station.iterrows()]\n",
    "\n",
    "with open(f'./data/result_data/hydrogen_car_trips_{mode}.json', 'w') as f:\n",
    "    json.dump(trips,f)\n",
    "    \n",
    "with open(f'./data/result_data/station_location_{mode}.json', 'w') as f:\n",
    "    json.dump(station,f)\n",
    "\n",
    "\n",
    "# 전체 데이터 저장    \n",
    "all_data = [all_wait_time_list ,to_station_time,to_station_distance, vehicle_data, charge_station]\n",
    "\n",
    "with open(f'./data/result_data/all_data_{mode}.pickle', 'wb') as f:\n",
    "    pickle.dump(all_data, f)"
   ]
  },
  {
   "cell_type": "markdown",
   "metadata": {},
   "source": [
    "---"
   ]
  }
 ],
 "metadata": {
  "kernelspec": {
   "display_name": "Python 3.8.10 64-bit",
   "language": "python",
   "name": "python3"
  },
  "language_info": {
   "codemirror_mode": {
    "name": "ipython",
    "version": 3
   },
   "file_extension": ".py",
   "mimetype": "text/x-python",
   "name": "python",
   "nbconvert_exporter": "python",
   "pygments_lexer": "ipython3",
   "version": "3.8.10"
  },
  "orig_nbformat": 4,
  "vscode": {
   "interpreter": {
    "hash": "916dbcbb3f70747c44a77c7bcd40155683ae19c65e1c03b4aa3499c5328201f1"
   }
  }
 },
 "nbformat": 4,
 "nbformat_minor": 2
}
