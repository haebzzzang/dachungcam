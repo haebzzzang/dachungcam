{
 "cells": [
  {
   "cell_type": "code",
   "execution_count": 2,
   "metadata": {},
   "outputs": [],
   "source": [
    "import pandas as pd"
   ]
  },
  {
   "cell_type": "code",
   "execution_count": 3,
   "metadata": {},
   "outputs": [
    {
     "data": {
      "text/html": [
       "<div>\n",
       "<style scoped>\n",
       "    .dataframe tbody tr th:only-of-type {\n",
       "        vertical-align: middle;\n",
       "    }\n",
       "\n",
       "    .dataframe tbody tr th {\n",
       "        vertical-align: top;\n",
       "    }\n",
       "\n",
       "    .dataframe thead th {\n",
       "        text-align: right;\n",
       "    }\n",
       "</style>\n",
       "<table border=\"1\" class=\"dataframe\">\n",
       "  <thead>\n",
       "    <tr style=\"text-align: right;\">\n",
       "      <th></th>\n",
       "      <th>연번</th>\n",
       "      <th>구분</th>\n",
       "      <th>상호</th>\n",
       "      <th>사무소주소</th>\n",
       "      <th>연락처</th>\n",
       "      <th>데이터 기준일자</th>\n",
       "    </tr>\n",
       "  </thead>\n",
       "  <tbody>\n",
       "    <tr>\n",
       "      <th>0</th>\n",
       "      <td>1</td>\n",
       "      <td>LPG 저장소</td>\n",
       "      <td>중앙아스콘(주)</td>\n",
       "      <td>대전광역시 중구 단재로 378-47 (어남동)</td>\n",
       "      <td>042-285-0201</td>\n",
       "      <td>2021-11-05</td>\n",
       "    </tr>\n",
       "    <tr>\n",
       "      <th>1</th>\n",
       "      <td>2</td>\n",
       "      <td>LPG 충전사업</td>\n",
       "      <td>삼경가스(주)충전소</td>\n",
       "      <td>대전광역시 중구 문화로 8(산성동)</td>\n",
       "      <td>042-583-0089</td>\n",
       "      <td>2021-11-05</td>\n",
       "    </tr>\n",
       "    <tr>\n",
       "      <th>2</th>\n",
       "      <td>3</td>\n",
       "      <td>LPG 충전사업</td>\n",
       "      <td>세일가스충전소</td>\n",
       "      <td>대전광역시 중구 대종로 117(옥계동)</td>\n",
       "      <td>042-271-2271</td>\n",
       "      <td>2021-11-05</td>\n",
       "    </tr>\n",
       "  </tbody>\n",
       "</table>\n",
       "</div>"
      ],
      "text/plain": [
       "   연번        구분          상호                      사무소주소           연락처  \\\n",
       "0   1   LPG 저장소    중앙아스콘(주)  대전광역시 중구 단재로 378-47 (어남동)  042-285-0201   \n",
       "1   2  LPG 충전사업  삼경가스(주)충전소        대전광역시 중구 문화로 8(산성동)  042-583-0089   \n",
       "2   3  LPG 충전사업     세일가스충전소      대전광역시 중구 대종로 117(옥계동)  042-271-2271   \n",
       "\n",
       "     데이터 기준일자  \n",
       "0  2021-11-05  \n",
       "1  2021-11-05  \n",
       "2  2021-11-05  "
      ]
     },
     "execution_count": 3,
     "metadata": {},
     "output_type": "execute_result"
    }
   ],
   "source": [
    "a = pd.read_csv('./데이터/대전광역시 중구_가스사업자_현황_20211105.csv', encoding = 'cp949')\n",
    "a.head(3)"
   ]
  },
  {
   "cell_type": "code",
   "execution_count": 6,
   "metadata": {},
   "outputs": [
    {
     "data": {
      "text/html": [
       "<div>\n",
       "<style scoped>\n",
       "    .dataframe tbody tr th:only-of-type {\n",
       "        vertical-align: middle;\n",
       "    }\n",
       "\n",
       "    .dataframe tbody tr th {\n",
       "        vertical-align: top;\n",
       "    }\n",
       "\n",
       "    .dataframe thead th {\n",
       "        text-align: right;\n",
       "    }\n",
       "</style>\n",
       "<table border=\"1\" class=\"dataframe\">\n",
       "  <thead>\n",
       "    <tr style=\"text-align: right;\">\n",
       "      <th></th>\n",
       "      <th>행정구역</th>\n",
       "      <th>업소명</th>\n",
       "      <th>소재지</th>\n",
       "      <th>전화번호</th>\n",
       "      <th>관리구분</th>\n",
       "    </tr>\n",
       "  </thead>\n",
       "  <tbody>\n",
       "    <tr>\n",
       "      <th>318</th>\n",
       "      <td>대전 대덕구</td>\n",
       "      <td>(주)회덕아이씨주유소충전소</td>\n",
       "      <td>대전 대덕구 갑천도시고속도로 1084 (신대동)</td>\n",
       "      <td>042-0672-5151</td>\n",
       "      <td>자동차충전</td>\n",
       "    </tr>\n",
       "    <tr>\n",
       "      <th>319</th>\n",
       "      <td>대전 대덕구</td>\n",
       "      <td>공단LPG충전소</td>\n",
       "      <td>대전 대덕구 대덕대로 1408 공단LPG충전소</td>\n",
       "      <td>042-0935-1365</td>\n",
       "      <td>자동차충전</td>\n",
       "    </tr>\n",
       "    <tr>\n",
       "      <th>320</th>\n",
       "      <td>대전 대덕구</td>\n",
       "      <td>동대전충전소</td>\n",
       "      <td>대전 대덕구 대전로 1108, 한남로88번길 75</td>\n",
       "      <td>042-0626-6460</td>\n",
       "      <td>자동차충전</td>\n",
       "    </tr>\n",
       "    <tr>\n",
       "      <th>321</th>\n",
       "      <td>대전 대덕구</td>\n",
       "      <td>대화LPG충전소</td>\n",
       "      <td>대전 대덕구 대전로 1238</td>\n",
       "      <td>042-0625-0344</td>\n",
       "      <td>자동차충전</td>\n",
       "    </tr>\n",
       "    <tr>\n",
       "      <th>322</th>\n",
       "      <td>대전 대덕구</td>\n",
       "      <td>정동가스충전소</td>\n",
       "      <td>대전 대덕구 대전로1020번길 47</td>\n",
       "      <td>042-0623-0487</td>\n",
       "      <td>자동차충전</td>\n",
       "    </tr>\n",
       "  </tbody>\n",
       "</table>\n",
       "</div>"
      ],
      "text/plain": [
       "       행정구역             업소명                          소재지           전화번호   관리구분\n",
       "318  대전 대덕구  (주)회덕아이씨주유소충전소   대전 대덕구 갑천도시고속도로 1084 (신대동)  042-0672-5151  자동차충전\n",
       "319  대전 대덕구        공단LPG충전소    대전 대덕구 대덕대로 1408 공단LPG충전소  042-0935-1365  자동차충전\n",
       "320  대전 대덕구          동대전충전소  대전 대덕구 대전로 1108, 한남로88번길 75  042-0626-6460  자동차충전\n",
       "321  대전 대덕구        대화LPG충전소              대전 대덕구 대전로 1238  042-0625-0344  자동차충전\n",
       "322  대전 대덕구         정동가스충전소          대전 대덕구 대전로1020번길 47  042-0623-0487  자동차충전"
      ]
     },
     "execution_count": 6,
     "metadata": {},
     "output_type": "execute_result"
    }
   ],
   "source": [
    "b = pd.read_csv('./데이터/한국가스안전공사_전국 LPG 충전소 현황_20210925.csv', encoding = 'cp949')\n",
    "b[b['행정구역'].str.contains('대전')].head()"
   ]
  },
  {
   "cell_type": "code",
   "execution_count": 5,
   "metadata": {},
   "outputs": [
    {
     "data": {
      "text/html": [
       "<div>\n",
       "<style scoped>\n",
       "    .dataframe tbody tr th:only-of-type {\n",
       "        vertical-align: middle;\n",
       "    }\n",
       "\n",
       "    .dataframe tbody tr th {\n",
       "        vertical-align: top;\n",
       "    }\n",
       "\n",
       "    .dataframe thead th {\n",
       "        text-align: right;\n",
       "    }\n",
       "</style>\n",
       "<table border=\"1\" class=\"dataframe\">\n",
       "  <thead>\n",
       "    <tr style=\"text-align: right;\">\n",
       "      <th></th>\n",
       "      <th>이름</th>\n",
       "      <th>주소</th>\n",
       "    </tr>\n",
       "  </thead>\n",
       "  <tbody>\n",
       "    <tr>\n",
       "      <th>0</th>\n",
       "      <td>학하수소충전소</td>\n",
       "      <td>대전광역시 유성구 유성대로 437</td>\n",
       "    </tr>\n",
       "    <tr>\n",
       "      <th>1</th>\n",
       "      <td>신대수소버스충전소</td>\n",
       "      <td>대전광역시 대덕구 신탄진로315번길 72</td>\n",
       "    </tr>\n",
       "    <tr>\n",
       "      <th>2</th>\n",
       "      <td>낭월수소버스충전소</td>\n",
       "      <td>대전광역시 동구 금산로 455</td>\n",
       "    </tr>\n",
       "    <tr>\n",
       "      <th>3</th>\n",
       "      <td>대전유성수소충전소</td>\n",
       "      <td>대전광역시 유성구 현충원로 168</td>\n",
       "    </tr>\n",
       "    <tr>\n",
       "      <th>4</th>\n",
       "      <td>하이넷자운대충전소</td>\n",
       "      <td>대전광역시 유성구 자운로 62</td>\n",
       "    </tr>\n",
       "    <tr>\n",
       "      <th>5</th>\n",
       "      <td>대전중도가스수소충전소</td>\n",
       "      <td>대전광역시 동구 대전로 295</td>\n",
       "    </tr>\n",
       "    <tr>\n",
       "      <th>6</th>\n",
       "      <td>하이넷신탄진휴게소수소충전소</td>\n",
       "      <td>대전광역시 대덕구 산업단지로 27</td>\n",
       "    </tr>\n",
       "  </tbody>\n",
       "</table>\n",
       "</div>"
      ],
      "text/plain": [
       "               이름                      주소\n",
       "0         학하수소충전소      대전광역시 유성구 유성대로 437\n",
       "1       신대수소버스충전소  대전광역시 대덕구 신탄진로315번길 72\n",
       "2       낭월수소버스충전소        대전광역시 동구 금산로 455\n",
       "3       대전유성수소충전소      대전광역시 유성구 현충원로 168\n",
       "4       하이넷자운대충전소        대전광역시 유성구 자운로 62\n",
       "5     대전중도가스수소충전소        대전광역시 동구 대전로 295\n",
       "6  하이넷신탄진휴게소수소충전소      대전광역시 대덕구 산업단지로 27"
      ]
     },
     "execution_count": 5,
     "metadata": {},
     "output_type": "execute_result"
    }
   ],
   "source": [
    "c = pd.read_excel('./데이터/대전시 수소충전소 현황.xlsx', skiprows = 2, skipfooter = 2, usecols = ['이름', '주소'])\n",
    "c"
   ]
  },
  {
   "cell_type": "code",
   "execution_count": null,
   "metadata": {},
   "outputs": [],
   "source": []
  }
 ],
 "metadata": {
  "kernelspec": {
   "display_name": "Python 3.10.5 64-bit",
   "language": "python",
   "name": "python3"
  },
  "language_info": {
   "codemirror_mode": {
    "name": "ipython",
    "version": 3
   },
   "file_extension": ".py",
   "mimetype": "text/x-python",
   "name": "python",
   "nbconvert_exporter": "python",
   "pygments_lexer": "ipython3",
   "version": "3.10.5"
  },
  "orig_nbformat": 4,
  "vscode": {
   "interpreter": {
    "hash": "aee8b7b246df8f9039afb4144a1f6fd8d2ca17a180786b69acc140d282b71a49"
   }
  }
 },
 "nbformat": 4,
 "nbformat_minor": 2
}
