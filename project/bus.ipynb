{
 "cells": [
  {
   "cell_type": "code",
   "execution_count": 50,
   "metadata": {},
   "outputs": [],
   "source": [
    "import xlrd\n",
    "import pandas as pd\n",
    "import numpy as pd"
   ]
  },
  {
   "cell_type": "code",
   "execution_count": 3,
   "metadata": {},
   "outputs": [],
   "source": [
    "import os\n",
    "files_05 = os.listdir('./데이터/202205_시내')\n",
    "files_06 = os.listdir('./데이터/202206_시내')"
   ]
  },
  {
   "cell_type": "code",
   "execution_count": 5,
   "metadata": {},
   "outputs": [],
   "source": [
    "df_05 = pd.DataFrame()\n",
    "\n",
    "for i in files_05 :\n",
    "    data = pd.read_excel('./데이터/202205_시내/' + i, header = 1)\n",
    "    data['날짜'] = i.split('_')[1]\n",
    "    df_05 = pd.concat([df_05, data])"
   ]
  },
  {
   "cell_type": "code",
   "execution_count": 15,
   "metadata": {},
   "outputs": [],
   "source": [
    "df_06 = pd.DataFrame()\n",
    "\n",
    "for i in files_06 :\n",
    "    data = pd.read_excel('./데이터/202206_시내/' + i, header = 1)\n",
    "    data['날짜'] = i.split('_')[1]\n",
    "    df_06 = pd.concat([df_06, data])"
   ]
  },
  {
   "cell_type": "code",
   "execution_count": 16,
   "metadata": {},
   "outputs": [],
   "source": [
    "df = pd.concat([df_05, df_06])"
   ]
  },
  {
   "cell_type": "code",
   "execution_count": 30,
   "metadata": {},
   "outputs": [
    {
     "data": {
      "text/html": [
       "<div>\n",
       "<style scoped>\n",
       "    .dataframe tbody tr th:only-of-type {\n",
       "        vertical-align: middle;\n",
       "    }\n",
       "\n",
       "    .dataframe tbody tr th {\n",
       "        vertical-align: top;\n",
       "    }\n",
       "\n",
       "    .dataframe thead th {\n",
       "        text-align: right;\n",
       "    }\n",
       "</style>\n",
       "<table border=\"1\" class=\"dataframe\">\n",
       "  <thead>\n",
       "    <tr style=\"text-align: right;\">\n",
       "      <th></th>\n",
       "      <th>정류장코드</th>\n",
       "      <th>정류장명</th>\n",
       "      <th>승차합계</th>\n",
       "      <th>하차합계</th>\n",
       "      <th>날짜</th>\n",
       "    </tr>\n",
       "  </thead>\n",
       "  <tbody>\n",
       "    <tr>\n",
       "      <th>0</th>\n",
       "      <td>합계</td>\n",
       "      <td>합계</td>\n",
       "      <td>1,174,516</td>\n",
       "      <td>470,049</td>\n",
       "      <td>20220517</td>\n",
       "    </tr>\n",
       "    <tr>\n",
       "      <th>1</th>\n",
       "      <td>2620843</td>\n",
       "      <td>연제공용버스차고지</td>\n",
       "      <td>48</td>\n",
       "      <td>0</td>\n",
       "      <td>20220517</td>\n",
       "    </tr>\n",
       "    <tr>\n",
       "      <th>2</th>\n",
       "      <td>2609878</td>\n",
       "      <td>개인택시조합</td>\n",
       "      <td>0</td>\n",
       "      <td>0</td>\n",
       "      <td>20220517</td>\n",
       "    </tr>\n",
       "  </tbody>\n",
       "</table>\n",
       "</div>"
      ],
      "text/plain": [
       "     정류장코드       정류장명       승차합계     하차합계        날짜\n",
       "0       합계         합계  1,174,516  470,049  20220517\n",
       "1  2620843  연제공용버스차고지         48        0  20220517\n",
       "2  2609878     개인택시조합          0        0  20220517"
      ]
     },
     "execution_count": 30,
     "metadata": {},
     "output_type": "execute_result"
    }
   ],
   "source": [
    "df_use = df[['정류장코드', '정류장명', '승차합계', '하차합계', '날짜']]\n",
    "df_use.head(3)"
   ]
  },
  {
   "cell_type": "code",
   "execution_count": 36,
   "metadata": {},
   "outputs": [],
   "source": [
    "index = df_use[df_use['정류장코드'] == '합계'].index\n",
    "df_use = df_use.drop(index)"
   ]
  },
  {
   "cell_type": "code",
   "execution_count": 54,
   "metadata": {},
   "outputs": [
    {
     "data": {
      "text/html": [
       "<div>\n",
       "<style scoped>\n",
       "    .dataframe tbody tr th:only-of-type {\n",
       "        vertical-align: middle;\n",
       "    }\n",
       "\n",
       "    .dataframe tbody tr th {\n",
       "        vertical-align: top;\n",
       "    }\n",
       "\n",
       "    .dataframe thead th {\n",
       "        text-align: right;\n",
       "    }\n",
       "</style>\n",
       "<table border=\"1\" class=\"dataframe\">\n",
       "  <thead>\n",
       "    <tr style=\"text-align: right;\">\n",
       "      <th></th>\n",
       "      <th>정류장코드</th>\n",
       "      <th>정류장명</th>\n",
       "      <th>승차합계</th>\n",
       "      <th>하차합계</th>\n",
       "      <th>날짜</th>\n",
       "    </tr>\n",
       "  </thead>\n",
       "  <tbody>\n",
       "    <tr>\n",
       "      <th>1</th>\n",
       "      <td>2620843</td>\n",
       "      <td>연제공용버스차고지</td>\n",
       "      <td>48</td>\n",
       "      <td>0</td>\n",
       "      <td>2022-05-17</td>\n",
       "    </tr>\n",
       "    <tr>\n",
       "      <th>2</th>\n",
       "      <td>2609878</td>\n",
       "      <td>개인택시조합</td>\n",
       "      <td>0</td>\n",
       "      <td>0</td>\n",
       "      <td>2022-05-17</td>\n",
       "    </tr>\n",
       "    <tr>\n",
       "      <th>3</th>\n",
       "      <td>2609879</td>\n",
       "      <td>부산의료원</td>\n",
       "      <td>42</td>\n",
       "      <td>0</td>\n",
       "      <td>2022-05-17</td>\n",
       "    </tr>\n",
       "    <tr>\n",
       "      <th>4</th>\n",
       "      <td>2609880</td>\n",
       "      <td>삼정그린아파트</td>\n",
       "      <td>18</td>\n",
       "      <td>0</td>\n",
       "      <td>2022-05-17</td>\n",
       "    </tr>\n",
       "    <tr>\n",
       "      <th>5</th>\n",
       "      <td>2601702</td>\n",
       "      <td>사직실내수영장</td>\n",
       "      <td>47</td>\n",
       "      <td>1</td>\n",
       "      <td>2022-05-17</td>\n",
       "    </tr>\n",
       "    <tr>\n",
       "      <th>...</th>\n",
       "      <td>...</td>\n",
       "      <td>...</td>\n",
       "      <td>...</td>\n",
       "      <td>...</td>\n",
       "      <td>...</td>\n",
       "    </tr>\n",
       "    <tr>\n",
       "      <th>16538</th>\n",
       "      <td>2602920</td>\n",
       "      <td>동일고무벨트</td>\n",
       "      <td>2</td>\n",
       "      <td>20</td>\n",
       "      <td>2022-06-15</td>\n",
       "    </tr>\n",
       "    <tr>\n",
       "      <th>16539</th>\n",
       "      <td>2620137</td>\n",
       "      <td>부산예원고등학교</td>\n",
       "      <td>3</td>\n",
       "      <td>27</td>\n",
       "      <td>2022-06-15</td>\n",
       "    </tr>\n",
       "    <tr>\n",
       "      <th>16540</th>\n",
       "      <td>2612254</td>\n",
       "      <td>욱성화학</td>\n",
       "      <td>4</td>\n",
       "      <td>44</td>\n",
       "      <td>2022-06-15</td>\n",
       "    </tr>\n",
       "    <tr>\n",
       "      <th>16541</th>\n",
       "      <td>2604744</td>\n",
       "      <td>회동본동</td>\n",
       "      <td>0</td>\n",
       "      <td>10</td>\n",
       "      <td>2022-06-15</td>\n",
       "    </tr>\n",
       "    <tr>\n",
       "      <th>16542</th>\n",
       "      <td>2604745</td>\n",
       "      <td>회동동(기점)</td>\n",
       "      <td>9</td>\n",
       "      <td>41</td>\n",
       "      <td>2022-06-15</td>\n",
       "    </tr>\n",
       "  </tbody>\n",
       "</table>\n",
       "<p>1009038 rows × 5 columns</p>\n",
       "</div>"
      ],
      "text/plain": [
       "         정류장코드       정류장명 승차합계 하차합계         날짜\n",
       "1      2620843  연제공용버스차고지   48    0 2022-05-17\n",
       "2      2609878     개인택시조합    0    0 2022-05-17\n",
       "3      2609879      부산의료원   42    0 2022-05-17\n",
       "4      2609880    삼정그린아파트   18    0 2022-05-17\n",
       "5      2601702    사직실내수영장   47    1 2022-05-17\n",
       "...        ...        ...  ...  ...        ...\n",
       "16538  2602920     동일고무벨트    2   20 2022-06-15\n",
       "16539  2620137   부산예원고등학교    3   27 2022-06-15\n",
       "16540  2612254       욱성화학    4   44 2022-06-15\n",
       "16541  2604744       회동본동    0   10 2022-06-15\n",
       "16542  2604745    회동동(기점)    9   41 2022-06-15\n",
       "\n",
       "[1009038 rows x 5 columns]"
      ]
     },
     "execution_count": 54,
     "metadata": {},
     "output_type": "execute_result"
    }
   ],
   "source": [
    "df_use['날짜'] = pd.to_datetime(df_use['날짜'], format = '%Y-%m-%d')\n",
    "df_use"
   ]
  },
  {
   "cell_type": "code",
   "execution_count": null,
   "metadata": {},
   "outputs": [],
   "source": []
  }
 ],
 "metadata": {
  "kernelspec": {
   "display_name": "Python 3.10.5 64-bit",
   "language": "python",
   "name": "python3"
  },
  "language_info": {
   "codemirror_mode": {
    "name": "ipython",
    "version": 3
   },
   "file_extension": ".py",
   "mimetype": "text/x-python",
   "name": "python",
   "nbconvert_exporter": "python",
   "pygments_lexer": "ipython3",
   "version": "3.10.5"
  },
  "orig_nbformat": 4,
  "vscode": {
   "interpreter": {
    "hash": "aee8b7b246df8f9039afb4144a1f6fd8d2ca17a180786b69acc140d282b71a49"
   }
  }
 },
 "nbformat": 4,
 "nbformat_minor": 2
}
