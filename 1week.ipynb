{
 "cells": [
  {
   "cell_type": "markdown",
   "metadata": {},
   "source": [
    "#### 220628"
   ]
  },
  {
   "cell_type": "code",
   "execution_count": 2,
   "metadata": {},
   "outputs": [
    {
     "name": "stdout",
     "output_type": "stream",
     "text": [
      "3.9.13\n"
     ]
    }
   ],
   "source": [
    "import platform\n",
    "print(platform.python_version())"
   ]
  },
  {
   "cell_type": "code",
   "execution_count": 3,
   "metadata": {},
   "outputs": [
    {
     "name": "stdout",
     "output_type": "stream",
     "text": [
      "c:\\Users\\rproject\\Desktop\\데이터청년캠퍼스\\dachungcam\n"
     ]
    }
   ],
   "source": [
    "import os\n",
    "print(os.getcwd())"
   ]
  },
  {
   "cell_type": "markdown",
   "metadata": {},
   "source": [
    "##### Data Type"
   ]
  },
  {
   "cell_type": "code",
   "execution_count": 4,
   "metadata": {},
   "outputs": [
    {
     "data": {
      "text/plain": [
       "complex"
      ]
     },
     "execution_count": 4,
     "metadata": {},
     "output_type": "execute_result"
    }
   ],
   "source": [
    "a = 1\n",
    "b = 1.2345\n",
    "c = 3 + 4j\n",
    "\n",
    "type(a)\n",
    "type(b)\n",
    "type(c)"
   ]
  },
  {
   "cell_type": "code",
   "execution_count": 5,
   "metadata": {},
   "outputs": [
    {
     "data": {
      "text/plain": [
       "(5.2345+4j)"
      ]
     },
     "execution_count": 5,
     "metadata": {},
     "output_type": "execute_result"
    }
   ],
   "source": [
    "d = a + b + c\n",
    "d"
   ]
  },
  {
   "cell_type": "code",
   "execution_count": 6,
   "metadata": {},
   "outputs": [
    {
     "name": "stdout",
     "output_type": "stream",
     "text": [
      "Hello Bigdata\n",
      "Hello Bigdata\n",
      "Hello Bigdata\n",
      "Hello Bigdata\n",
      "and Cheer up!\n"
     ]
    }
   ],
   "source": [
    "sa = 'Hello Bigdata'\n",
    "print(sa)\n",
    "\n",
    "sb = \"Hello Bigdata\"\n",
    "print(sb)\n",
    "\n",
    "sc = \"\"\"Hello Bigdata\"\"\"\n",
    "print(sc)\n",
    "\n",
    "sd = '''Hello Bigdata'''\n",
    "print(sd)\n",
    "\n",
    "se = 'and Cheer up!'\n",
    "print(se)"
   ]
  },
  {
   "cell_type": "code",
   "execution_count": 7,
   "metadata": {},
   "outputs": [
    {
     "name": "stdout",
     "output_type": "stream",
     "text": [
      "Hello Bigdataand Cheer up!\n"
     ]
    }
   ],
   "source": [
    "print(sd + se)"
   ]
  },
  {
   "cell_type": "code",
   "execution_count": 8,
   "metadata": {},
   "outputs": [
    {
     "name": "stdout",
     "output_type": "stream",
     "text": [
      "=\n",
      "==================================================\n"
     ]
    }
   ],
   "source": [
    "a = \"=\"\n",
    "print(a)\n",
    "print(a * 50)"
   ]
  },
  {
   "cell_type": "code",
   "execution_count": 9,
   "metadata": {},
   "outputs": [
    {
     "data": {
      "text/plain": [
       "50"
      ]
     },
     "execution_count": 9,
     "metadata": {},
     "output_type": "execute_result"
    }
   ],
   "source": [
    "len(a)\n",
    "len(se)\n",
    "len(a * 50)"
   ]
  },
  {
   "cell_type": "code",
   "execution_count": 10,
   "metadata": {},
   "outputs": [
    {
     "name": "stdout",
     "output_type": "stream",
     "text": [
      "this is a string\n",
      "i\n",
      "t\n",
      "g\n",
      "i\n",
      " \n"
     ]
    }
   ],
   "source": [
    "a = 'this is a string'\n",
    "\n",
    "print(a)\n",
    "print(a[2])\n",
    "print(a[0])\n",
    "print(a[-1])\n",
    "print(a[5])\n",
    "print(a[4])"
   ]
  },
  {
   "cell_type": "code",
   "execution_count": 11,
   "metadata": {},
   "outputs": [
    {
     "name": "stdout",
     "output_type": "stream",
     "text": [
      "20200722Wed\n",
      "2020\n",
      "07\n",
      "20200722\n",
      "Wed\n",
      "20200722Wed\n",
      "202007\n"
     ]
    }
   ],
   "source": [
    "b = '20200722Wed'\n",
    "\n",
    "print(b)\n",
    "print(b[0:4])\n",
    "print(b[4:6])\n",
    "print(b[:8])\n",
    "print(b[8:])\n",
    "print(b[:])\n",
    "print(b[:-5])"
   ]
  },
  {
   "cell_type": "code",
   "execution_count": 12,
   "metadata": {},
   "outputs": [
    {
     "ename": "TypeError",
     "evalue": "'str' object does not support item assignment",
     "output_type": "error",
     "traceback": [
      "\u001b[1;31m---------------------------------------------------------------------------\u001b[0m",
      "\u001b[1;31mTypeError\u001b[0m                                 Traceback (most recent call last)",
      "\u001b[1;32mc:\\Users\\rproject\\Desktop\\데이터청년캠퍼스\\dachungcam\\1week.ipynb Cell 13'\u001b[0m in \u001b[0;36m<cell line: 2>\u001b[1;34m()\u001b[0m\n\u001b[0;32m      <a href='vscode-notebook-cell:/c%3A/Users/rproject/Desktop/%EB%8D%B0%EC%9D%B4%ED%84%B0%EC%B2%AD%EB%85%84%EC%BA%A0%ED%8D%BC%EC%8A%A4/dachungcam/1week.ipynb#ch0000017?line=0'>1</a>\u001b[0m a \u001b[39m=\u001b[39m \u001b[39m'\u001b[39m\u001b[39mthis is a string\u001b[39m\u001b[39m'\u001b[39m\n\u001b[1;32m----> <a href='vscode-notebook-cell:/c%3A/Users/rproject/Desktop/%EB%8D%B0%EC%9D%B4%ED%84%B0%EC%B2%AD%EB%85%84%EC%BA%A0%ED%8D%BC%EC%8A%A4/dachungcam/1week.ipynb#ch0000017?line=1'>2</a>\u001b[0m a[\u001b[39m10\u001b[39m:] \u001b[39m=\u001b[39m \u001b[39m'\u001b[39m\u001b[39mrope\u001b[39m\u001b[39m'\u001b[39m\n",
      "\u001b[1;31mTypeError\u001b[0m: 'str' object does not support item assignment"
     ]
    }
   ],
   "source": [
    "a = 'this is a string'\n",
    "a[10:] = 'rope'"
   ]
  },
  {
   "cell_type": "code",
   "execution_count": 13,
   "metadata": {},
   "outputs": [
    {
     "data": {
      "text/plain": [
       "'this is a robe'"
      ]
     },
     "execution_count": 13,
     "metadata": {},
     "output_type": "execute_result"
    }
   ],
   "source": [
    "b = 'robe'\n",
    "a[:10] + b"
   ]
  },
  {
   "cell_type": "code",
   "execution_count": 14,
   "metadata": {},
   "outputs": [
    {
     "name": "stdout",
     "output_type": "stream",
     "text": [
      "this is a rope\n"
     ]
    }
   ],
   "source": [
    "c = a.replace('string', 'rope')\n",
    "print(c)"
   ]
  },
  {
   "cell_type": "code",
   "execution_count": 16,
   "metadata": {},
   "outputs": [
    {
     "data": {
      "text/plain": [
       "'a equals 11.'"
      ]
     },
     "execution_count": 16,
     "metadata": {},
     "output_type": "execute_result"
    }
   ],
   "source": [
    "a = 11\n",
    "\n",
    "\"a equals %d.\" %3\n",
    "\"a equals %d.\" %a"
   ]
  },
  {
   "cell_type": "code",
   "execution_count": null,
   "metadata": {},
   "outputs": [],
   "source": [
    "b = "
   ]
  }
 ],
 "metadata": {
  "kernelspec": {
   "display_name": "Python 3.9.13 64-bit (windows store)",
   "language": "python",
   "name": "python3"
  },
  "language_info": {
   "codemirror_mode": {
    "name": "ipython",
    "version": 3
   },
   "file_extension": ".py",
   "mimetype": "text/x-python",
   "name": "python",
   "nbconvert_exporter": "python",
   "pygments_lexer": "ipython3",
   "version": "3.9.13"
  },
  "orig_nbformat": 4,
  "vscode": {
   "interpreter": {
    "hash": "c567e38bbba99904a53d00386f4f69185e434fa5de320d43f5dd1fef59112ff0"
   }
  }
 },
 "nbformat": 4,
 "nbformat_minor": 2
}
