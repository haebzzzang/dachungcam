{
 "cells": [
  {
   "cell_type": "markdown",
   "metadata": {},
   "source": [
    "### 220628"
   ]
  },
  {
   "cell_type": "code",
   "execution_count": 2,
   "metadata": {},
   "outputs": [
    {
     "name": "stdout",
     "output_type": "stream",
     "text": [
      "3.9.13\n"
     ]
    }
   ],
   "source": [
    "import platform\n",
    "print(platform.python_version())"
   ]
  },
  {
   "cell_type": "code",
   "execution_count": 3,
   "metadata": {},
   "outputs": [
    {
     "name": "stdout",
     "output_type": "stream",
     "text": [
      "c:\\Users\\rproject\\Desktop\\데이터청년캠퍼스\\dachungcam\n"
     ]
    }
   ],
   "source": [
    "import os\n",
    "print(os.getcwd())"
   ]
  },
  {
   "cell_type": "markdown",
   "metadata": {},
   "source": [
    "#### Data Type"
   ]
  },
  {
   "cell_type": "code",
   "execution_count": 4,
   "metadata": {},
   "outputs": [
    {
     "data": {
      "text/plain": [
       "complex"
      ]
     },
     "execution_count": 4,
     "metadata": {},
     "output_type": "execute_result"
    }
   ],
   "source": [
    "a = 1\n",
    "b = 1.2345\n",
    "c = 3 + 4j\n",
    "\n",
    "# 변수의 타입 확인\n",
    "type(a)\n",
    "type(b)\n",
    "type(c)"
   ]
  },
  {
   "cell_type": "code",
   "execution_count": 5,
   "metadata": {},
   "outputs": [
    {
     "data": {
      "text/plain": [
       "(5.2345+4j)"
      ]
     },
     "execution_count": 5,
     "metadata": {},
     "output_type": "execute_result"
    }
   ],
   "source": [
    "d = a + b + c\n",
    "d"
   ]
  },
  {
   "cell_type": "markdown",
   "metadata": {},
   "source": [
    "##### Str Type"
   ]
  },
  {
   "cell_type": "code",
   "execution_count": 6,
   "metadata": {},
   "outputs": [
    {
     "name": "stdout",
     "output_type": "stream",
     "text": [
      "Hello Bigdata\n",
      "Hello Bigdata\n",
      "Hello Bigdata\n",
      "Hello Bigdata\n",
      "and Cheer up!\n"
     ]
    }
   ],
   "source": [
    "sa = 'Hello Bigdata'\n",
    "print(sa)\n",
    "\n",
    "sb = \"Hello Bigdata\"\n",
    "print(sb)\n",
    "\n",
    "sc = \"\"\"Hello Bigdata\"\"\"\n",
    "print(sc)\n",
    "\n",
    "sd = '''Hello Bigdata'''\n",
    "print(sd)\n",
    "\n",
    "se = 'and Cheer up!'\n",
    "print(se)"
   ]
  },
  {
   "cell_type": "code",
   "execution_count": 7,
   "metadata": {},
   "outputs": [
    {
     "name": "stdout",
     "output_type": "stream",
     "text": [
      "Hello Bigdataand Cheer up!\n"
     ]
    }
   ],
   "source": [
    "print(sd + se)"
   ]
  },
  {
   "cell_type": "code",
   "execution_count": 8,
   "metadata": {},
   "outputs": [
    {
     "name": "stdout",
     "output_type": "stream",
     "text": [
      "=\n",
      "==================================================\n"
     ]
    }
   ],
   "source": [
    "a = \"=\"\n",
    "print(a)\n",
    "print(a * 50)"
   ]
  },
  {
   "cell_type": "code",
   "execution_count": 9,
   "metadata": {},
   "outputs": [
    {
     "data": {
      "text/plain": [
       "50"
      ]
     },
     "execution_count": 9,
     "metadata": {},
     "output_type": "execute_result"
    }
   ],
   "source": [
    "# 문자열 길이\n",
    "len(a)\n",
    "len(se)\n",
    "len(a * 50)"
   ]
  },
  {
   "cell_type": "markdown",
   "metadata": {},
   "source": [
    "###### 문자열 인덱싱"
   ]
  },
  {
   "cell_type": "code",
   "execution_count": 10,
   "metadata": {},
   "outputs": [
    {
     "name": "stdout",
     "output_type": "stream",
     "text": [
      "this is a string\n",
      "i\n",
      "t\n",
      "g\n",
      "i\n",
      " \n"
     ]
    }
   ],
   "source": [
    "a = 'this is a string'\n",
    "\n",
    "print(a)\n",
    "print(a[2])\n",
    "print(a[0])\n",
    "print(a[-1])\n",
    "print(a[5])\n",
    "print(a[4])"
   ]
  },
  {
   "cell_type": "markdown",
   "metadata": {},
   "source": [
    "###### 문자열 슬라이싱"
   ]
  },
  {
   "cell_type": "markdown",
   "metadata": {},
   "source": [
    "- 끝번호 값은 제외하고 출력"
   ]
  },
  {
   "cell_type": "code",
   "execution_count": 11,
   "metadata": {},
   "outputs": [
    {
     "name": "stdout",
     "output_type": "stream",
     "text": [
      "20200722Wed\n",
      "2020\n",
      "07\n",
      "20200722\n",
      "Wed\n",
      "20200722Wed\n",
      "202007\n"
     ]
    }
   ],
   "source": [
    "b = '20200722Wed'\n",
    "\n",
    "print(b)\n",
    "print(b[0:4])\n",
    "print(b[4:6])\n",
    "print(b[:8])\n",
    "print(b[8:])\n",
    "print(b[:])\n",
    "print(b[:-5])"
   ]
  },
  {
   "cell_type": "markdown",
   "metadata": {},
   "source": [
    "###### 문자열 수정"
   ]
  },
  {
   "cell_type": "code",
   "execution_count": 12,
   "metadata": {},
   "outputs": [
    {
     "ename": "TypeError",
     "evalue": "'str' object does not support item assignment",
     "output_type": "error",
     "traceback": [
      "\u001b[1;31m---------------------------------------------------------------------------\u001b[0m",
      "\u001b[1;31mTypeError\u001b[0m                                 Traceback (most recent call last)",
      "\u001b[1;32mc:\\Users\\rproject\\Desktop\\데이터청년캠퍼스\\dachungcam\\1week.ipynb Cell 13'\u001b[0m in \u001b[0;36m<cell line: 2>\u001b[1;34m()\u001b[0m\n\u001b[0;32m      <a href='vscode-notebook-cell:/c%3A/Users/rproject/Desktop/%EB%8D%B0%EC%9D%B4%ED%84%B0%EC%B2%AD%EB%85%84%EC%BA%A0%ED%8D%BC%EC%8A%A4/dachungcam/1week.ipynb#ch0000017?line=0'>1</a>\u001b[0m a \u001b[39m=\u001b[39m \u001b[39m'\u001b[39m\u001b[39mthis is a string\u001b[39m\u001b[39m'\u001b[39m\n\u001b[1;32m----> <a href='vscode-notebook-cell:/c%3A/Users/rproject/Desktop/%EB%8D%B0%EC%9D%B4%ED%84%B0%EC%B2%AD%EB%85%84%EC%BA%A0%ED%8D%BC%EC%8A%A4/dachungcam/1week.ipynb#ch0000017?line=1'>2</a>\u001b[0m a[\u001b[39m10\u001b[39m:] \u001b[39m=\u001b[39m \u001b[39m'\u001b[39m\u001b[39mrope\u001b[39m\u001b[39m'\u001b[39m\n",
      "\u001b[1;31mTypeError\u001b[0m: 'str' object does not support item assignment"
     ]
    }
   ],
   "source": [
    "a = 'this is a string'\n",
    "a[10:] = 'rope'"
   ]
  },
  {
   "cell_type": "code",
   "execution_count": 13,
   "metadata": {},
   "outputs": [
    {
     "data": {
      "text/plain": [
       "'this is a robe'"
      ]
     },
     "execution_count": 13,
     "metadata": {},
     "output_type": "execute_result"
    }
   ],
   "source": [
    "b = 'robe'\n",
    "a[:10] + b"
   ]
  },
  {
   "cell_type": "code",
   "execution_count": 14,
   "metadata": {},
   "outputs": [
    {
     "name": "stdout",
     "output_type": "stream",
     "text": [
      "this is a rope\n"
     ]
    }
   ],
   "source": [
    "# 문자 변경\n",
    "c = a.replace('string', 'rope')\n",
    "print(c)"
   ]
  },
  {
   "cell_type": "markdown",
   "metadata": {},
   "source": [
    "###### 문자열 format"
   ]
  },
  {
   "cell_type": "code",
   "execution_count": 16,
   "metadata": {},
   "outputs": [
    {
     "data": {
      "text/plain": [
       "'a equals 11.'"
      ]
     },
     "execution_count": 16,
     "metadata": {},
     "output_type": "execute_result"
    }
   ],
   "source": [
    "a = 11\n",
    "\n",
    "# %d 숫자(정수)\n",
    "\"a equals %d.\" %3\n",
    "\"a equals %d.\" %a"
   ]
  },
  {
   "cell_type": "code",
   "execution_count": 28,
   "metadata": {},
   "outputs": [
    {
     "data": {
      "text/plain": [
       "'             3.14159'"
      ]
     },
     "execution_count": 28,
     "metadata": {},
     "output_type": "execute_result"
    }
   ],
   "source": [
    "b = -22\n",
    "\"vars are %d and %d.\" %(a, b)\n",
    "\n",
    "# %s 문자(\"\" 꼭 넣어주기)\n",
    "\"I have %s children.\" %\"three\"\n",
    "\"vars are %s and %s.\" %(a, b)\n",
    "\n",
    "\"vars are %s and %s\" %(3.14, 5)\n",
    "\n",
    "# %숫자s 자리수만큼 공백 오른쪽 정렬 (-는 왼쪽 정렬)\n",
    "\"%10s\" %\"Good\"\n",
    "\"%-10s\" %\"Good\"\n",
    "\n",
    "# 소수 자리수 출력\n",
    "\"%.5f\" %3.141592\n",
    "\"%20.5f\" %3.141592 # 전체 20자리 공간에서 오른쪽 정렬 소수점 5자리"
   ]
  },
  {
   "cell_type": "markdown",
   "metadata": {},
   "source": [
    "###### 문자열 함수들"
   ]
  },
  {
   "cell_type": "code",
   "execution_count": 39,
   "metadata": {},
   "outputs": [
    {
     "data": {
      "text/plain": [
       "'korean culture'"
      ]
     },
     "execution_count": 39,
     "metadata": {},
     "output_type": "execute_result"
    }
   ],
   "source": [
    "a = \"Korean culture\"\n",
    "\n",
    "a.count('u')\n",
    "\n",
    "a.find('u') # 문자 위치\n",
    "a.find('K')\n",
    "a.find('k') # -1 : 해당 문자 없음\n",
    "\n",
    "a.index('u')\n",
    "# a.index('k')\n",
    "\n",
    "\",\".join('Korean culture') # 문자 사이 구분\n",
    "\n",
    "a.upper()\n",
    "a.lower()\n"
   ]
  },
  {
   "cell_type": "code",
   "execution_count": 43,
   "metadata": {},
   "outputs": [
    {
     "data": {
      "text/plain": [
       "'     Korean cultrue'"
      ]
     },
     "execution_count": 43,
     "metadata": {},
     "output_type": "execute_result"
    }
   ],
   "source": [
    "b = '     Korean cultrue   '\n",
    "\n",
    "# 공백 제거\n",
    "b.strip()\n",
    "b.lstrip()\n",
    "b.rstrip()\n"
   ]
  },
  {
   "cell_type": "code",
   "execution_count": 45,
   "metadata": {},
   "outputs": [
    {
     "data": {
      "text/plain": [
       "['Korean', 'culture']"
      ]
     },
     "execution_count": 45,
     "metadata": {},
     "output_type": "execute_result"
    }
   ],
   "source": [
    "a.replace(\"Korean\", \"American\")\n",
    "a.split()"
   ]
  },
  {
   "cell_type": "code",
   "execution_count": 46,
   "metadata": {},
   "outputs": [
    {
     "data": {
      "text/plain": [
       "['Korean ', ' American']"
      ]
     },
     "execution_count": 46,
     "metadata": {},
     "output_type": "execute_result"
    }
   ],
   "source": [
    "c = \"Korean & American\"\n",
    "c.split(\"&\")"
   ]
  },
  {
   "cell_type": "markdown",
   "metadata": {},
   "source": [
    "##### Boolean Type"
   ]
  },
  {
   "cell_type": "code",
   "execution_count": 51,
   "metadata": {},
   "outputs": [
    {
     "data": {
      "text/plain": [
       "True"
      ]
     },
     "execution_count": 51,
     "metadata": {},
     "output_type": "execute_result"
    }
   ],
   "source": [
    "d = True\n",
    "type(d)\n",
    "\n",
    "e = False\n",
    "\n",
    "d and e\n",
    "d or e\n",
    "6 == 6\n",
    "6 > 4\n",
    "not d\n",
    "\n",
    "# 문자열/리스트/튜플/딕셔너리가 비워져있으면 F\n",
    "bool(\"ABC\")\n",
    "bool(\"\")\n",
    "bool([1, 2, 3])\n",
    "\n",
    "# 0이면 F, 1이면 T\n",
    "bool(0)\n",
    "bool(1)"
   ]
  },
  {
   "cell_type": "markdown",
   "metadata": {},
   "source": [
    "##### List Type"
   ]
  },
  {
   "cell_type": "code",
   "execution_count": 52,
   "metadata": {},
   "outputs": [
    {
     "name": "stdout",
     "output_type": "stream",
     "text": [
      "[]\n",
      "[1, 2, 3, 4, 5]\n",
      "['red', 'blue', 'yellow']\n",
      "[1, 2, 'red', 'blue']\n",
      "[1, 2, ['red', 'blue']]\n"
     ]
    }
   ],
   "source": [
    "a = []\n",
    "b = [1, 2, 3, 4, 5]\n",
    "c = ['red', 'blue', 'yellow']\n",
    "d = [1, 2, 'red', 'blue']\n",
    "e = [1, 2, ['red', 'blue']]\n",
    "\n",
    "print(a)\n",
    "print(b)\n",
    "print(c)\n",
    "print(d)\n",
    "print(e)"
   ]
  },
  {
   "cell_type": "markdown",
   "metadata": {},
   "source": [
    "###### 리스트 인덱싱"
   ]
  },
  {
   "cell_type": "code",
   "execution_count": 54,
   "metadata": {},
   "outputs": [
    {
     "data": {
      "text/plain": [
       "5"
      ]
     },
     "execution_count": 54,
     "metadata": {},
     "output_type": "execute_result"
    }
   ],
   "source": [
    "b[0]\n",
    "b[0] + b[2]\n",
    "b[-1]"
   ]
  },
  {
   "cell_type": "code",
   "execution_count": 58,
   "metadata": {},
   "outputs": [
    {
     "name": "stdout",
     "output_type": "stream",
     "text": [
      "[1, 2, 3, 4, 5, ['a', 'b', 'c', 'd'], 7, 8, 9]\n"
     ]
    },
    {
     "data": {
      "text/plain": [
       "'c'"
      ]
     },
     "execution_count": 58,
     "metadata": {},
     "output_type": "execute_result"
    }
   ],
   "source": [
    "a = [1, 2, 3, 4, 5, ['a', 'b', 'c', 'd'], 7, 8, 9]\n",
    "\n",
    "print(a)\n",
    "\n",
    "a[0]\n",
    "a[-1]\n",
    "a[5]\n",
    "a[5][2]"
   ]
  },
  {
   "cell_type": "markdown",
   "metadata": {},
   "source": [
    "###### 리스트 슬라이싱"
   ]
  },
  {
   "cell_type": "code",
   "execution_count": 71,
   "metadata": {},
   "outputs": [
    {
     "data": {
      "text/plain": [
       "['a', 'b']"
      ]
     },
     "execution_count": 71,
     "metadata": {},
     "output_type": "execute_result"
    }
   ],
   "source": [
    "b = [1, 2, 3, 4, 5]\n",
    "b[0:4]\n",
    "\n",
    "c = \"12345\"\n",
    "c[0:4]\n",
    "\n",
    "b[:3]\n",
    "b[3:]\n",
    "\n",
    "a[0:6]\n",
    "a[0:6:1] # 한 자리마다 출력\n",
    "a[0:6:2] # 두 자리마다 출력\n",
    "a[0:6:3] # 세 자리마다 출력\n",
    "\n",
    "a[5]\n",
    "a[5][:2]"
   ]
  },
  {
   "cell_type": "markdown",
   "metadata": {},
   "source": [
    "###### 리스트 연산"
   ]
  },
  {
   "cell_type": "code",
   "execution_count": 74,
   "metadata": {},
   "outputs": [
    {
     "data": {
      "text/plain": [
       "4"
      ]
     },
     "execution_count": 74,
     "metadata": {},
     "output_type": "execute_result"
    }
   ],
   "source": [
    "a = [1, 2, 3, 4]\n",
    "b = [6, 7, 8, 9]\n",
    "\n",
    "a + b\n",
    "a * 2\n",
    "\n",
    "len(a)"
   ]
  },
  {
   "cell_type": "code",
   "execution_count": 80,
   "metadata": {},
   "outputs": [
    {
     "data": {
      "text/plain": [
       "[6, 7, 8, 9, 'good']"
      ]
     },
     "execution_count": 80,
     "metadata": {},
     "output_type": "execute_result"
    }
   ],
   "source": [
    "k = [12345678]\n",
    "len(k)\n",
    "\n",
    "m = '12345678'\n",
    "len(m)\n",
    "\n",
    "c = 'good'\n",
    "# b + c\n",
    "\n",
    "c = ['good']\n",
    "b + c"
   ]
  },
  {
   "cell_type": "code",
   "execution_count": 84,
   "metadata": {},
   "outputs": [
    {
     "name": "stdout",
     "output_type": "stream",
     "text": [
      "[1, 2, 3, 9]\n"
     ]
    },
    {
     "ename": "TypeError",
     "evalue": "'str' object does not support item assignment",
     "output_type": "error",
     "traceback": [
      "\u001b[1;31m---------------------------------------------------------------------------\u001b[0m",
      "\u001b[1;31mTypeError\u001b[0m                                 Traceback (most recent call last)",
      "\u001b[1;32mc:\\Users\\rproject\\Desktop\\데이터청년캠퍼스\\dachungcam\\1week.ipynb Cell 40'\u001b[0m in \u001b[0;36m<cell line: 6>\u001b[1;34m()\u001b[0m\n\u001b[0;32m      <a href='vscode-notebook-cell:/c%3A/Users/rproject/Desktop/%EB%8D%B0%EC%9D%B4%ED%84%B0%EC%B2%AD%EB%85%84%EC%BA%A0%ED%8D%BC%EC%8A%A4/dachungcam/1week.ipynb#ch0000044?line=3'>4</a>\u001b[0m n \u001b[39m=\u001b[39m \u001b[39m'\u001b[39m\u001b[39m1234\u001b[39m\u001b[39m'\u001b[39m\n\u001b[0;32m      <a href='vscode-notebook-cell:/c%3A/Users/rproject/Desktop/%EB%8D%B0%EC%9D%B4%ED%84%B0%EC%B2%AD%EB%85%84%EC%BA%A0%ED%8D%BC%EC%8A%A4/dachungcam/1week.ipynb#ch0000044?line=4'>5</a>\u001b[0m n[\u001b[39m3\u001b[39m]\n\u001b[1;32m----> <a href='vscode-notebook-cell:/c%3A/Users/rproject/Desktop/%EB%8D%B0%EC%9D%B4%ED%84%B0%EC%B2%AD%EB%85%84%EC%BA%A0%ED%8D%BC%EC%8A%A4/dachungcam/1week.ipynb#ch0000044?line=5'>6</a>\u001b[0m n[\u001b[39m3\u001b[39m] \u001b[39m=\u001b[39m \u001b[39m'\u001b[39m\u001b[39m9\u001b[39m\u001b[39m'\u001b[39m\n",
      "\u001b[1;31mTypeError\u001b[0m: 'str' object does not support item assignment"
     ]
    }
   ],
   "source": [
    "a[3] = 9\n",
    "print(a)\n",
    "\n",
    "n = '1234'\n",
    "n[3]\n",
    "n[3] = '9' # 문자열 수정 X"
   ]
  },
  {
   "cell_type": "markdown",
   "metadata": {},
   "source": [
    "###### 리스트 연산 함수"
   ]
  },
  {
   "cell_type": "code",
   "execution_count": 88,
   "metadata": {},
   "outputs": [
    {
     "data": {
      "text/plain": [
       "6"
      ]
     },
     "execution_count": 88,
     "metadata": {},
     "output_type": "execute_result"
    }
   ],
   "source": [
    "a = [1, 2, 3, 4, [a, b, c]]\n",
    "b = [6, 7, 8, 9]\n",
    "\n",
    "len(a)\n",
    "# sum(a)\n",
    "sum(b)\n",
    "max(b)\n",
    "min(b)"
   ]
  },
  {
   "cell_type": "code",
   "execution_count": 92,
   "metadata": {},
   "outputs": [
    {
     "name": "stdout",
     "output_type": "stream",
     "text": [
      "[]\n",
      "[9]\n"
     ]
    },
    {
     "data": {
      "text/plain": [
       "'9'"
      ]
     },
     "execution_count": 92,
     "metadata": {},
     "output_type": "execute_result"
    }
   ],
   "source": [
    "del(b[0]) #b[0] 삭제\n",
    "print(b)\n",
    "\n",
    "b = [6, 7, 8, 9]\n",
    "del b[:3]\n",
    "print(b)\n",
    "\n",
    "str(b[0]) # 숫자형 -> 문자형 변경"
   ]
  },
  {
   "cell_type": "code",
   "execution_count": 94,
   "metadata": {},
   "outputs": [
    {
     "name": "stdout",
     "output_type": "stream",
     "text": [
      "['6', '7', '8', '9', '10']\n",
      "['6', '7', '8', '9', '10', ['11', '12']]\n"
     ]
    }
   ],
   "source": [
    "b = ['6', '7', '8', '9']\n",
    "\n",
    "b.append('10') # 기존 리스트에 추가\n",
    "print(b)\n",
    "\n",
    "b.append(['11', '12'])\n",
    "print(b)"
   ]
  },
  {
   "cell_type": "code",
   "execution_count": 95,
   "metadata": {},
   "outputs": [
    {
     "name": "stdout",
     "output_type": "stream",
     "text": [
      "['6', '9', '8', '7']\n",
      "['6', '7', '8', '9']\n"
     ]
    }
   ],
   "source": [
    "c = ['6', '9', '8', '7']\n",
    "print(c)\n",
    "\n",
    "c.sort()\n",
    "print(c)"
   ]
  },
  {
   "cell_type": "code",
   "execution_count": 96,
   "metadata": {},
   "outputs": [
    {
     "name": "stdout",
     "output_type": "stream",
     "text": [
      "['x', 'y', 'z']\n"
     ]
    }
   ],
   "source": [
    "d = ['x', 'z', 'y']\n",
    "\n",
    "d.sort()\n",
    "print(d)"
   ]
  },
  {
   "cell_type": "code",
   "execution_count": 100,
   "metadata": {},
   "outputs": [
    {
     "name": "stdout",
     "output_type": "stream",
     "text": [
      "['7', '8', '9', '6']\n",
      "['7', '8', '9', '6', '10']\n",
      "['5', '7', '8', '9', '6', '10']\n"
     ]
    }
   ],
   "source": [
    "c = ['6', '9', '8', '7']\n",
    "c.reverse() # 역순으로 변환\n",
    "print(c)\n",
    "\n",
    "c.index('9')\n",
    "# c.index('5')\n",
    "\n",
    "c.insert(4, '10') # 4번 인덱스에 10 추가\n",
    "print(c)\n",
    "\n",
    "c.insert(0, '5')\n",
    "print(c)"
   ]
  },
  {
   "cell_type": "code",
   "execution_count": 105,
   "metadata": {},
   "outputs": [
    {
     "name": "stdout",
     "output_type": "stream",
     "text": [
      "['3', '3', '4', '5']\n",
      "['3', '3', '5']\n",
      "['3', '3']\n",
      "['3']\n",
      "[]\n"
     ]
    }
   ],
   "source": [
    "e = ['3', '4', '3', '4', '5']\n",
    "\n",
    "e.remove('4')\n",
    "print(e)\n",
    "\n",
    "e.remove('4')\n",
    "print(e)\n",
    "\n",
    "e.pop() # 마지막 요소 보여준 후, 삭제\n",
    "print(e)\n",
    "\n",
    "e.pop(1) # 1번 인덱스 요소 삭제\n",
    "print(e)\n",
    "\n",
    "e.pop(0)\n",
    "print(e)"
   ]
  },
  {
   "cell_type": "code",
   "execution_count": 107,
   "metadata": {},
   "outputs": [
    {
     "name": "stdout",
     "output_type": "stream",
     "text": [
      "[6, 6, 6, 6, 6, 7, 8, 9, 4, 5]\n",
      "[6, 6, 6, 6, 6, 7, 8, 9, 4, 5, [4, 5]]\n"
     ]
    }
   ],
   "source": [
    "c = [6, 6, 6, 6, 6, 7, 8, 9]\n",
    "\n",
    "c.count(6)\n",
    "c.extend([4, 5]) # 요소 추가, 입력은 리스트만 가능\n",
    "print(c)\n",
    "\n",
    "c.append([4, 5])\n",
    "print(c)"
   ]
  },
  {
   "cell_type": "markdown",
   "metadata": {},
   "source": [
    "##### Tuple Type"
   ]
  },
  {
   "cell_type": "markdown",
   "metadata": {},
   "source": [
    "- 리스트는 대괄호, 튜플은 소괄호 사용\n",
    "- 리스트는 수정 가능, 튜플은 수정 불가능\n",
    "- 한 개의 요소만 갖는 경우, 마지막에 콤마(,) 필요 -> 그렇지 않으면 정수 타입 생성\n",
    "- 값이 자주 변경되면 리스트, 항상 변하지 않으면 튜플"
   ]
  },
  {
   "cell_type": "code",
   "execution_count": 112,
   "metadata": {},
   "outputs": [
    {
     "data": {
      "text/plain": [
       "tuple"
      ]
     },
     "execution_count": 112,
     "metadata": {},
     "output_type": "execute_result"
    }
   ],
   "source": [
    "a = tuple()\n",
    "a = ()\n",
    "type(a)\n",
    "\n",
    "b = (1,)\n",
    "type(b)\n",
    "\n",
    "c = (1, 2, 3)\n",
    "type(c)\n",
    "\n",
    "d = 1, 2, 3 # 괄호 생략 가능\n",
    "type(d)\n",
    "\n",
    "e = 1, 2, ('ab', 'cd'), 3, 4\n",
    "type(e)"
   ]
  },
  {
   "cell_type": "code",
   "execution_count": 121,
   "metadata": {},
   "outputs": [
    {
     "name": "stdout",
     "output_type": "stream",
     "text": [
      "1 2 3\n",
      "1\n"
     ]
    }
   ],
   "source": [
    "e[0]\n",
    "\n",
    "# 튜플은 수정/변경 불가\n",
    "# del e[0]\n",
    "# e.remove[1]\n",
    "\n",
    "e[:]\n",
    "\n",
    "c + e\n",
    "c * 2\n",
    "len(c)\n",
    "\n",
    "x, y, z = (1, 2, 3)\n",
    "print(x, y, z)\n",
    "print(x)"
   ]
  },
  {
   "cell_type": "markdown",
   "metadata": {},
   "source": [
    "##### Dict Type"
   ]
  },
  {
   "cell_type": "markdown",
   "metadata": {},
   "source": [
    "- key와 value를 한 쌍으로 가지고 있음"
   ]
  },
  {
   "cell_type": "code",
   "execution_count": 126,
   "metadata": {},
   "outputs": [
    {
     "ename": "KeyError",
     "evalue": "'Kristina'",
     "output_type": "error",
     "traceback": [
      "\u001b[1;31m---------------------------------------------------------------------------\u001b[0m",
      "\u001b[1;31mKeyError\u001b[0m                                  Traceback (most recent call last)",
      "\u001b[1;32mc:\\Users\\rproject\\Desktop\\데이터청년캠퍼스\\dachungcam\\1week.ipynb Cell 56'\u001b[0m in \u001b[0;36m<cell line: 9>\u001b[1;34m()\u001b[0m\n\u001b[0;32m      <a href='vscode-notebook-cell:/c%3A/Users/rproject/Desktop/%EB%8D%B0%EC%9D%B4%ED%84%B0%EC%B2%AD%EB%85%84%EC%BA%A0%ED%8D%BC%EC%8A%A4/dachungcam/1week.ipynb#ch0000058?line=5'>6</a>\u001b[0m a[\u001b[39m'\u001b[39m\u001b[39mage\u001b[39m\u001b[39m'\u001b[39m]\n\u001b[0;32m      <a href='vscode-notebook-cell:/c%3A/Users/rproject/Desktop/%EB%8D%B0%EC%9D%B4%ED%84%B0%EC%B2%AD%EB%85%84%EC%BA%A0%ED%8D%BC%EC%8A%A4/dachungcam/1week.ipynb#ch0000058?line=7'>8</a>\u001b[0m \u001b[39m# a[0]\u001b[39;00m\n\u001b[1;32m----> <a href='vscode-notebook-cell:/c%3A/Users/rproject/Desktop/%EB%8D%B0%EC%9D%B4%ED%84%B0%EC%B2%AD%EB%85%84%EC%BA%A0%ED%8D%BC%EC%8A%A4/dachungcam/1week.ipynb#ch0000058?line=8'>9</a>\u001b[0m a[\u001b[39m'\u001b[39;49m\u001b[39mKristina\u001b[39;49m\u001b[39m'\u001b[39;49m]\n",
      "\u001b[1;31mKeyError\u001b[0m: 'Kristina'"
     ]
    }
   ],
   "source": [
    "a = {'gender':'Female', 'age':30, 'name':'Kristina'}\n",
    "type(a)\n",
    "\n",
    "# key 값을 입력하면, 그에 해당하는 value 반환\n",
    "a['gender']\n",
    "a['age']\n",
    "\n",
    "# a[0]\n",
    "a['Kristina']"
   ]
  },
  {
   "cell_type": "code",
   "execution_count": 128,
   "metadata": {},
   "outputs": [
    {
     "name": "stdout",
     "output_type": "stream",
     "text": [
      "{1: 'good'}\n",
      "{'a': [1, 3, 5]}\n",
      "{'a': (1, 3, 5)}\n"
     ]
    }
   ],
   "source": [
    "b = {1:'good'}\n",
    "print(b)\n",
    "\n",
    "c = {'a':[1, 3, 5]}\n",
    "print(c)\n",
    "\n",
    "d = {'a':(1, 3, 5)}\n",
    "print(d)"
   ]
  },
  {
   "cell_type": "code",
   "execution_count": 131,
   "metadata": {},
   "outputs": [],
   "source": [
    "# key 자리에 리스트 사용 X\n",
    "# c = {[1, 3, 5 : 'a']}\n",
    "\n",
    "# 튜플 사용 O\n",
    "d = {(1, 3, 5) : 'a'}"
   ]
  },
  {
   "cell_type": "code",
   "execution_count": 133,
   "metadata": {},
   "outputs": [
    {
     "name": "stdout",
     "output_type": "stream",
     "text": [
      "{'gender': 'Femal', 'age': 30}\n",
      "{'gender': 'Femal', 'age': 30, 'name': 'Kristina'}\n",
      "{'gender': 'Femal', 'age': 30, 'name': 'Kristina', 'a': [1, 3, 5]}\n"
     ]
    }
   ],
   "source": [
    "a = {'gender' : 'Femal'}\n",
    "a['age'] = 30 # key value 추가\n",
    "print(a)\n",
    "\n",
    "a['name'] = 'Kristina'\n",
    "print(a)\n",
    "\n",
    "a['a'] = [1, 3, 5]\n",
    "print(a)"
   ]
  },
  {
   "cell_type": "code",
   "execution_count": 134,
   "metadata": {},
   "outputs": [
    {
     "name": "stdout",
     "output_type": "stream",
     "text": [
      "{'gender': 'Femal', 'age': 30, 'name': 'Kristina'}\n",
      "{'gender': 'Femal', 'age': 30}\n"
     ]
    }
   ],
   "source": [
    "# key와 value 한 쌍이 같이 삭제\n",
    "del a['a']\n",
    "print(a)\n",
    "\n",
    "del a['name']\n",
    "print(a)"
   ]
  },
  {
   "cell_type": "code",
   "execution_count": 140,
   "metadata": {},
   "outputs": [
    {
     "name": "stdout",
     "output_type": "stream",
     "text": [
      "{}\n"
     ]
    }
   ],
   "source": [
    "a = {'gender':'Female', 'age':30, 'name':'Kristina'}\n",
    "\n",
    "a.keys()\n",
    "list(a.keys())\n",
    "\n",
    "a.values()\n",
    "a.items()\n",
    "\n",
    "a.clear() # 딕셔너리 내 모든 요소 삭제\n",
    "print(a)"
   ]
  },
  {
   "cell_type": "code",
   "execution_count": 144,
   "metadata": {},
   "outputs": [
    {
     "data": {
      "text/plain": [
       "False"
      ]
     },
     "execution_count": 144,
     "metadata": {},
     "output_type": "execute_result"
    }
   ],
   "source": [
    "a = {'gender':'Female', 'age':30, 'name':'Kristina'}\n",
    "\n",
    "a.get('gender')\n",
    "a.get('height', '?') # key가 딕셔너리 내에 값이 없을 때, ?로 표현\n",
    "\n",
    "# 값이 있으면 T, 없으면 F\n",
    "'gender' in a\n",
    "'height' in a"
   ]
  },
  {
   "cell_type": "markdown",
   "metadata": {},
   "source": [
    "### 220629"
   ]
  },
  {
   "cell_type": "markdown",
   "metadata": {},
   "source": [
    "#### 연산"
   ]
  },
  {
   "cell_type": "markdown",
   "metadata": {},
   "source": [
    "##### 수치 연산"
   ]
  },
  {
   "cell_type": "code",
   "execution_count": 1,
   "metadata": {},
   "outputs": [
    {
     "data": {
      "text/plain": [
       "1"
      ]
     },
     "execution_count": 1,
     "metadata": {},
     "output_type": "execute_result"
    }
   ],
   "source": [
    "2 + 3\n",
    "3 - 2\n",
    "2 * 3\n",
    "3.14 ** 2 # 제곱승\n",
    "2 ** .5\n",
    "5 / 2\n",
    "5 // 2 # 몫\n",
    "5 % 2 # 나머지"
   ]
  },
  {
   "cell_type": "code",
   "execution_count": 3,
   "metadata": {},
   "outputs": [
    {
     "data": {
      "text/plain": [
       "2"
      ]
     },
     "execution_count": 3,
     "metadata": {},
     "output_type": "execute_result"
    }
   ],
   "source": [
    "a = 6\n",
    "b = 4\n",
    "\n",
    "a + b\n",
    "a - b\n",
    "a ** b\n",
    "a / b\n",
    "a // b\n",
    "a % b"
   ]
  },
  {
   "cell_type": "markdown",
   "metadata": {},
   "source": [
    "##### 대입 연산"
   ]
  },
  {
   "cell_type": "code",
   "execution_count": 4,
   "metadata": {},
   "outputs": [
    {
     "name": "stdout",
     "output_type": "stream",
     "text": [
      "25\n",
      "15\n",
      "17\n",
      "5.666666666666667\n"
     ]
    }
   ],
   "source": [
    "a = 20\n",
    "\n",
    "a += 5\n",
    "print(a)\n",
    "\n",
    "a -= 10\n",
    "print(a)\n",
    "\n",
    "a += 2\n",
    "print(a)\n",
    "\n",
    "a /= 3\n",
    "print(a)"
   ]
  },
  {
   "cell_type": "code",
   "execution_count": 5,
   "metadata": {},
   "outputs": [
    {
     "name": "stdout",
     "output_type": "stream",
     "text": [
      "7\n",
      "4\n"
     ]
    }
   ],
   "source": [
    "a = 3\n",
    "b = 2\n",
    "\n",
    "a += 2 + b\n",
    "print(a)\n",
    "\n",
    "a += b - 5\n",
    "print(a)"
   ]
  },
  {
   "cell_type": "markdown",
   "metadata": {},
   "source": [
    "##### 비교 연산"
   ]
  },
  {
   "cell_type": "code",
   "execution_count": 6,
   "metadata": {},
   "outputs": [
    {
     "data": {
      "text/plain": [
       "False"
      ]
     },
     "execution_count": 6,
     "metadata": {},
     "output_type": "execute_result"
    }
   ],
   "source": [
    "a = 95\n",
    "\n",
    "a == 90\n",
    "a != 90\n",
    "a > 90\n",
    "a < 90\n",
    "a >= 90\n",
    "a <= 90\n",
    "a >= 90 and a <= 100\n",
    "90 <= a <= 100\n",
    "100 <= a <= 110\n",
    "70 <= a <= 80"
   ]
  },
  {
   "cell_type": "markdown",
   "metadata": {},
   "source": [
    "##### 논리연산"
   ]
  },
  {
   "cell_type": "code",
   "execution_count": 8,
   "metadata": {},
   "outputs": [
    {
     "data": {
      "text/plain": [
       "True"
      ]
     },
     "execution_count": 8,
     "metadata": {},
     "output_type": "execute_result"
    }
   ],
   "source": [
    "a = True\n",
    "b = False\n",
    "\n",
    "a and b\n",
    "a and a\n",
    "b and b\n",
    "\n",
    "a or b\n",
    "a or a\n",
    "b or b\n",
    "\n",
    "# 반대되는 논리 연산\n",
    "not a\n",
    "not (a and b)"
   ]
  },
  {
   "cell_type": "markdown",
   "metadata": {},
   "source": [
    "##### 구성원 연산"
   ]
  },
  {
   "cell_type": "code",
   "execution_count": 9,
   "metadata": {},
   "outputs": [
    {
     "data": {
      "text/plain": [
       "False"
      ]
     },
     "execution_count": 9,
     "metadata": {},
     "output_type": "execute_result"
    }
   ],
   "source": [
    "a = [1, 2, 'Hello Data']\n",
    "\n",
    "1 in a\n",
    "a not in a\n",
    "3 in a\n",
    "3 not in a\n",
    "\n",
    "\n",
    "b = {'a':1, 'b':2, 'c':3}\n",
    "\n",
    "'a' in b\n",
    "'k' in b\n",
    "1 in b # key 값에 없음"
   ]
  },
  {
   "cell_type": "markdown",
   "metadata": {},
   "source": [
    "##### 활용"
   ]
  },
  {
   "cell_type": "code",
   "execution_count": 19,
   "metadata": {},
   "outputs": [
    {
     "data": {
      "text/plain": [
       "{'num': '1',\n",
       " 'name': '김철수',\n",
       " 'kor': 90,\n",
       " 'eng': 80,\n",
       " 'math': 85,\n",
       " 'total': 1,\n",
       " 'avg': 0.0}"
      ]
     },
     "execution_count": 19,
     "metadata": {},
     "output_type": "execute_result"
    }
   ],
   "source": [
    "a = [\n",
    "{'num':'1', 'name':'김철수', 'kor':90, 'eng' : 80, 'math':85, 'total':0, 'avg':0.0},\n",
    "{'num':'2', 'name':'박민주', 'kor':90, 'eng' : 85, 'math':90, 'total':0, 'avg':0.0},\n",
    "{'num':'3', 'name':'박영호', 'kor':80, 'eng' : 80, 'math':80, 'total':0, 'avg':0.0}]\n",
    "\n",
    "a[0]\n",
    "a[0]['total']\n",
    "a[0]['total'] = 1 # total의 value 1로 지정\n",
    "a[0]"
   ]
  },
  {
   "cell_type": "code",
   "execution_count": 20,
   "metadata": {},
   "outputs": [
    {
     "data": {
      "text/plain": [
       "240"
      ]
     },
     "execution_count": 20,
     "metadata": {},
     "output_type": "execute_result"
    }
   ],
   "source": [
    "# 학생별 합계 구하기\n",
    "a[0]['total'] = a[0]['kor'] + a[0]['eng'] + a[0]['math']\n",
    "a[1]['total'] = a[1]['kor'] + a[1]['eng'] + a[1]['math']\n",
    "a[2]['total'] = a[2]['kor'] + a[2]['eng'] + a[2]['math']\n",
    "\n",
    "a[0]['total']\n",
    "a[1]['total']\n",
    "a[2]['total']"
   ]
  },
  {
   "cell_type": "code",
   "execution_count": 21,
   "metadata": {},
   "outputs": [
    {
     "name": "stdout",
     "output_type": "stream",
     "text": [
      "[{'num': '1', 'name': '김철수', 'kor': 90, 'eng': 80, 'math': 85, 'total': 255, 'avg': 85.0}, {'num': '2', 'name': '박민주', 'kor': 90, 'eng': 85, 'math': 90, 'total': 265, 'avg': 88.33333333333333}, {'num': '3', 'name': '박영호', 'kor': 80, 'eng': 80, 'math': 80, 'total': 240, 'avg': 80.0}]\n"
     ]
    }
   ],
   "source": [
    "# 학생별 평균 구하기\n",
    "a[0]['avg'] = a[0]['total']/3\n",
    "a[1]['avg'] = a[1]['total']/3\n",
    "a[2]['avg'] = a[2]['total']/3\n",
    "\n",
    "print(a)"
   ]
  },
  {
   "cell_type": "code",
   "execution_count": 23,
   "metadata": {},
   "outputs": [
    {
     "name": "stdout",
     "output_type": "stream",
     "text": [
      "253.33333333333334\n"
     ]
    }
   ],
   "source": [
    "# 학급평균 구하기\n",
    "b = (a[0]['total'] + a[1]['total'] + a[2]['total']) / 3\n",
    "print(b)"
   ]
  },
  {
   "cell_type": "markdown",
   "metadata": {},
   "source": [
    "#### 조건문"
   ]
  },
  {
   "cell_type": "markdown",
   "metadata": {},
   "source": [
    "##### if문"
   ]
  },
  {
   "cell_type": "code",
   "execution_count": 24,
   "metadata": {},
   "outputs": [
    {
     "data": {
      "text/plain": [
       "1"
      ]
     },
     "execution_count": 24,
     "metadata": {},
     "output_type": "execute_result"
    }
   ],
   "source": [
    "x = 5\n",
    "if x < 10 :\n",
    "    a = 1\n",
    "\n",
    "a"
   ]
  },
  {
   "cell_type": "markdown",
   "metadata": {},
   "source": [
    "##### if-else문"
   ]
  },
  {
   "cell_type": "code",
   "execution_count": 29,
   "metadata": {},
   "outputs": [
    {
     "name": "stdout",
     "output_type": "stream",
     "text": [
      "참입니다\n",
      "거짓입니다\n"
     ]
    }
   ],
   "source": [
    "if True :\n",
    "    print('참입니다')\n",
    "else :\n",
    "    print('거짓입니다')\n",
    "\n",
    "if False :\n",
    "    print('참입니다')\n",
    "else :\n",
    "    print('거짓입니다')"
   ]
  },
  {
   "cell_type": "code",
   "execution_count": 30,
   "metadata": {},
   "outputs": [
    {
     "name": "stdout",
     "output_type": "stream",
     "text": [
      "버스를 타야합니다\n",
      "택시를 탑니다\n"
     ]
    }
   ],
   "source": [
    "a = 1000\n",
    "\n",
    "if a > 5000 :\n",
    "    print('택시를 탑니다')\n",
    "else :\n",
    "    print('버스를 타야합니다')\n",
    "\n",
    "if a <= 5000 :\n",
    "    print('택시를 탑니다')\n",
    "else :\n",
    "    print('버스를 타야합니다')"
   ]
  },
  {
   "cell_type": "code",
   "execution_count": 33,
   "metadata": {},
   "outputs": [
    {
     "name": "stdout",
     "output_type": "stream",
     "text": [
      "당신은 장학급 수여 대상자입니다\n",
      "축하합니다\n"
     ]
    }
   ],
   "source": [
    "# input 사용자에게 입력받은 값을 변수에 저장\n",
    "# float 실수형으로 변환 / int 정수형으로 변환 / str 문자형으로 변환\n",
    "\n",
    "grade = float(input('총 평점을 입력해 주세요 : '))\n",
    "\n",
    "if grade >= 4.3 :\n",
    "    print('당신은 장학급 수여 대상자입니다')\n",
    "    print('축하합니다')"
   ]
  },
  {
   "cell_type": "code",
   "execution_count": 34,
   "metadata": {},
   "outputs": [
    {
     "name": "stdout",
     "output_type": "stream",
     "text": [
      "입력된 값은 홀수입니다.\n"
     ]
    }
   ],
   "source": [
    "data = int(input('숫자를 입력하시오 : '))\n",
    "\n",
    "if data % 2 == 0 :\n",
    "    print('입력된 값은 짝수입니다.')\n",
    "else :\n",
    "    print('입력된 값은 홀수입니다.')"
   ]
  },
  {
   "cell_type": "markdown",
   "metadata": {},
   "source": [
    "##### if-elif-els문"
   ]
  },
  {
   "cell_type": "markdown",
   "metadata": {},
   "source": [
    "- 조건이 여러개일 때"
   ]
  },
  {
   "cell_type": "code",
   "execution_count": 35,
   "metadata": {},
   "outputs": [
    {
     "data": {
      "text/plain": [
       "1"
      ]
     },
     "execution_count": 35,
     "metadata": {},
     "output_type": "execute_result"
    }
   ],
   "source": [
    "x = 5\n",
    "\n",
    "if x < 10 :\n",
    "    a = 1\n",
    "elif 10 <= x and x < 20 :\n",
    "    a = 2\n",
    "else :\n",
    "    a = 3\n",
    "\n",
    "a"
   ]
  },
  {
   "cell_type": "markdown",
   "metadata": {},
   "source": [
    "##### 중첩 if문"
   ]
  },
  {
   "cell_type": "code",
   "execution_count": 36,
   "metadata": {},
   "outputs": [
    {
     "name": "stdout",
     "output_type": "stream",
     "text": [
      "키가 보통입니다\n"
     ]
    }
   ],
   "source": [
    "age = int(input('나이를 입력하세요 : '))\n",
    "height = int(input('키를 입력하세요 : '))\n",
    "\n",
    "if age >= 40 :\n",
    "    if height >= 170 :\n",
    "        print('키가 보통 이상입니다')\n",
    "    else :\n",
    "        print('키가 보통입니다')\n",
    "else :\n",
    "    if height >= 175 :\n",
    "        print('키가 보통 이상입니다')\n",
    "    else :\n",
    "        print('키가 보통입니다')"
   ]
  },
  {
   "cell_type": "markdown",
   "metadata": {},
   "source": [
    "##### 간략한 if-else문"
   ]
  },
  {
   "cell_type": "markdown",
   "metadata": {},
   "source": [
    "- if문과 else문 뒤에 수행할 문장이 한 줄인 경우\n",
    "- (참일 경우 실행문) if (조건문) else (거짓일 경우 실행문)"
   ]
  },
  {
   "cell_type": "code",
   "execution_count": 39,
   "metadata": {},
   "outputs": [
    {
     "data": {
      "text/plain": [
       "'good'"
      ]
     },
     "execution_count": 39,
     "metadata": {},
     "output_type": "execute_result"
    }
   ],
   "source": [
    "score = 80\n",
    "\n",
    "if score >= 70 :\n",
    "    a = \"good\"\n",
    "else :\n",
    "    a = \"bad\"\n",
    "\n",
    "a = \"good\" if score >= 70 else \"bad\"\n",
    "\n",
    "a"
   ]
  },
  {
   "cell_type": "markdown",
   "metadata": {},
   "source": [
    "#### 반복문"
   ]
  },
  {
   "cell_type": "markdown",
   "metadata": {},
   "source": [
    "##### for문"
   ]
  },
  {
   "cell_type": "code",
   "execution_count": 42,
   "metadata": {},
   "outputs": [
    {
     "name": "stdout",
     "output_type": "stream",
     "text": [
      "1\n",
      "2\n",
      "3\n",
      "[1, 3]\n",
      "[5, 7]\n",
      "[9]\n",
      "(1, 3)\n",
      "{5, 7}\n",
      "9\n"
     ]
    }
   ],
   "source": [
    "for a in [1, 2, 3] :\n",
    "    print(a)\n",
    "\n",
    "for a in [[1, 3], [5, 7], [9]] :\n",
    "    print(a)\n",
    "\n",
    "for a in [(1, 3), {5, 7}, 9] :\n",
    "    print(a)"
   ]
  },
  {
   "cell_type": "code",
   "execution_count": 43,
   "metadata": {},
   "outputs": [
    {
     "name": "stdout",
     "output_type": "stream",
     "text": [
      "1\n",
      "2\n",
      "1 2\n"
     ]
    }
   ],
   "source": [
    "(a, b) = (1, 2)\n",
    "print(a)\n",
    "print(b)\n",
    "print(a, b)"
   ]
  },
  {
   "cell_type": "code",
   "execution_count": 44,
   "metadata": {},
   "outputs": [
    {
     "name": "stdout",
     "output_type": "stream",
     "text": [
      "3\n",
      "7\n",
      "11\n"
     ]
    }
   ],
   "source": [
    "for (a, b) in [(1, 2), (3, 4), (5, 6)] :\n",
    "    print(a + b)"
   ]
  },
  {
   "cell_type": "code",
   "execution_count": 47,
   "metadata": {},
   "outputs": [
    {
     "name": "stdout",
     "output_type": "stream",
     "text": [
      "H\n",
      "e\n",
      "l\n",
      "l\n",
      "o\n",
      "!\n",
      "Hello!"
     ]
    }
   ],
   "source": [
    "a = \"Hello!\"\n",
    "b = [\"Hello!\", \"Data\"]\n",
    "c = (1, 2, 3)\n",
    "\n",
    "for x in a :\n",
    "    print(x)\n",
    "\n",
    "for x in a :\n",
    "    print(x, end = \"\")"
   ]
  },
  {
   "cell_type": "code",
   "execution_count": 48,
   "metadata": {},
   "outputs": [
    {
     "name": "stdout",
     "output_type": "stream",
     "text": [
      "Hello!\n",
      "Data\n",
      "1\n",
      "2\n",
      "3\n"
     ]
    }
   ],
   "source": [
    "for x in b :\n",
    "    print(x)\n",
    "\n",
    "for x in c :\n",
    "    print(x)"
   ]
  },
  {
   "cell_type": "code",
   "execution_count": 49,
   "metadata": {},
   "outputs": [
    {
     "name": "stdout",
     "output_type": "stream",
     "text": [
      "circle\n",
      "rectangle\n",
      "line\n",
      "red\n",
      "blue\n",
      "green\n"
     ]
    }
   ],
   "source": [
    "d = {'circle':2, 'rectangle':3, 'line':1}\n",
    "e = {'red', 'green', 'blue', 'red'}\n",
    "\n",
    "# dict는 key 값만 출력\n",
    "for x in d :\n",
    "    print(x)\n",
    "\n",
    "# 순서가 없고, 중복 허용 X\n",
    "for x in e :\n",
    "    print(x)"
   ]
  },
  {
   "cell_type": "markdown",
   "metadata": {},
   "source": [
    "###### range"
   ]
  },
  {
   "cell_type": "code",
   "execution_count": 50,
   "metadata": {},
   "outputs": [
    {
     "name": "stdout",
     "output_type": "stream",
     "text": [
      "3\n",
      "6\n",
      "9\n",
      "12\n",
      "15\n"
     ]
    }
   ],
   "source": [
    "list(range(3, 31, 3))\n",
    "\n",
    "result = 0\n",
    "\n",
    "for i in list(range(1, 11, 2)) :\n",
    "    result = result + 3\n",
    "    print(result)"
   ]
  },
  {
   "cell_type": "code",
   "execution_count": 52,
   "metadata": {},
   "outputs": [
    {
     "name": "stdout",
     "output_type": "stream",
     "text": [
      "[3, 6, 9, 12, 15]\n"
     ]
    }
   ],
   "source": [
    "lst = [1, 2, 3, 4, 5]\n",
    "result = [ ]\n",
    "\n",
    "for num in lst :\n",
    "    result.append(num * 3)\n",
    "\n",
    "print(result) "
   ]
  },
  {
   "cell_type": "code",
   "execution_count": 54,
   "metadata": {},
   "outputs": [
    {
     "name": "stdout",
     "output_type": "stream",
     "text": [
      "[3, 6, 9, 12, 15]\n"
     ]
    }
   ],
   "source": [
    "lst = [1, 2, 3, 4, 5]\n",
    "result = [num * 3 for num in lst]\n",
    "print(result)"
   ]
  },
  {
   "cell_type": "code",
   "execution_count": 55,
   "metadata": {},
   "outputs": [
    {
     "name": "stdout",
     "output_type": "stream",
     "text": [
      "[6, 12]\n"
     ]
    }
   ],
   "source": [
    "result = [num * 3 for num in lst if num % 2 == 0]\n",
    "print(result)"
   ]
  },
  {
   "cell_type": "markdown",
   "metadata": {},
   "source": [
    "###### 이중 for문"
   ]
  },
  {
   "cell_type": "code",
   "execution_count": 57,
   "metadata": {},
   "outputs": [
    {
     "name": "stdout",
     "output_type": "stream",
     "text": [
      "2 4 6 8 10 12 14 16 18  \n",
      "3 6 9 12 15 18 21 24 27  \n",
      "4 8 12 16 20 24 28 32 36  \n",
      "5 10 15 20 25 30 35 40 45  \n",
      "6 12 18 24 30 36 42 48 54  \n",
      "7 14 21 28 35 42 49 56 63  \n",
      "8 16 24 32 40 48 56 64 72  \n",
      "9 18 27 36 45 54 63 72 81  \n",
      "2\n",
      "4\n",
      "6\n",
      "8\n",
      "10\n",
      "12\n",
      "14\n",
      "16\n",
      "18\n",
      " \n",
      "3\n",
      "6\n",
      "9\n",
      "12\n",
      "15\n",
      "18\n",
      "21\n",
      "24\n",
      "27\n",
      " \n",
      "4\n",
      "8\n",
      "12\n",
      "16\n",
      "20\n",
      "24\n",
      "28\n",
      "32\n",
      "36\n",
      " \n",
      "5\n",
      "10\n",
      "15\n",
      "20\n",
      "25\n",
      "30\n",
      "35\n",
      "40\n",
      "45\n",
      " \n",
      "6\n",
      "12\n",
      "18\n",
      "24\n",
      "30\n",
      "36\n",
      "42\n",
      "48\n",
      "54\n",
      " \n",
      "7\n",
      "14\n",
      "21\n",
      "28\n",
      "35\n",
      "42\n",
      "49\n",
      "56\n",
      "63\n",
      " \n",
      "8\n",
      "16\n",
      "24\n",
      "32\n",
      "40\n",
      "48\n",
      "56\n",
      "64\n",
      "72\n",
      " \n",
      "9\n",
      "18\n",
      "27\n",
      "36\n",
      "45\n",
      "54\n",
      "63\n",
      "72\n",
      "81\n",
      " \n"
     ]
    }
   ],
   "source": [
    "# print 구문의 위치에 따라서 결과값이 달라짐\n",
    "for a in range(2, 10) :\n",
    "    for b in range(1, 10) :\n",
    "        print(a * b, end = \" \")\n",
    "    print(' ')\n",
    "\n",
    "for a in range(2, 10) :\n",
    "    for b in range(1, 10) :\n",
    "        print(a * b)\n",
    "    print(' ')"
   ]
  },
  {
   "cell_type": "markdown",
   "metadata": {},
   "source": [
    "###### for문 안에 조건문(if-else)"
   ]
  },
  {
   "cell_type": "code",
   "execution_count": 58,
   "metadata": {},
   "outputs": [
    {
     "name": "stdout",
     "output_type": "stream",
     "text": [
      "1번 합격\n",
      "2번 불합격\n",
      "3번 합격\n",
      "4번 불합격\n"
     ]
    }
   ],
   "source": [
    "Score = [100, 7, 75, 32]\n",
    "num = 0\n",
    "\n",
    "for a in Score :\n",
    "    num += 1\n",
    "    if a >= 70 :\n",
    "        print('%d번 합격' %num)\n",
    "    else :\n",
    "        print('%d번 불합격' %num)"
   ]
  },
  {
   "cell_type": "markdown",
   "metadata": {},
   "source": [
    "##### While문"
   ]
  },
  {
   "cell_type": "code",
   "execution_count": 59,
   "metadata": {},
   "outputs": [
    {
     "name": "stdout",
     "output_type": "stream",
     "text": [
      "2\n",
      "4\n",
      "6\n",
      "8\n",
      "10\n",
      "12\n",
      "14\n",
      "16\n",
      "18\n"
     ]
    }
   ],
   "source": [
    "i = 1\n",
    "\n",
    "while i < 10 :\n",
    "    result = 2 * i\n",
    "    print(result)\n",
    "    i += 1"
   ]
  },
  {
   "cell_type": "code",
   "execution_count": 60,
   "metadata": {},
   "outputs": [
    {
     "name": "stdout",
     "output_type": "stream",
     "text": [
      "1부터 100까지의 합은 :  5050\n"
     ]
    }
   ],
   "source": [
    "a = 1\n",
    "b = 0\n",
    "\n",
    "while a <= 100 :\n",
    "    b = b + a\n",
    "    a = a + 1\n",
    "    \n",
    "print('1부터 100까지의 합은 : ', b)"
   ]
  },
  {
   "cell_type": "markdown",
   "metadata": {},
   "source": [
    "###### break"
   ]
  },
  {
   "cell_type": "markdown",
   "metadata": {},
   "source": [
    "- 특정 조건을 만족하면 반복문 강제 종료"
   ]
  },
  {
   "cell_type": "code",
   "execution_count": 61,
   "metadata": {},
   "outputs": [
    {
     "name": "stdout",
     "output_type": "stream",
     "text": [
      "1부터 100까지의 합은 :  3003\n"
     ]
    }
   ],
   "source": [
    "a = 1\n",
    "b = 0\n",
    "\n",
    "while a <= 100 :\n",
    "    b = b + a\n",
    "    a = a + 1\n",
    "    \n",
    "    if b > 3000 :\n",
    "        break\n",
    "\n",
    "\n",
    "print('1부터 100까지의 합은 : ', b)"
   ]
  },
  {
   "cell_type": "code",
   "execution_count": 63,
   "metadata": {},
   "outputs": [
    {
     "name": "stdout",
     "output_type": "stream",
     "text": [
      "[[1, 1, 1], [1, 2, 2], [1, 3, 3], [1, 4, 4], [1, 5, 5], [1, 6, 6], [1, 7, 7], [1, 8, 8], [1, 9, 9], [1, 10, 10], [2, 1, 2], [2, 2, 4], [2, 3, 6], [2, 4, 8], [2, 5, 10], [3, 1, 3], [3, 2, 6], [3, 3, 9], [4, 1, 4], [4, 2, 8], [5, 1, 5], [5, 2, 10]]\n"
     ]
    }
   ],
   "source": [
    "result = [ ]\n",
    "\n",
    "for i in range(1, 6) :\n",
    "    for j in range(1, 11) :\n",
    "        k = i * j\n",
    "        result_temp = [i, j, k]\n",
    "        \n",
    "        if k > 10 :\n",
    "            break\n",
    "        result.append(result_temp)\n",
    "\n",
    "print(result)"
   ]
  },
  {
   "cell_type": "markdown",
   "metadata": {},
   "source": [
    "###### continue"
   ]
  },
  {
   "cell_type": "markdown",
   "metadata": {},
   "source": [
    "- 해당 step을 실행하지 않고 건너뜀"
   ]
  },
  {
   "cell_type": "code",
   "execution_count": 65,
   "metadata": {},
   "outputs": [
    {
     "name": "stdout",
     "output_type": "stream",
     "text": [
      "1번 합격\n",
      "3번 합격\n"
     ]
    }
   ],
   "source": [
    "Score = [100, 7, 75, 32]\n",
    "num = 0\n",
    "\n",
    "for a in Score :\n",
    "    num += 1\n",
    "    \n",
    "    if a < 70 :\n",
    "        continue\n",
    "    else :\n",
    "        print('%d번 합격' %num)"
   ]
  },
  {
   "cell_type": "markdown",
   "metadata": {},
   "source": [
    "#### 사용자 정의 함수"
   ]
  },
  {
   "cell_type": "code",
   "execution_count": 66,
   "metadata": {},
   "outputs": [
    {
     "data": {
      "text/plain": [
       "25"
      ]
     },
     "execution_count": 66,
     "metadata": {},
     "output_type": "execute_result"
    }
   ],
   "source": [
    "def square(x) :\n",
    "    return x * x\n",
    "\n",
    "square(5)"
   ]
  },
  {
   "cell_type": "code",
   "execution_count": 68,
   "metadata": {},
   "outputs": [
    {
     "name": "stdout",
     "output_type": "stream",
     "text": [
      "odd\n",
      "even\n"
     ]
    }
   ],
   "source": [
    "def even_or_odd(n) :\n",
    "    if n % 2 == 0 :\n",
    "        print(\"even\")\n",
    "        return\n",
    "    print(\"odd\")\n",
    "\n",
    "even_or_odd(3)\n",
    "even_or_odd(4)"
   ]
  },
  {
   "cell_type": "code",
   "execution_count": 75,
   "metadata": {},
   "outputs": [
    {
     "data": {
      "text/plain": [
       "21"
      ]
     },
     "execution_count": 75,
     "metadata": {},
     "output_type": "execute_result"
    }
   ],
   "source": [
    "def Function_1(a, b) :\n",
    "    x = a + 5\n",
    "    y = b * 3\n",
    "    z = x + y\n",
    "    return z\n",
    "\n",
    "Function_1(1, 5)\n",
    "Function_1(a = 1, b = 5)"
   ]
  },
  {
   "cell_type": "markdown",
   "metadata": {},
   "source": [
    "- 입력변수가 몇 개인지 모를 때, 매개변수 앞에 `*` 추가"
   ]
  },
  {
   "cell_type": "code",
   "execution_count": 72,
   "metadata": {},
   "outputs": [
    {
     "data": {
      "text/plain": [
       "10"
      ]
     },
     "execution_count": 72,
     "metadata": {},
     "output_type": "execute_result"
    }
   ],
   "source": [
    "def add_many(*args) :\n",
    "    result = 0\n",
    "\n",
    "    for i in args :\n",
    "        result += i\n",
    "    return result\n",
    "\n",
    "add_many(1, 2, 3)\n",
    "add_many(1, 2, 3, 4)"
   ]
  },
  {
   "cell_type": "code",
   "execution_count": 74,
   "metadata": {},
   "outputs": [
    {
     "data": {
      "text/plain": [
       "-21"
      ]
     },
     "execution_count": 74,
     "metadata": {},
     "output_type": "execute_result"
    }
   ],
   "source": [
    "def add_many(choice, *args) :\n",
    "    result = 0\n",
    "\n",
    "    if choice == \"good\" :\n",
    "        for i in args :\n",
    "            result += i\n",
    "    elif choice == \"bad\" :\n",
    "        for i in args :\n",
    "            result -= i\n",
    "    return result\n",
    "\n",
    "add_many(\"good\", 1, 2, 3, 4, 5, 6)\n",
    "add_many(\"bad\", 1, 2, 3, 4, 5, 6)"
   ]
  },
  {
   "cell_type": "markdown",
   "metadata": {},
   "source": [
    "- 조건을 만족하면, return 함수로 함수 빠져나옴"
   ]
  },
  {
   "cell_type": "code",
   "execution_count": 76,
   "metadata": {},
   "outputs": [
    {
     "name": "stdout",
     "output_type": "stream",
     "text": [
      "나의 별명은 천재 입니다.\n"
     ]
    }
   ],
   "source": [
    "def say_nick(nick) :\n",
    "    if nick == \"바보\" :\n",
    "        return\n",
    "    print(\"나의 별명은 %s 입니다.\" %nick)\n",
    "\n",
    "say_nick(\"바보\")\n",
    "say_nick(\"천재\")"
   ]
  },
  {
   "cell_type": "markdown",
   "metadata": {},
   "source": [
    "- 매개변수에 초기 값 입력"
   ]
  },
  {
   "cell_type": "code",
   "execution_count": 77,
   "metadata": {},
   "outputs": [
    {
     "name": "stdout",
     "output_type": "stream",
     "text": [
      "나의 이름은 민주 입니다.\n",
      "나이는 41살입니다.\n",
      "남자입니다.\n"
     ]
    }
   ],
   "source": [
    "def say_myself(name, old, man = True) :\n",
    "    print(\"나의 이름은 %s 입니다.\" %name)\n",
    "    print(\"나이는 %d살입니다.\" %old)\n",
    "\n",
    "    if man :\n",
    "        print(\"남자입니다.\")\n",
    "    else :\n",
    "        print(\"여자입니다.\")\n",
    "\n",
    "say_myself(\"민주\", 41)"
   ]
  },
  {
   "cell_type": "code",
   "execution_count": 78,
   "metadata": {},
   "outputs": [
    {
     "name": "stdout",
     "output_type": "stream",
     "text": [
      "1\n"
     ]
    }
   ],
   "source": [
    "a = 1\n",
    "\n",
    "def vartest(a) :\n",
    "    a += 1\n",
    "\n",
    "vartest(a)\n",
    "\n",
    "print(a)"
   ]
  },
  {
   "cell_type": "code",
   "execution_count": 79,
   "metadata": {},
   "outputs": [
    {
     "name": "stdout",
     "output_type": "stream",
     "text": [
      "2\n"
     ]
    }
   ],
   "source": [
    "a = 1\n",
    "\n",
    "def vartest(a) :\n",
    "    a += 1\n",
    "    return a\n",
    "\n",
    "a = vartest(a)\n",
    "print(a)"
   ]
  },
  {
   "cell_type": "code",
   "execution_count": 80,
   "metadata": {},
   "outputs": [
    {
     "name": "stdout",
     "output_type": "stream",
     "text": [
      "2\n"
     ]
    }
   ],
   "source": [
    "a = 1\n",
    "\n",
    "def vartest() :\n",
    "    global a\n",
    "    a += 1\n",
    "\n",
    "vartest()\n",
    "print(a)"
   ]
  },
  {
   "cell_type": "markdown",
   "metadata": {},
   "source": [
    "### 220630"
   ]
  },
  {
   "cell_type": "code",
   "execution_count": 2,
   "metadata": {},
   "outputs": [
    {
     "name": "stdout",
     "output_type": "stream",
     "text": [
      "Collecting numpy\n",
      "  Downloading numpy-1.23.0-cp39-cp39-win_amd64.whl (14.7 MB)\n",
      "     ---------------------------------------- 14.7/14.7 MB 1.8 MB/s eta 0:00:00\n",
      "Installing collected packages: numpy\n",
      "Successfully installed numpy-1.23.0\n",
      "Note: you may need to restart the kernel to use updated packages.\n"
     ]
    },
    {
     "name": "stderr",
     "output_type": "stream",
     "text": [
      "  WARNING: The script f2py.exe is installed in 'C:\\Users\\rproject\\AppData\\Local\\Packages\\PythonSoftwareFoundation.Python.3.9_qbz5n2kfra8p0\\LocalCache\\local-packages\\Python39\\Scripts' which is not on PATH.\n",
      "  Consider adding this directory to PATH or, if you prefer to suppress this warning, use --no-warn-script-location.\n",
      "WARNING: You are using pip version 22.0.4; however, version 22.1.2 is available.\n",
      "You should consider upgrading via the 'C:\\Users\\rproject\\AppData\\Local\\Microsoft\\WindowsApps\\PythonSoftwareFoundation.Python.3.9_qbz5n2kfra8p0\\python.exe -m pip install --upgrade pip' command.\n"
     ]
    }
   ],
   "source": [
    "pip install numpy"
   ]
  },
  {
   "cell_type": "code",
   "execution_count": 3,
   "metadata": {},
   "outputs": [],
   "source": [
    "import numpy as np"
   ]
  },
  {
   "cell_type": "markdown",
   "metadata": {},
   "source": [
    "##### 배열과 리스트 비교"
   ]
  },
  {
   "cell_type": "markdown",
   "metadata": {},
   "source": [
    "- 배열은 모든 원소가 같은 자료형이어야 하고, 리스트는 각각의 원소가 다른 자료형이 될 수 있음\n",
    "- 배열은 원소의 갯수를 변경할 수 없음"
   ]
  },
  {
   "cell_type": "code",
   "execution_count": 6,
   "metadata": {},
   "outputs": [
    {
     "data": {
      "text/plain": [
       "4"
      ]
     },
     "execution_count": 6,
     "metadata": {},
     "output_type": "execute_result"
    }
   ],
   "source": [
    "a = np.array(([1, 2], [3, 4])) # 배열\n",
    "b = [[1, 2], [3, 4]] # 리스트\n",
    "\n",
    "a\n",
    "b\n",
    "\n",
    "a[1, 1]\n",
    "b[1][1]"
   ]
  },
  {
   "cell_type": "markdown",
   "metadata": {},
   "source": [
    "###### 1차원 배열"
   ]
  },
  {
   "cell_type": "code",
   "execution_count": 7,
   "metadata": {},
   "outputs": [
    {
     "data": {
      "text/plain": [
       "dtype('float64')"
      ]
     },
     "execution_count": 7,
     "metadata": {},
     "output_type": "execute_result"
    }
   ],
   "source": [
    "data1 = [1, 2, 3, 4, 5]\n",
    "data1\n",
    "\n",
    "data2 = [1, 2, 3, 3.5, 4]\n",
    "data2\n",
    "\n",
    "# numpy를 이용하여 array 정의\n",
    "arr1 = np.array(data1)\n",
    "arr1\n",
    "\n",
    "# array의 형태(크기) 확인\n",
    "arr1.shape\n",
    "\n",
    "\n",
    "arr2 = np.array([1, 2, 3, 4, 5])\n",
    "arr2\n",
    "\n",
    "arr2.shape\n",
    "\n",
    "# array의 자료형\n",
    "arr2.dtype\n",
    "\n",
    "\n",
    "arr3 = np.array(data2)\n",
    "arr3\n",
    "\n",
    "arr3.shape\n",
    "arr3.dtype"
   ]
  },
  {
   "cell_type": "markdown",
   "metadata": {},
   "source": [
    "###### 2차원 배열"
   ]
  },
  {
   "cell_type": "code",
   "execution_count": 9,
   "metadata": {},
   "outputs": [
    {
     "data": {
      "text/plain": [
       "(4, 3)"
      ]
     },
     "execution_count": 9,
     "metadata": {},
     "output_type": "execute_result"
    }
   ],
   "source": [
    "arr4 = np.array([[1, 2, 3], [4, 5, 6], [7, 8, 9], [10, 11, 12]])\n",
    "arr4\n",
    "\n",
    "arr4.shape"
   ]
  },
  {
   "cell_type": "markdown",
   "metadata": {},
   "source": [
    "###### 3차원 배열"
   ]
  },
  {
   "cell_type": "code",
   "execution_count": 17,
   "metadata": {},
   "outputs": [
    {
     "data": {
      "text/plain": [
       "(2, 4, 3)"
      ]
     },
     "execution_count": 17,
     "metadata": {},
     "output_type": "execute_result"
    }
   ],
   "source": [
    "arr5 = np.array([[[1, 2, 3], [4, 5, 6], [7, 8, 9], [10, 11, 12]], [[13, 14, 15], [16, 17, 18], [19, 20, 21], [22, 23, 24]]])\n",
    "type(arr5)\n",
    "arr5.shape"
   ]
  },
  {
   "cell_type": "markdown",
   "metadata": {},
   "source": [
    "###### 기타 배열"
   ]
  },
  {
   "cell_type": "markdown",
   "metadata": {},
   "source": [
    "- np.zeros : 모든 요소가 0인 array\n",
    "- np.ones : 모든 요소가 1인 array\n",
    "- np.arange : 1씩 증가하는 1차원 array\n",
    "- np.full : 특정 값으로채움\n",
    "- np.eye : 단위 행렬\n",
    "- np.empty : 초기화되지 않은 값으로 배열 생성"
   ]
  },
  {
   "cell_type": "code",
   "execution_count": 21,
   "metadata": {},
   "outputs": [
    {
     "data": {
      "text/plain": [
       "array([[6.23042070e-307, 4.67296746e-307],\n",
       "       [1.69121096e-306, 1.60220529e-306],\n",
       "       [8.45596650e-307, 1.42413555e-306],\n",
       "       [1.78019082e-306, 5.57123629e-309]])"
      ]
     },
     "execution_count": 21,
     "metadata": {},
     "output_type": "execute_result"
    }
   ],
   "source": [
    "np.zeros(10)\n",
    "np.zeros((3, 5))\n",
    "\n",
    "np.ones(9)\n",
    "np.ones((2, 10))\n",
    "\n",
    "np.arange(10) # 0부터 9까지\n",
    "np.arange(3, 10) # 3부터 9까지\n",
    "\n",
    "np.full((2, 2), 7) # 2*2 array에 7로 full\n",
    "\n",
    "np.eye(4)\n",
    "\n",
    "np.empty((4, 2)) # 메모리 초기화되지 않아, 예상치 못한 garbage value가 포함"
   ]
  },
  {
   "cell_type": "code",
   "execution_count": 30,
   "metadata": {},
   "outputs": [
    {
     "data": {
      "text/plain": [
       "array([[1, 1, 1],\n",
       "       [1, 1, 1],\n",
       "       [1, 1, 1]])"
      ]
     },
     "execution_count": 30,
     "metadata": {},
     "output_type": "execute_result"
    }
   ],
   "source": [
    "# 동일한 구조와 데이터 형태를 유지한 상태로, 각 \"0, 1, 빈 배열\" 반환\n",
    "a = np.arange(1, 10).reshape(3, 3)\n",
    "a\n",
    "\n",
    "np.zeros_like(a)\n",
    "np.ones_like(a)\n",
    "np.empty_like(a)"
   ]
  },
  {
   "cell_type": "markdown",
   "metadata": {},
   "source": [
    "##### Array 연산"
   ]
  },
  {
   "cell_type": "markdown",
   "metadata": {},
   "source": [
    "- 크기가 동일한 array끼리 연산\n",
    "- 같은 위치에 있는 요소들끼리 연산"
   ]
  },
  {
   "cell_type": "code",
   "execution_count": 31,
   "metadata": {},
   "outputs": [
    {
     "data": {
      "text/plain": [
       "array([[0.1       , 0.18181818, 0.25      ],\n",
       "       [0.30769231, 0.35714286, 0.4       ]])"
      ]
     },
     "execution_count": 31,
     "metadata": {},
     "output_type": "execute_result"
    }
   ],
   "source": [
    "arr1 = np.array([[1, 2, 3], [4, 5, 6]])\n",
    "arr1.shape\n",
    "\n",
    "arr2 = np.array([[10, 11, 12], [13, 14, 15]])\n",
    "arr2.shape\n",
    "\n",
    "arr1 + arr2\n",
    "arr1 - arr2\n",
    "arr1 * arr2\n",
    "arr1 / arr2"
   ]
  },
  {
   "cell_type": "code",
   "execution_count": 32,
   "metadata": {},
   "outputs": [
    {
     "data": {
      "text/plain": [
       "array([[ 1,  4,  9],\n",
       "       [16, 25, 36]])"
      ]
     },
     "execution_count": 32,
     "metadata": {},
     "output_type": "execute_result"
    }
   ],
   "source": [
    "# 브로드 캐스트 - 크기가 다른 array 연산 가능\n",
    "arr1.shape\n",
    "\n",
    "arr3 = np.array([10, 11, 12])\n",
    "arr3.shape\n",
    "\n",
    "arr1 + arr3\n",
    "arr1 * 10\n",
    "arr1 ** 2"
   ]
  },
  {
   "cell_type": "markdown",
   "metadata": {},
   "source": [
    "###### Array의 인덱싱"
   ]
  },
  {
   "cell_type": "code",
   "execution_count": 35,
   "metadata": {},
   "outputs": [
    {
     "data": {
      "text/plain": [
       "array([0, 1, 2, 3, 4, 5, 6, 7, 8, 9])"
      ]
     },
     "execution_count": 35,
     "metadata": {},
     "output_type": "execute_result"
    }
   ],
   "source": [
    "arr1 = np.arange(10)\n",
    "\n",
    "arr1[0]\n",
    "arr1[3]\n",
    "arr1[3:9]\n",
    "arr1[:]"
   ]
  },
  {
   "cell_type": "code",
   "execution_count": 40,
   "metadata": {},
   "outputs": [
    {
     "data": {
      "text/plain": [
       "array([[ 9, 10, 11, 12],\n",
       "       [ 1,  2,  3,  4],\n",
       "       [ 5,  6,  7,  8]])"
      ]
     },
     "execution_count": 40,
     "metadata": {},
     "output_type": "execute_result"
    }
   ],
   "source": [
    "# 다차원 배열에서 각 차원에 대해 가능\n",
    "\n",
    "arr2 = np.array([[1, 2, 3, 4], [5, 6, 7, 8], [9, 10, 11, 12]])\n",
    "\n",
    "arr2[0, 0]\n",
    "arr2[2, :]\n",
    "arr2[2, 3]\n",
    "arr2[:, 3]\n",
    "arr2[[2, 0, 1], :] # 행 순서 변경"
   ]
  },
  {
   "cell_type": "code",
   "execution_count": 43,
   "metadata": {},
   "outputs": [
    {
     "data": {
      "text/plain": [
       "(8, 4)"
      ]
     },
     "execution_count": 43,
     "metadata": {},
     "output_type": "execute_result"
    }
   ],
   "source": [
    "# boolean 인덱싱 (마스크) - 원하는 행 또는 열의 값만 추출 (TRUE 값)\n",
    "\n",
    "data = np.random.randn(8, 4) # 가우시안 정규분포\n",
    "data\n",
    "\n",
    "data = np.random.randint(0, 100, size= (8, 4))\n",
    "data\n",
    "\n",
    "type(data)\n",
    "data.shape"
   ]
  },
  {
   "cell_type": "code",
   "execution_count": null,
   "metadata": {},
   "outputs": [],
   "source": []
  }
 ],
 "metadata": {
  "kernelspec": {
   "display_name": "Python 3.9.13 64-bit (windows store)",
   "language": "python",
   "name": "python3"
  },
  "language_info": {
   "codemirror_mode": {
    "name": "ipython",
    "version": 3
   },
   "file_extension": ".py",
   "mimetype": "text/x-python",
   "name": "python",
   "nbconvert_exporter": "python",
   "pygments_lexer": "ipython3",
   "version": "3.9.13"
  },
  "orig_nbformat": 4,
  "vscode": {
   "interpreter": {
    "hash": "c567e38bbba99904a53d00386f4f69185e434fa5de320d43f5dd1fef59112ff0"
   }
  }
 },
 "nbformat": 4,
 "nbformat_minor": 2
}
