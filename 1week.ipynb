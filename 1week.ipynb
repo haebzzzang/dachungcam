{
 "cells": [
  {
   "cell_type": "markdown",
   "metadata": {},
   "source": [
    "### 220628"
   ]
  },
  {
   "cell_type": "code",
   "execution_count": 2,
   "metadata": {},
   "outputs": [
    {
     "name": "stdout",
     "output_type": "stream",
     "text": [
      "3.9.13\n"
     ]
    }
   ],
   "source": [
    "import platform\n",
    "print(platform.python_version())"
   ]
  },
  {
   "cell_type": "code",
   "execution_count": 3,
   "metadata": {},
   "outputs": [
    {
     "name": "stdout",
     "output_type": "stream",
     "text": [
      "c:\\Users\\rproject\\Desktop\\데이터청년캠퍼스\\dachungcam\n"
     ]
    }
   ],
   "source": [
    "import os\n",
    "print(os.getcwd())"
   ]
  },
  {
   "cell_type": "markdown",
   "metadata": {},
   "source": [
    "#### Data Type"
   ]
  },
  {
   "cell_type": "code",
   "execution_count": 4,
   "metadata": {},
   "outputs": [
    {
     "data": {
      "text/plain": [
       "complex"
      ]
     },
     "execution_count": 4,
     "metadata": {},
     "output_type": "execute_result"
    }
   ],
   "source": [
    "a = 1\n",
    "b = 1.2345\n",
    "c = 3 + 4j\n",
    "\n",
    "# 변수의 타입 확인\n",
    "type(a)\n",
    "type(b)\n",
    "type(c)"
   ]
  },
  {
   "cell_type": "code",
   "execution_count": 5,
   "metadata": {},
   "outputs": [
    {
     "data": {
      "text/plain": [
       "(5.2345+4j)"
      ]
     },
     "execution_count": 5,
     "metadata": {},
     "output_type": "execute_result"
    }
   ],
   "source": [
    "d = a + b + c\n",
    "d"
   ]
  },
  {
   "cell_type": "markdown",
   "metadata": {},
   "source": [
    "##### Str Type"
   ]
  },
  {
   "cell_type": "code",
   "execution_count": 6,
   "metadata": {},
   "outputs": [
    {
     "name": "stdout",
     "output_type": "stream",
     "text": [
      "Hello Bigdata\n",
      "Hello Bigdata\n",
      "Hello Bigdata\n",
      "Hello Bigdata\n",
      "and Cheer up!\n"
     ]
    }
   ],
   "source": [
    "sa = 'Hello Bigdata'\n",
    "print(sa)\n",
    "\n",
    "sb = \"Hello Bigdata\"\n",
    "print(sb)\n",
    "\n",
    "sc = \"\"\"Hello Bigdata\"\"\"\n",
    "print(sc)\n",
    "\n",
    "sd = '''Hello Bigdata'''\n",
    "print(sd)\n",
    "\n",
    "se = 'and Cheer up!'\n",
    "print(se)"
   ]
  },
  {
   "cell_type": "code",
   "execution_count": 7,
   "metadata": {},
   "outputs": [
    {
     "name": "stdout",
     "output_type": "stream",
     "text": [
      "Hello Bigdataand Cheer up!\n"
     ]
    }
   ],
   "source": [
    "print(sd + se)"
   ]
  },
  {
   "cell_type": "code",
   "execution_count": 8,
   "metadata": {},
   "outputs": [
    {
     "name": "stdout",
     "output_type": "stream",
     "text": [
      "=\n",
      "==================================================\n"
     ]
    }
   ],
   "source": [
    "a = \"=\"\n",
    "print(a)\n",
    "print(a * 50)"
   ]
  },
  {
   "cell_type": "code",
   "execution_count": 9,
   "metadata": {},
   "outputs": [
    {
     "data": {
      "text/plain": [
       "50"
      ]
     },
     "execution_count": 9,
     "metadata": {},
     "output_type": "execute_result"
    }
   ],
   "source": [
    "# 문자열 길이\n",
    "len(a)\n",
    "len(se)\n",
    "len(a * 50)"
   ]
  },
  {
   "cell_type": "markdown",
   "metadata": {},
   "source": [
    "###### 문자열 인덱싱"
   ]
  },
  {
   "cell_type": "code",
   "execution_count": 10,
   "metadata": {},
   "outputs": [
    {
     "name": "stdout",
     "output_type": "stream",
     "text": [
      "this is a string\n",
      "i\n",
      "t\n",
      "g\n",
      "i\n",
      " \n"
     ]
    }
   ],
   "source": [
    "a = 'this is a string'\n",
    "\n",
    "print(a)\n",
    "print(a[2])\n",
    "print(a[0])\n",
    "print(a[-1])\n",
    "print(a[5])\n",
    "print(a[4])"
   ]
  },
  {
   "cell_type": "markdown",
   "metadata": {},
   "source": [
    "###### 문자열 슬라이싱"
   ]
  },
  {
   "cell_type": "markdown",
   "metadata": {},
   "source": [
    "- 끝번호 값은 제외하고 출력"
   ]
  },
  {
   "cell_type": "code",
   "execution_count": 11,
   "metadata": {},
   "outputs": [
    {
     "name": "stdout",
     "output_type": "stream",
     "text": [
      "20200722Wed\n",
      "2020\n",
      "07\n",
      "20200722\n",
      "Wed\n",
      "20200722Wed\n",
      "202007\n"
     ]
    }
   ],
   "source": [
    "b = '20200722Wed'\n",
    "\n",
    "print(b)\n",
    "print(b[0:4])\n",
    "print(b[4:6])\n",
    "print(b[:8])\n",
    "print(b[8:])\n",
    "print(b[:])\n",
    "print(b[:-5])"
   ]
  },
  {
   "cell_type": "markdown",
   "metadata": {},
   "source": [
    "###### 문자열 수정"
   ]
  },
  {
   "cell_type": "code",
   "execution_count": 12,
   "metadata": {},
   "outputs": [
    {
     "ename": "TypeError",
     "evalue": "'str' object does not support item assignment",
     "output_type": "error",
     "traceback": [
      "\u001b[1;31m---------------------------------------------------------------------------\u001b[0m",
      "\u001b[1;31mTypeError\u001b[0m                                 Traceback (most recent call last)",
      "\u001b[1;32mc:\\Users\\rproject\\Desktop\\데이터청년캠퍼스\\dachungcam\\1week.ipynb Cell 13'\u001b[0m in \u001b[0;36m<cell line: 2>\u001b[1;34m()\u001b[0m\n\u001b[0;32m      <a href='vscode-notebook-cell:/c%3A/Users/rproject/Desktop/%EB%8D%B0%EC%9D%B4%ED%84%B0%EC%B2%AD%EB%85%84%EC%BA%A0%ED%8D%BC%EC%8A%A4/dachungcam/1week.ipynb#ch0000017?line=0'>1</a>\u001b[0m a \u001b[39m=\u001b[39m \u001b[39m'\u001b[39m\u001b[39mthis is a string\u001b[39m\u001b[39m'\u001b[39m\n\u001b[1;32m----> <a href='vscode-notebook-cell:/c%3A/Users/rproject/Desktop/%EB%8D%B0%EC%9D%B4%ED%84%B0%EC%B2%AD%EB%85%84%EC%BA%A0%ED%8D%BC%EC%8A%A4/dachungcam/1week.ipynb#ch0000017?line=1'>2</a>\u001b[0m a[\u001b[39m10\u001b[39m:] \u001b[39m=\u001b[39m \u001b[39m'\u001b[39m\u001b[39mrope\u001b[39m\u001b[39m'\u001b[39m\n",
      "\u001b[1;31mTypeError\u001b[0m: 'str' object does not support item assignment"
     ]
    }
   ],
   "source": [
    "a = 'this is a string'\n",
    "a[10:] = 'rope'"
   ]
  },
  {
   "cell_type": "code",
   "execution_count": 13,
   "metadata": {},
   "outputs": [
    {
     "data": {
      "text/plain": [
       "'this is a robe'"
      ]
     },
     "execution_count": 13,
     "metadata": {},
     "output_type": "execute_result"
    }
   ],
   "source": [
    "b = 'robe'\n",
    "a[:10] + b"
   ]
  },
  {
   "cell_type": "code",
   "execution_count": 14,
   "metadata": {},
   "outputs": [
    {
     "name": "stdout",
     "output_type": "stream",
     "text": [
      "this is a rope\n"
     ]
    }
   ],
   "source": [
    "# 문자 변경\n",
    "c = a.replace('string', 'rope')\n",
    "print(c)"
   ]
  },
  {
   "cell_type": "markdown",
   "metadata": {},
   "source": [
    "###### 문자열 format"
   ]
  },
  {
   "cell_type": "code",
   "execution_count": 16,
   "metadata": {},
   "outputs": [
    {
     "data": {
      "text/plain": [
       "'a equals 11.'"
      ]
     },
     "execution_count": 16,
     "metadata": {},
     "output_type": "execute_result"
    }
   ],
   "source": [
    "a = 11\n",
    "\n",
    "# %d 숫자(정수)\n",
    "\"a equals %d.\" %3\n",
    "\"a equals %d.\" %a"
   ]
  },
  {
   "cell_type": "code",
   "execution_count": 28,
   "metadata": {},
   "outputs": [
    {
     "data": {
      "text/plain": [
       "'             3.14159'"
      ]
     },
     "execution_count": 28,
     "metadata": {},
     "output_type": "execute_result"
    }
   ],
   "source": [
    "b = -22\n",
    "\"vars are %d and %d.\" %(a, b)\n",
    "\n",
    "# %s 문자(\"\" 꼭 넣어주기)\n",
    "\"I have %s children.\" %\"three\"\n",
    "\"vars are %s and %s.\" %(a, b)\n",
    "\n",
    "\"vars are %s and %s\" %(3.14, 5)\n",
    "\n",
    "# %숫자s 자리수만큼 공백 오른쪽 정렬 (-는 왼쪽 정렬)\n",
    "\"%10s\" %\"Good\"\n",
    "\"%-10s\" %\"Good\"\n",
    "\n",
    "# 소수 자리수 출력\n",
    "\"%.5f\" %3.141592\n",
    "\"%20.5f\" %3.141592 # 전체 20자리 공간에서 오른쪽 정렬 소수점 5자리"
   ]
  },
  {
   "cell_type": "markdown",
   "metadata": {},
   "source": [
    "###### 문자열 함수들"
   ]
  },
  {
   "cell_type": "code",
   "execution_count": 39,
   "metadata": {},
   "outputs": [
    {
     "data": {
      "text/plain": [
       "'korean culture'"
      ]
     },
     "execution_count": 39,
     "metadata": {},
     "output_type": "execute_result"
    }
   ],
   "source": [
    "a = \"Korean culture\"\n",
    "\n",
    "a.count('u')\n",
    "\n",
    "a.find('u') # 문자 위치\n",
    "a.find('K')\n",
    "a.find('k') # -1 : 해당 문자 없음\n",
    "\n",
    "a.index('u')\n",
    "# a.index('k')\n",
    "\n",
    "\",\".join('Korean culture') # 문자 사이 구분\n",
    "\n",
    "a.upper()\n",
    "a.lower()\n"
   ]
  },
  {
   "cell_type": "code",
   "execution_count": 43,
   "metadata": {},
   "outputs": [
    {
     "data": {
      "text/plain": [
       "'     Korean cultrue'"
      ]
     },
     "execution_count": 43,
     "metadata": {},
     "output_type": "execute_result"
    }
   ],
   "source": [
    "b = '     Korean cultrue   '\n",
    "\n",
    "# 공백 제거\n",
    "b.strip()\n",
    "b.lstrip()\n",
    "b.rstrip()\n"
   ]
  },
  {
   "cell_type": "code",
   "execution_count": 45,
   "metadata": {},
   "outputs": [
    {
     "data": {
      "text/plain": [
       "['Korean', 'culture']"
      ]
     },
     "execution_count": 45,
     "metadata": {},
     "output_type": "execute_result"
    }
   ],
   "source": [
    "a.replace(\"Korean\", \"American\")\n",
    "a.split()"
   ]
  },
  {
   "cell_type": "code",
   "execution_count": 46,
   "metadata": {},
   "outputs": [
    {
     "data": {
      "text/plain": [
       "['Korean ', ' American']"
      ]
     },
     "execution_count": 46,
     "metadata": {},
     "output_type": "execute_result"
    }
   ],
   "source": [
    "c = \"Korean & American\"\n",
    "c.split(\"&\")"
   ]
  },
  {
   "cell_type": "markdown",
   "metadata": {},
   "source": [
    "##### Boolean Type"
   ]
  },
  {
   "cell_type": "code",
   "execution_count": 51,
   "metadata": {},
   "outputs": [
    {
     "data": {
      "text/plain": [
       "True"
      ]
     },
     "execution_count": 51,
     "metadata": {},
     "output_type": "execute_result"
    }
   ],
   "source": [
    "d = True\n",
    "type(d)\n",
    "\n",
    "e = False\n",
    "\n",
    "d and e\n",
    "d or e\n",
    "6 == 6\n",
    "6 > 4\n",
    "not d\n",
    "\n",
    "# 문자열/리스트/튜플/딕셔너리가 비워져있으면 F\n",
    "bool(\"ABC\")\n",
    "bool(\"\")\n",
    "bool([1, 2, 3])\n",
    "\n",
    "# 0이면 F, 1이면 T\n",
    "bool(0)\n",
    "bool(1)"
   ]
  },
  {
   "cell_type": "markdown",
   "metadata": {},
   "source": [
    "##### List Type"
   ]
  },
  {
   "cell_type": "code",
   "execution_count": 52,
   "metadata": {},
   "outputs": [
    {
     "name": "stdout",
     "output_type": "stream",
     "text": [
      "[]\n",
      "[1, 2, 3, 4, 5]\n",
      "['red', 'blue', 'yellow']\n",
      "[1, 2, 'red', 'blue']\n",
      "[1, 2, ['red', 'blue']]\n"
     ]
    }
   ],
   "source": [
    "a = []\n",
    "b = [1, 2, 3, 4, 5]\n",
    "c = ['red', 'blue', 'yellow']\n",
    "d = [1, 2, 'red', 'blue']\n",
    "e = [1, 2, ['red', 'blue']]\n",
    "\n",
    "print(a)\n",
    "print(b)\n",
    "print(c)\n",
    "print(d)\n",
    "print(e)"
   ]
  },
  {
   "cell_type": "markdown",
   "metadata": {},
   "source": [
    "###### 리스트 인덱싱"
   ]
  },
  {
   "cell_type": "code",
   "execution_count": 54,
   "metadata": {},
   "outputs": [
    {
     "data": {
      "text/plain": [
       "5"
      ]
     },
     "execution_count": 54,
     "metadata": {},
     "output_type": "execute_result"
    }
   ],
   "source": [
    "b[0]\n",
    "b[0] + b[2]\n",
    "b[-1]"
   ]
  },
  {
   "cell_type": "code",
   "execution_count": 58,
   "metadata": {},
   "outputs": [
    {
     "name": "stdout",
     "output_type": "stream",
     "text": [
      "[1, 2, 3, 4, 5, ['a', 'b', 'c', 'd'], 7, 8, 9]\n"
     ]
    },
    {
     "data": {
      "text/plain": [
       "'c'"
      ]
     },
     "execution_count": 58,
     "metadata": {},
     "output_type": "execute_result"
    }
   ],
   "source": [
    "a = [1, 2, 3, 4, 5, ['a', 'b', 'c', 'd'], 7, 8, 9]\n",
    "\n",
    "print(a)\n",
    "\n",
    "a[0]\n",
    "a[-1]\n",
    "a[5]\n",
    "a[5][2]"
   ]
  },
  {
   "cell_type": "markdown",
   "metadata": {},
   "source": [
    "###### 리스트 슬라이싱"
   ]
  },
  {
   "cell_type": "code",
   "execution_count": 71,
   "metadata": {},
   "outputs": [
    {
     "data": {
      "text/plain": [
       "['a', 'b']"
      ]
     },
     "execution_count": 71,
     "metadata": {},
     "output_type": "execute_result"
    }
   ],
   "source": [
    "b = [1, 2, 3, 4, 5]\n",
    "b[0:4]\n",
    "\n",
    "c = \"12345\"\n",
    "c[0:4]\n",
    "\n",
    "b[:3]\n",
    "b[3:]\n",
    "\n",
    "a[0:6]\n",
    "a[0:6:1] # 한 자리마다 출력\n",
    "a[0:6:2] # 두 자리마다 출력\n",
    "a[0:6:3] # 세 자리마다 출력\n",
    "\n",
    "a[5]\n",
    "a[5][:2]"
   ]
  },
  {
   "cell_type": "markdown",
   "metadata": {},
   "source": [
    "###### 리스트 연산"
   ]
  },
  {
   "cell_type": "code",
   "execution_count": 74,
   "metadata": {},
   "outputs": [
    {
     "data": {
      "text/plain": [
       "4"
      ]
     },
     "execution_count": 74,
     "metadata": {},
     "output_type": "execute_result"
    }
   ],
   "source": [
    "a = [1, 2, 3, 4]\n",
    "b = [6, 7, 8, 9]\n",
    "\n",
    "a + b\n",
    "a * 2\n",
    "\n",
    "len(a)"
   ]
  },
  {
   "cell_type": "code",
   "execution_count": 80,
   "metadata": {},
   "outputs": [
    {
     "data": {
      "text/plain": [
       "[6, 7, 8, 9, 'good']"
      ]
     },
     "execution_count": 80,
     "metadata": {},
     "output_type": "execute_result"
    }
   ],
   "source": [
    "k = [12345678]\n",
    "len(k)\n",
    "\n",
    "m = '12345678'\n",
    "len(m)\n",
    "\n",
    "c = 'good'\n",
    "# b + c\n",
    "\n",
    "c = ['good']\n",
    "b + c"
   ]
  },
  {
   "cell_type": "code",
   "execution_count": 84,
   "metadata": {},
   "outputs": [
    {
     "name": "stdout",
     "output_type": "stream",
     "text": [
      "[1, 2, 3, 9]\n"
     ]
    },
    {
     "ename": "TypeError",
     "evalue": "'str' object does not support item assignment",
     "output_type": "error",
     "traceback": [
      "\u001b[1;31m---------------------------------------------------------------------------\u001b[0m",
      "\u001b[1;31mTypeError\u001b[0m                                 Traceback (most recent call last)",
      "\u001b[1;32mc:\\Users\\rproject\\Desktop\\데이터청년캠퍼스\\dachungcam\\1week.ipynb Cell 40'\u001b[0m in \u001b[0;36m<cell line: 6>\u001b[1;34m()\u001b[0m\n\u001b[0;32m      <a href='vscode-notebook-cell:/c%3A/Users/rproject/Desktop/%EB%8D%B0%EC%9D%B4%ED%84%B0%EC%B2%AD%EB%85%84%EC%BA%A0%ED%8D%BC%EC%8A%A4/dachungcam/1week.ipynb#ch0000044?line=3'>4</a>\u001b[0m n \u001b[39m=\u001b[39m \u001b[39m'\u001b[39m\u001b[39m1234\u001b[39m\u001b[39m'\u001b[39m\n\u001b[0;32m      <a href='vscode-notebook-cell:/c%3A/Users/rproject/Desktop/%EB%8D%B0%EC%9D%B4%ED%84%B0%EC%B2%AD%EB%85%84%EC%BA%A0%ED%8D%BC%EC%8A%A4/dachungcam/1week.ipynb#ch0000044?line=4'>5</a>\u001b[0m n[\u001b[39m3\u001b[39m]\n\u001b[1;32m----> <a href='vscode-notebook-cell:/c%3A/Users/rproject/Desktop/%EB%8D%B0%EC%9D%B4%ED%84%B0%EC%B2%AD%EB%85%84%EC%BA%A0%ED%8D%BC%EC%8A%A4/dachungcam/1week.ipynb#ch0000044?line=5'>6</a>\u001b[0m n[\u001b[39m3\u001b[39m] \u001b[39m=\u001b[39m \u001b[39m'\u001b[39m\u001b[39m9\u001b[39m\u001b[39m'\u001b[39m\n",
      "\u001b[1;31mTypeError\u001b[0m: 'str' object does not support item assignment"
     ]
    }
   ],
   "source": [
    "a[3] = 9\n",
    "print(a)\n",
    "\n",
    "n = '1234'\n",
    "n[3]\n",
    "n[3] = '9' # 문자열 수정 X"
   ]
  },
  {
   "cell_type": "markdown",
   "metadata": {},
   "source": [
    "###### 리스트 연산 함수"
   ]
  },
  {
   "cell_type": "code",
   "execution_count": 88,
   "metadata": {},
   "outputs": [
    {
     "data": {
      "text/plain": [
       "6"
      ]
     },
     "execution_count": 88,
     "metadata": {},
     "output_type": "execute_result"
    }
   ],
   "source": [
    "a = [1, 2, 3, 4, [a, b, c]]\n",
    "b = [6, 7, 8, 9]\n",
    "\n",
    "len(a)\n",
    "# sum(a)\n",
    "sum(b)\n",
    "max(b)\n",
    "min(b)"
   ]
  },
  {
   "cell_type": "code",
   "execution_count": 92,
   "metadata": {},
   "outputs": [
    {
     "name": "stdout",
     "output_type": "stream",
     "text": [
      "[]\n",
      "[9]\n"
     ]
    },
    {
     "data": {
      "text/plain": [
       "'9'"
      ]
     },
     "execution_count": 92,
     "metadata": {},
     "output_type": "execute_result"
    }
   ],
   "source": [
    "del(b[0]) #b[0] 삭제\n",
    "print(b)\n",
    "\n",
    "b = [6, 7, 8, 9]\n",
    "del b[:3]\n",
    "print(b)\n",
    "\n",
    "str(b[0]) # 숫자형 -> 문자형 변경"
   ]
  },
  {
   "cell_type": "code",
   "execution_count": 94,
   "metadata": {},
   "outputs": [
    {
     "name": "stdout",
     "output_type": "stream",
     "text": [
      "['6', '7', '8', '9', '10']\n",
      "['6', '7', '8', '9', '10', ['11', '12']]\n"
     ]
    }
   ],
   "source": [
    "b = ['6', '7', '8', '9']\n",
    "\n",
    "b.append('10') # 기존 리스트에 추가\n",
    "print(b)\n",
    "\n",
    "b.append(['11', '12'])\n",
    "print(b)"
   ]
  },
  {
   "cell_type": "code",
   "execution_count": 95,
   "metadata": {},
   "outputs": [
    {
     "name": "stdout",
     "output_type": "stream",
     "text": [
      "['6', '9', '8', '7']\n",
      "['6', '7', '8', '9']\n"
     ]
    }
   ],
   "source": [
    "c = ['6', '9', '8', '7']\n",
    "print(c)\n",
    "\n",
    "c.sort()\n",
    "print(c)"
   ]
  },
  {
   "cell_type": "code",
   "execution_count": 96,
   "metadata": {},
   "outputs": [
    {
     "name": "stdout",
     "output_type": "stream",
     "text": [
      "['x', 'y', 'z']\n"
     ]
    }
   ],
   "source": [
    "d = ['x', 'z', 'y']\n",
    "\n",
    "d.sort()\n",
    "print(d)"
   ]
  },
  {
   "cell_type": "code",
   "execution_count": 100,
   "metadata": {},
   "outputs": [
    {
     "name": "stdout",
     "output_type": "stream",
     "text": [
      "['7', '8', '9', '6']\n",
      "['7', '8', '9', '6', '10']\n",
      "['5', '7', '8', '9', '6', '10']\n"
     ]
    }
   ],
   "source": [
    "c = ['6', '9', '8', '7']\n",
    "c.reverse() # 역순으로 변환\n",
    "print(c)\n",
    "\n",
    "c.index('9')\n",
    "# c.index('5')\n",
    "\n",
    "c.insert(4, '10') # 4번 인덱스에 10 추가\n",
    "print(c)\n",
    "\n",
    "c.insert(0, '5')\n",
    "print(c)"
   ]
  },
  {
   "cell_type": "code",
   "execution_count": 105,
   "metadata": {},
   "outputs": [
    {
     "name": "stdout",
     "output_type": "stream",
     "text": [
      "['3', '3', '4', '5']\n",
      "['3', '3', '5']\n",
      "['3', '3']\n",
      "['3']\n",
      "[]\n"
     ]
    }
   ],
   "source": [
    "e = ['3', '4', '3', '4', '5']\n",
    "\n",
    "e.remove('4')\n",
    "print(e)\n",
    "\n",
    "e.remove('4')\n",
    "print(e)\n",
    "\n",
    "e.pop() # 마지막 요소 보여준 후, 삭제\n",
    "print(e)\n",
    "\n",
    "e.pop(1) # 1번 인덱스 요소 삭제\n",
    "print(e)\n",
    "\n",
    "e.pop(0)\n",
    "print(e)"
   ]
  },
  {
   "cell_type": "code",
   "execution_count": 107,
   "metadata": {},
   "outputs": [
    {
     "name": "stdout",
     "output_type": "stream",
     "text": [
      "[6, 6, 6, 6, 6, 7, 8, 9, 4, 5]\n",
      "[6, 6, 6, 6, 6, 7, 8, 9, 4, 5, [4, 5]]\n"
     ]
    }
   ],
   "source": [
    "c = [6, 6, 6, 6, 6, 7, 8, 9]\n",
    "\n",
    "c.count(6)\n",
    "c.extend([4, 5]) # 요소 추가, 입력은 리스트만 가능\n",
    "print(c)\n",
    "\n",
    "c.append([4, 5])\n",
    "print(c)"
   ]
  },
  {
   "cell_type": "markdown",
   "metadata": {},
   "source": [
    "##### Tuple Type"
   ]
  },
  {
   "cell_type": "markdown",
   "metadata": {},
   "source": [
    "- 리스트는 대괄호, 튜플은 소괄호 사용\n",
    "- 리스트는 수정 가능, 튜플은 수정 불가능\n",
    "- 한 개의 요소만 갖는 경우, 마지막에 콤마(,) 필요 -> 그렇지 않으면 정수 타입 생성\n",
    "- 값이 자주 변경되면 리스트, 항상 변하지 않으면 튜플"
   ]
  },
  {
   "cell_type": "code",
   "execution_count": 112,
   "metadata": {},
   "outputs": [
    {
     "data": {
      "text/plain": [
       "tuple"
      ]
     },
     "execution_count": 112,
     "metadata": {},
     "output_type": "execute_result"
    }
   ],
   "source": [
    "a = tuple()\n",
    "a = ()\n",
    "type(a)\n",
    "\n",
    "b = (1,)\n",
    "type(b)\n",
    "\n",
    "c = (1, 2, 3)\n",
    "type(c)\n",
    "\n",
    "d = 1, 2, 3 # 괄호 생략 가능\n",
    "type(d)\n",
    "\n",
    "e = 1, 2, ('ab', 'cd'), 3, 4\n",
    "type(e)"
   ]
  },
  {
   "cell_type": "code",
   "execution_count": 121,
   "metadata": {},
   "outputs": [
    {
     "name": "stdout",
     "output_type": "stream",
     "text": [
      "1 2 3\n",
      "1\n"
     ]
    }
   ],
   "source": [
    "e[0]\n",
    "\n",
    "# 튜플은 수정/변경 불가\n",
    "# del e[0]\n",
    "# e.remove[1]\n",
    "\n",
    "e[:]\n",
    "\n",
    "c + e\n",
    "c * 2\n",
    "len(c)\n",
    "\n",
    "x, y, z = (1, 2, 3)\n",
    "print(x, y, z)\n",
    "print(x)"
   ]
  },
  {
   "cell_type": "markdown",
   "metadata": {},
   "source": [
    "##### Dict Type"
   ]
  },
  {
   "cell_type": "markdown",
   "metadata": {},
   "source": [
    "- key와 value를 한 쌍으로 가지고 있음"
   ]
  },
  {
   "cell_type": "code",
   "execution_count": 126,
   "metadata": {},
   "outputs": [
    {
     "ename": "KeyError",
     "evalue": "'Kristina'",
     "output_type": "error",
     "traceback": [
      "\u001b[1;31m---------------------------------------------------------------------------\u001b[0m",
      "\u001b[1;31mKeyError\u001b[0m                                  Traceback (most recent call last)",
      "\u001b[1;32mc:\\Users\\rproject\\Desktop\\데이터청년캠퍼스\\dachungcam\\1week.ipynb Cell 56'\u001b[0m in \u001b[0;36m<cell line: 9>\u001b[1;34m()\u001b[0m\n\u001b[0;32m      <a href='vscode-notebook-cell:/c%3A/Users/rproject/Desktop/%EB%8D%B0%EC%9D%B4%ED%84%B0%EC%B2%AD%EB%85%84%EC%BA%A0%ED%8D%BC%EC%8A%A4/dachungcam/1week.ipynb#ch0000058?line=5'>6</a>\u001b[0m a[\u001b[39m'\u001b[39m\u001b[39mage\u001b[39m\u001b[39m'\u001b[39m]\n\u001b[0;32m      <a href='vscode-notebook-cell:/c%3A/Users/rproject/Desktop/%EB%8D%B0%EC%9D%B4%ED%84%B0%EC%B2%AD%EB%85%84%EC%BA%A0%ED%8D%BC%EC%8A%A4/dachungcam/1week.ipynb#ch0000058?line=7'>8</a>\u001b[0m \u001b[39m# a[0]\u001b[39;00m\n\u001b[1;32m----> <a href='vscode-notebook-cell:/c%3A/Users/rproject/Desktop/%EB%8D%B0%EC%9D%B4%ED%84%B0%EC%B2%AD%EB%85%84%EC%BA%A0%ED%8D%BC%EC%8A%A4/dachungcam/1week.ipynb#ch0000058?line=8'>9</a>\u001b[0m a[\u001b[39m'\u001b[39;49m\u001b[39mKristina\u001b[39;49m\u001b[39m'\u001b[39;49m]\n",
      "\u001b[1;31mKeyError\u001b[0m: 'Kristina'"
     ]
    }
   ],
   "source": [
    "a = {'gender':'Female', 'age':30, 'name':'Kristina'}\n",
    "type(a)\n",
    "\n",
    "# key 값을 입력하면, 그에 해당하는 value 반환\n",
    "a['gender']\n",
    "a['age']\n",
    "\n",
    "# a[0]\n",
    "a['Kristina']"
   ]
  },
  {
   "cell_type": "code",
   "execution_count": 128,
   "metadata": {},
   "outputs": [
    {
     "name": "stdout",
     "output_type": "stream",
     "text": [
      "{1: 'good'}\n",
      "{'a': [1, 3, 5]}\n",
      "{'a': (1, 3, 5)}\n"
     ]
    }
   ],
   "source": [
    "b = {1:'good'}\n",
    "print(b)\n",
    "\n",
    "c = {'a':[1, 3, 5]}\n",
    "print(c)\n",
    "\n",
    "d = {'a':(1, 3, 5)}\n",
    "print(d)"
   ]
  },
  {
   "cell_type": "code",
   "execution_count": 131,
   "metadata": {},
   "outputs": [],
   "source": [
    "# key 자리에 리스트 사용 X\n",
    "# c = {[1, 3, 5 : 'a']}\n",
    "\n",
    "# 튜플 사용 O\n",
    "d = {(1, 3, 5) : 'a'}"
   ]
  },
  {
   "cell_type": "code",
   "execution_count": 133,
   "metadata": {},
   "outputs": [
    {
     "name": "stdout",
     "output_type": "stream",
     "text": [
      "{'gender': 'Femal', 'age': 30}\n",
      "{'gender': 'Femal', 'age': 30, 'name': 'Kristina'}\n",
      "{'gender': 'Femal', 'age': 30, 'name': 'Kristina', 'a': [1, 3, 5]}\n"
     ]
    }
   ],
   "source": [
    "a = {'gender' : 'Femal'}\n",
    "a['age'] = 30 # key value 추가\n",
    "print(a)\n",
    "\n",
    "a['name'] = 'Kristina'\n",
    "print(a)\n",
    "\n",
    "a['a'] = [1, 3, 5]\n",
    "print(a)"
   ]
  },
  {
   "cell_type": "code",
   "execution_count": 134,
   "metadata": {},
   "outputs": [
    {
     "name": "stdout",
     "output_type": "stream",
     "text": [
      "{'gender': 'Femal', 'age': 30, 'name': 'Kristina'}\n",
      "{'gender': 'Femal', 'age': 30}\n"
     ]
    }
   ],
   "source": [
    "# key와 value 한 쌍이 같이 삭제\n",
    "del a['a']\n",
    "print(a)\n",
    "\n",
    "del a['name']\n",
    "print(a)"
   ]
  },
  {
   "cell_type": "code",
   "execution_count": 140,
   "metadata": {},
   "outputs": [
    {
     "name": "stdout",
     "output_type": "stream",
     "text": [
      "{}\n"
     ]
    }
   ],
   "source": [
    "a = {'gender':'Female', 'age':30, 'name':'Kristina'}\n",
    "\n",
    "a.keys()\n",
    "list(a.keys())\n",
    "\n",
    "a.values()\n",
    "a.items()\n",
    "\n",
    "a.clear() # 딕셔너리 내 모든 요소 삭제\n",
    "print(a)"
   ]
  },
  {
   "cell_type": "code",
   "execution_count": 144,
   "metadata": {},
   "outputs": [
    {
     "data": {
      "text/plain": [
       "False"
      ]
     },
     "execution_count": 144,
     "metadata": {},
     "output_type": "execute_result"
    }
   ],
   "source": [
    "a = {'gender':'Female', 'age':30, 'name':'Kristina'}\n",
    "\n",
    "a.get('gender')\n",
    "a.get('height', '?') # key가 딕셔너리 내에 값이 없을 때, ?로 표현\n",
    "\n",
    "# 값이 있으면 T, 없으면 F\n",
    "'gender' in a\n",
    "'height' in a"
   ]
  }
 ],
 "metadata": {
  "kernelspec": {
   "display_name": "Python 3.9.13 64-bit (windows store)",
   "language": "python",
   "name": "python3"
  },
  "language_info": {
   "codemirror_mode": {
    "name": "ipython",
    "version": 3
   },
   "file_extension": ".py",
   "mimetype": "text/x-python",
   "name": "python",
   "nbconvert_exporter": "python",
   "pygments_lexer": "ipython3",
   "version": "3.9.13"
  },
  "orig_nbformat": 4,
  "vscode": {
   "interpreter": {
    "hash": "c567e38bbba99904a53d00386f4f69185e434fa5de320d43f5dd1fef59112ff0"
   }
  }
 },
 "nbformat": 4,
 "nbformat_minor": 2
}
